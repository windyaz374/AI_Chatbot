{
 "cells": [
  {
   "cell_type": "code",
   "execution_count": 12,
   "metadata": {},
   "outputs": [],
   "source": [
    "from ingest import RAGIngest\n",
    "from langchain.text_splitter import RecursiveCharacterTextSplitter\n",
    "from langchain_community.embeddings.ollama import OllamaEmbeddings"
   ]
  },
  {
   "cell_type": "code",
   "execution_count": 13,
   "metadata": {},
   "outputs": [
    {
     "name": "stderr",
     "output_type": "stream",
     "text": [
      "2024-09-28 10:24:03,496 - INFO - ingest.py:54 - Importing: thanhnien_travel_articles.pdf\n",
      "2024-09-28 10:24:03,512 - INFO - ingest.py:34 - Loading document batch\n",
      "2024-09-28 10:24:03,514 - INFO - ingest.py:23 - .DOCS/thanhnien_travel_articles.pdf loaded.\n",
      "/usr/local/lib/python3.10/dist-packages/pypdf/_crypt_providers/_cryptography.py:32: CryptographyDeprecationWarning: ARC4 has been moved to cryptography.hazmat.decrepit.ciphers.algorithms.ARC4 and will be removed from this module in 48.0.0.\n",
      "  from cryptography.hazmat.primitives.ciphers.algorithms import AES, ARC4\n",
      "huggingface/tokenizers: The current process just got forked, after parallelism has already been used. Disabling parallelism to avoid deadlocks...\n",
      "To disable this warning, you can either:\n",
      "\t- Avoid using `tokenizers` before the fork if possible\n",
      "\t- Explicitly set the environment variable TOKENIZERS_PARALLELISM=(true | false)\n"
     ]
    }
   ],
   "source": [
    "docs = RAGIngest.load_documents('.DOCS/')"
   ]
  },
  {
   "cell_type": "code",
   "execution_count": 14,
   "metadata": {},
   "outputs": [],
   "source": [
    "docs = docs[:5]"
   ]
  },
  {
   "cell_type": "code",
   "execution_count": 15,
   "metadata": {},
   "outputs": [
    {
     "data": {
      "text/plain": [
       "1"
      ]
     },
     "execution_count": 15,
     "metadata": {},
     "output_type": "execute_result"
    }
   ],
   "source": [
    "len(docs)"
   ]
  },
  {
   "cell_type": "code",
   "execution_count": 16,
   "metadata": {},
   "outputs": [
    {
     "name": "stdout",
     "output_type": "stream",
     "text": [
      "{'source': '.DOCS/thanhnien_travel_articles.pdf', 'page': 0}\n"
     ]
    }
   ],
   "source": [
    "for doc in docs:\n",
    "    print(doc.metadata)"
   ]
  },
  {
   "cell_type": "code",
   "execution_count": 17,
   "metadata": {},
   "outputs": [
    {
     "name": "stdout",
     "output_type": "stream",
     "text": [
      "Lý do các hãng hàng không Mỹ cấm hành khách đi chân trần trên\n",
      " máy bay\n",
      " \n",
      "Hành khách đi chân trần trên máy bay ngày càng đông nhưng không phải tất cả các\n",
      "hãng hàng không đều chấp nhận, nhiều hãng Mỹ cấm bay nếu khách không đi tất.\n",
      "Để lộ chân trần trên máy bay có thể khiến bạn bị \"đá\" khỏi một số hãng hàng không Mỹ.\n",
      "Định nghĩa \"chân trần\" bao gồm cả việc cởi tất khi đã lên máy bay.\n",
      "Ví dụ, American Airlines là một trong số nhiều hãng hàng không coi việc không đi tất là\n",
      "hành vi vi phạm quy định. Hợp đồng vận chuyển của hãng hàng không này buộc hành\n",
      "khách phải \"ăn mặc phù hợp\", đồng thời \"không được phép đi chân trần hoặc mặc quần\n",
      "áo phản cảm\".\n",
      "United Airlines cũng \"mong đợi\" hành khách tuân thủ quy định trên, phân loại hành\n",
      "khách đi chân trần là \"không mặc quần áo phù hợp\". Đây là lý do để \"đuổi\" khách khỏi\n",
      "máy bay theo hướng dẫn của hãng.\n",
      "Delta Airlines và Spirit Airlines cũng tuyên bố họ có quyền đuổi những hành khách\n",
      "không tuân thủ chính sách đi tất của hãng.\n",
      "Nhiều hãng hàng không đã vạch ra giới hạn độ tuổi cho chính sách này. Frontier\n",
      "Airlines cho biết có thể từ chối phục vụ hành khách đi chân trần trên 3 tuổi trừ khi họ \"đi\n",
      "chân trần vì lý do y tế\".\n",
      "Hợp đồng vận chuyển của Southwest Airlines và JetBlue cũng quy định tương tự,\n",
      "nhưng trên 5 tuổi.\n",
      "Các chuyên gia về chuyến bay trên diễn đàn hàng không One Mile At A Time lập luận\n",
      "quy định cấm chân trần \"không chỉ có nghĩa là bạn phải đi giày khi lên máy bay, nhưng\n",
      "thực tế là bạn cần phải đi giày\". Suy cho cùng, lệnh cấm quần áo phản cảm không chỉ\n",
      "áp dụng khi bạn lên máy bay.\n",
      "Mặc dù vậy, quyền đi chân trần đã trở thành điểm gây tranh cãi. Một số người ủng hộ\n",
      "việc đi máy bay không mang tất tuyên bố, việc \"bắt lỗi chân hành khách\" hay không lại\n",
      "tùy thuộc vào tiếp viên hàng không đang làm nhiệm vụ.\n",
      "Trong khi đó, họ chỉ ra rằng nhiều hợp đồng vận chuyển của các hãng hàng không\n",
      "không phải của Mỹ không bao gồm bất kỳ tham chiếu nào liên quan đến việc bay khi đi\n",
      "chân trần.\n",
      "Thế nhưng, hãng hàng không Qantas của Úc thậm chí còn không cho phép khách đi\n",
      "dép trong phòng chờ, theo One Mile At A Time.\n",
      "Thật không may, việc bay lên trời mà không đi tất không chỉ bị coi là thô lỗ mà còn tiềm\n",
      "ẩn nguy cơ gây hại cho sức khỏe, bởi sàn máy bay rất bẩn.\n",
      "\"Tôi sẽ không bao giờ đi chân trần trên máy bay\", một tiếp viên hàng không kỳ cựu của\n",
      "hãng hàng không lớn cho biết, theo WGN Morning News. \"Hành khách ngày nay có thể\n",
      "\n"
     ]
    }
   ],
   "source": [
    "print(docs[0].page_content)"
   ]
  },
  {
   "cell_type": "code",
   "execution_count": 18,
   "metadata": {},
   "outputs": [
    {
     "data": {
      "text/plain": [
       "[Document(page_content='Lý do các hãng hàng không Mỹ cấm hành khách đi chân trần trên\\n máy bay\\n \\nHành khách đi chân trần trên máy bay ngày càng đông nhưng không phải tất cả các\\nhãng hàng không đều chấp nhận, nhiều hãng Mỹ cấm bay nếu khách không đi tất.\\nĐể lộ chân trần trên máy bay có thể khiến bạn bị \"đá\" khỏi một số hãng hàng không Mỹ.\\nĐịnh nghĩa \"chân trần\" bao gồm cả việc cởi tất khi đã lên máy bay.\\nVí dụ, American Airlines là một trong số nhiều hãng hàng không coi việc không đi tất là\\nhành vi vi phạm quy định. Hợp đồng vận chuyển của hãng hàng không này buộc hành\\nkhách phải \"ăn mặc phù hợp\", đồng thời \"không được phép đi chân trần hoặc mặc quần\\náo phản cảm\".\\nUnited Airlines cũng \"mong đợi\" hành khách tuân thủ quy định trên, phân loại hành\\nkhách đi chân trần là \"không mặc quần áo phù hợp\". Đây là lý do để \"đuổi\" khách khỏi\\nmáy bay theo hướng dẫn của hãng.\\nDelta Airlines và Spirit Airlines cũng tuyên bố họ có quyền đuổi những hành khách\\nkhông tuân thủ chính sách đi tất của hãng.', metadata={'source': '.DOCS/thanhnien_travel_articles.pdf', 'page': 0}),\n",
       " Document(page_content='máy bay theo hướng dẫn của hãng.\\nDelta Airlines và Spirit Airlines cũng tuyên bố họ có quyền đuổi những hành khách\\nkhông tuân thủ chính sách đi tất của hãng.\\nNhiều hãng hàng không đã vạch ra giới hạn độ tuổi cho chính sách này. Frontier\\nAirlines cho biết có thể từ chối phục vụ hành khách đi chân trần trên 3 tuổi trừ khi họ \"đi\\nchân trần vì lý do y tế\".\\nHợp đồng vận chuyển của Southwest Airlines và JetBlue cũng quy định tương tự,\\nnhưng trên 5 tuổi.\\nCác chuyên gia về chuyến bay trên diễn đàn hàng không One Mile At A Time lập luận\\nquy định cấm chân trần \"không chỉ có nghĩa là bạn phải đi giày khi lên máy bay, nhưng\\nthực tế là bạn cần phải đi giày\". Suy cho cùng, lệnh cấm quần áo phản cảm không chỉ\\náp dụng khi bạn lên máy bay.\\nMặc dù vậy, quyền đi chân trần đã trở thành điểm gây tranh cãi. Một số người ủng hộ\\nviệc đi máy bay không mang tất tuyên bố, việc \"bắt lỗi chân hành khách\" hay không lại\\ntùy thuộc vào tiếp viên hàng không đang làm nhiệm vụ.', metadata={'source': '.DOCS/thanhnien_travel_articles.pdf', 'page': 0}),\n",
       " Document(page_content='việc đi máy bay không mang tất tuyên bố, việc \"bắt lỗi chân hành khách\" hay không lại\\ntùy thuộc vào tiếp viên hàng không đang làm nhiệm vụ.\\nTrong khi đó, họ chỉ ra rằng nhiều hợp đồng vận chuyển của các hãng hàng không\\nkhông phải của Mỹ không bao gồm bất kỳ tham chiếu nào liên quan đến việc bay khi đi\\nchân trần.\\nThế nhưng, hãng hàng không Qantas của Úc thậm chí còn không cho phép khách đi\\ndép trong phòng chờ, theo One Mile At A Time.\\nThật không may, việc bay lên trời mà không đi tất không chỉ bị coi là thô lỗ mà còn tiềm\\nẩn nguy cơ gây hại cho sức khỏe, bởi sàn máy bay rất bẩn.\\n\"Tôi sẽ không bao giờ đi chân trần trên máy bay\", một tiếp viên hàng không kỳ cựu của\\nhãng hàng không lớn cho biết, theo WGN Morning News. \"Hành khách ngày nay có thể', metadata={'source': '.DOCS/thanhnien_travel_articles.pdf', 'page': 0})]"
      ]
     },
     "execution_count": 18,
     "metadata": {},
     "output_type": "execute_result"
    }
   ],
   "source": [
    "text_splitter = RecursiveCharacterTextSplitter(\n",
    "    chunk_size=1000, chunk_overlap=200\n",
    ")\n",
    "chunks = text_splitter.split_documents(docs)\n",
    "chunks"
   ]
  },
  {
   "cell_type": "code",
   "execution_count": 19,
   "metadata": {},
   "outputs": [
    {
     "name": "stdout",
     "output_type": "stream",
     "text": [
      "=======\n",
      "Lý do các hãng hàng không Mỹ cấm hành khách đi chân trần trên\n",
      " máy bay\n",
      " \n",
      "Hành khách đi chân trần trên máy bay ngày càng đông nhưng không phải tất cả các\n",
      "hãng hàng không đều chấp nhận, nhiều hãng Mỹ cấm bay nếu khách không đi tất.\n",
      "Để lộ chân trần trên máy bay có thể khiến bạn bị \"đá\" khỏi một số hãng hàng không Mỹ.\n",
      "Định nghĩa \"chân trần\" bao gồm cả việc cởi tất khi đã lên máy bay.\n",
      "Ví dụ, American Airlines là một trong số nhiều hãng hàng không coi việc không đi tất là\n",
      "hành vi vi phạm quy định. Hợp đồng vận chuyển của hãng hàng không này buộc hành\n",
      "khách phải \"ăn mặc phù hợp\", đồng thời \"không được phép đi chân trần hoặc mặc quần\n",
      "áo phản cảm\".\n",
      "United Airlines cũng \"mong đợi\" hành khách tuân thủ quy định trên, phân loại hành\n",
      "khách đi chân trần là \"không mặc quần áo phù hợp\". Đây là lý do để \"đuổi\" khách khỏi\n",
      "máy bay theo hướng dẫn của hãng.\n",
      "Delta Airlines và Spirit Airlines cũng tuyên bố họ có quyền đuổi những hành khách\n",
      "không tuân thủ chính sách đi tất của hãng.\n",
      "=======\n",
      "máy bay theo hướng dẫn của hãng.\n",
      "Delta Airlines và Spirit Airlines cũng tuyên bố họ có quyền đuổi những hành khách\n",
      "không tuân thủ chính sách đi tất của hãng.\n",
      "Nhiều hãng hàng không đã vạch ra giới hạn độ tuổi cho chính sách này. Frontier\n",
      "Airlines cho biết có thể từ chối phục vụ hành khách đi chân trần trên 3 tuổi trừ khi họ \"đi\n",
      "chân trần vì lý do y tế\".\n",
      "Hợp đồng vận chuyển của Southwest Airlines và JetBlue cũng quy định tương tự,\n",
      "nhưng trên 5 tuổi.\n",
      "Các chuyên gia về chuyến bay trên diễn đàn hàng không One Mile At A Time lập luận\n",
      "quy định cấm chân trần \"không chỉ có nghĩa là bạn phải đi giày khi lên máy bay, nhưng\n",
      "thực tế là bạn cần phải đi giày\". Suy cho cùng, lệnh cấm quần áo phản cảm không chỉ\n",
      "áp dụng khi bạn lên máy bay.\n",
      "Mặc dù vậy, quyền đi chân trần đã trở thành điểm gây tranh cãi. Một số người ủng hộ\n",
      "việc đi máy bay không mang tất tuyên bố, việc \"bắt lỗi chân hành khách\" hay không lại\n",
      "tùy thuộc vào tiếp viên hàng không đang làm nhiệm vụ.\n",
      "=======\n",
      "việc đi máy bay không mang tất tuyên bố, việc \"bắt lỗi chân hành khách\" hay không lại\n",
      "tùy thuộc vào tiếp viên hàng không đang làm nhiệm vụ.\n",
      "Trong khi đó, họ chỉ ra rằng nhiều hợp đồng vận chuyển của các hãng hàng không\n",
      "không phải của Mỹ không bao gồm bất kỳ tham chiếu nào liên quan đến việc bay khi đi\n",
      "chân trần.\n",
      "Thế nhưng, hãng hàng không Qantas của Úc thậm chí còn không cho phép khách đi\n",
      "dép trong phòng chờ, theo One Mile At A Time.\n",
      "Thật không may, việc bay lên trời mà không đi tất không chỉ bị coi là thô lỗ mà còn tiềm\n",
      "ẩn nguy cơ gây hại cho sức khỏe, bởi sàn máy bay rất bẩn.\n",
      "\"Tôi sẽ không bao giờ đi chân trần trên máy bay\", một tiếp viên hàng không kỳ cựu của\n",
      "hãng hàng không lớn cho biết, theo WGN Morning News. \"Hành khách ngày nay có thể\n"
     ]
    }
   ],
   "source": [
    "for doc in chunks:\n",
    "    print('=======')\n",
    "    print(doc.page_content)"
   ]
  },
  {
   "cell_type": "code",
   "execution_count": 20,
   "metadata": {},
   "outputs": [
    {
     "data": {
      "text/plain": [
       "3"
      ]
     },
     "execution_count": 20,
     "metadata": {},
     "output_type": "execute_result"
    }
   ],
   "source": [
    "len(chunks)"
   ]
  },
  {
   "cell_type": "code",
   "execution_count": 21,
   "metadata": {},
   "outputs": [
    {
     "name": "stderr",
     "output_type": "stream",
     "text": [
      "2024-09-28 10:24:03,920 - INFO - SentenceTransformer.py:66 - Load pretrained SentenceTransformer: hkunlp/instructor-large\n"
     ]
    },
    {
     "name": "stdout",
     "output_type": "stream",
     "text": [
      "load INSTRUCTOR_Transformer\n",
      "max_seq_length  512\n"
     ]
    },
    {
     "name": "stderr",
     "output_type": "stream",
     "text": [
      "/usr/local/lib/python3.10/dist-packages/transformers/tokenization_utils_base.py:1601: FutureWarning: `clean_up_tokenization_spaces` was not set. It will be set to `True` by default. This behavior will be depracted in transformers v4.45, and will be then set to `False` by default. For more details check this issue: https://github.com/huggingface/transformers/issues/31884\n",
      "  warnings.warn(\n",
      "/usr/local/lib/python3.10/dist-packages/sentence_transformers/models/Dense.py:63: FutureWarning: You are using `torch.load` with `weights_only=False` (the current default value), which uses the default pickle module implicitly. It is possible to construct malicious pickle data which will execute arbitrary code during unpickling (See https://github.com/pytorch/pytorch/blob/main/SECURITY.md#untrusted-models for more details). In a future release, the default value for `weights_only` will be flipped to `True`. This limits the functions that could be executed during unpickling. Arbitrary objects will no longer be allowed to be loaded via this mode unless they are explicitly allowlisted by the user via `torch.serialization.add_safe_globals`. We recommend you start setting `weights_only=True` for any use case where you don't have full control of the loaded file. Please open an issue on GitHub for any issues related to this experimental feature.\n",
      "  model.load_state_dict(torch.load(os.path.join(input_path, 'pytorch_model.bin'), map_location=torch.device('cpu')))\n"
     ]
    }
   ],
   "source": [
    "from langchain.embeddings import HuggingFaceInstructEmbeddings\n",
    "import torch\n",
    "device = \"cuda\" if torch.cuda.is_available() else \"cpu\"\n",
    "\n",
    "embeddings = HuggingFaceInstructEmbeddings(\n",
    "    model_name=\"hkunlp/instructor-large\",\n",
    "    model_kwargs={\"device\": device},\n",
    ")"
   ]
  },
  {
   "cell_type": "code",
   "execution_count": 22,
   "metadata": {},
   "outputs": [
    {
     "name": "stderr",
     "output_type": "stream",
     "text": [
      "2024-09-28 10:24:04,152 - INFO - semantic_chunking_helper.py:33 - Do semantic chunking\n",
      "2024-09-28 10:24:04,153 - INFO - semantic_chunking_helper.py:53 - semantic_chunking.split_sentences_from_docs: Found 22 sentences\n",
      "2024-09-28 10:24:04,153 - INFO - semantic_chunking_helper.py:66 - semantic_chunking.combine_sentences\n",
      "2024-09-28 10:24:04,154 - INFO - semantic_chunking_helper.py:127 - semantic_chunking.embed_documents_from_combined_sentences\n",
      "2024-09-28 10:24:09,830 - INFO - semantic_chunking_helper.py:100 - semantic_chunking.calculate_cosine_distances\n",
      "2024-09-28 10:24:09,839 - INFO - semantic_chunking_helper.py:174 - semantic_chunking.get_chunks: Found 11 chunks\n"
     ]
    }
   ],
   "source": [
    "from semantic_chunking_helper import SematicChunkingHelper\n",
    "\n",
    "semantic_chunking = SematicChunkingHelper(\n",
    "    docs=docs, embeddings=embeddings, buffer_size=2, breakpoint_threshold=50\n",
    ")"
   ]
  },
  {
   "cell_type": "code",
   "execution_count": 23,
   "metadata": {},
   "outputs": [
    {
     "data": {
      "text/plain": [
       "11"
      ]
     },
     "execution_count": 23,
     "metadata": {},
     "output_type": "execute_result"
    }
   ],
   "source": [
    "text_chunks = semantic_chunking.text_chunks\n",
    "len(text_chunks)"
   ]
  },
  {
   "cell_type": "code",
   "execution_count": 24,
   "metadata": {},
   "outputs": [
    {
     "name": "stdout",
     "output_type": "stream",
     "text": [
      "=====\n",
      "Lý do các hãng hàng không Mỹ cấm hành khách đi chân trần trên\n",
      " máy bay\n",
      " Hành khách đi chân trần trên máy bay ngày càng đông nhưng không phải tất cả các\n",
      "hãng hàng không đều chấp nhận, nhiều hãng Mỹ cấm bay nếu khách không đi tất.\n",
      "=====\n",
      "Để lộ chân trần trên máy bay có thể khiến bạn bị \"đá\" khỏi một số hãng hàng không Mỹ. Định nghĩa \"chân trần\" bao gồm cả việc cởi tất khi đã lên máy bay.\n",
      "=====\n",
      "Ví dụ, American Airlines là một trong số nhiều hãng hàng không coi việc không đi tất là\n",
      "hành vi vi phạm quy định. Hợp đồng vận chuyển của hãng hàng không này buộc hành\n",
      "khách phải \"ăn mặc phù hợp\", đồng thời \"không được phép đi chân trần hoặc mặc quần\n",
      "áo phản cảm\". United Airlines cũng \"mong đợi\" hành khách tuân thủ quy định trên, phân loại hành\n",
      "khách đi chân trần là \"không mặc quần áo phù hợp\".\n",
      "=====\n",
      "Đây là lý do để \"đuổi\" khách khỏi\n",
      "máy bay theo hướng dẫn của hãng. Delta Airlines và Spirit Airlines cũng tuyên bố họ có quyền đuổi những hành khách\n",
      "không tuân thủ chính sách đi tất của hãng.\n",
      "=====\n",
      "Nhiều hãng hàng không đã vạch ra giới hạn độ tuổi cho chính sách này.\n",
      "=====\n",
      "Frontier\n",
      "Airlines cho biết có thể từ chối phục vụ hành khách đi chân trần trên 3 tuổi trừ khi họ \"đi\n",
      "chân trần vì lý do y tế\".\n",
      "=====\n",
      "Hợp đồng vận chuyển của Southwest Airlines và JetBlue cũng quy định tương tự,\n",
      "nhưng trên 5 tuổi. Các chuyên gia về chuyến bay trên diễn đàn hàng không One Mile At A Time lập luận\n",
      "quy định cấm chân trần \"không chỉ có nghĩa là bạn phải đi giày khi lên máy bay, nhưng\n",
      "thực tế là bạn cần phải đi giày\".\n",
      "=====\n",
      "Suy cho cùng, lệnh cấm quần áo phản cảm không chỉ\n",
      "áp dụng khi bạn lên máy bay.\n",
      "=====\n",
      "Mặc dù vậy, quyền đi chân trần đã trở thành điểm gây tranh cãi.\n",
      "=====\n",
      "Một số người ủng hộ\n",
      "việc đi máy bay không mang tất tuyên bố, việc \"bắt lỗi chân hành khách\" hay không lại\n",
      "tùy thuộc vào tiếp viên hàng không đang làm nhiệm vụ. Trong khi đó, họ chỉ ra rằng nhiều hợp đồng vận chuyển của các hãng hàng không\n",
      "không phải của Mỹ không bao gồm bất kỳ tham chiếu nào liên quan đến việc bay khi đi\n",
      "chân trần. Thế nhưng, hãng hàng không Qantas của Úc thậm chí còn không cho phép khách đi\n",
      "dép trong phòng chờ, theo One Mile At A Time. Thật không may, việc bay lên trời mà không đi tất không chỉ bị coi là thô lỗ mà còn tiềm\n",
      "ẩn nguy cơ gây hại cho sức khỏe, bởi sàn máy bay rất bẩn. \"Tôi sẽ không bao giờ đi chân trần trên máy bay\", một tiếp viên hàng không kỳ cựu của\n",
      "hãng hàng không lớn cho biết, theo WGN Morning News.\n",
      "=====\n",
      "\"Hành khách ngày nay có thể\n",
      "\n"
     ]
    }
   ],
   "source": [
    "for chunk in text_chunks:\n",
    "    print('=====')\n",
    "    print(chunk)"
   ]
  },
  {
   "cell_type": "code",
   "execution_count": 25,
   "metadata": {},
   "outputs": [
    {
     "name": "stderr",
     "output_type": "stream",
     "text": [
      "2024-09-28 10:24:09,859 - INFO - semantic_chunking_helper.py:33 - Do semantic chunking\n",
      "2024-09-28 10:24:09,860 - INFO - semantic_chunking_helper.py:53 - semantic_chunking.split_sentences_from_docs: Found 25 sentences\n",
      "2024-09-28 10:24:09,860 - INFO - semantic_chunking_helper.py:66 - semantic_chunking.combine_sentences\n",
      "2024-09-28 10:24:09,861 - INFO - semantic_chunking_helper.py:127 - semantic_chunking.embed_documents_from_combined_sentences\n",
      "2024-09-28 10:24:12,971 - INFO - semantic_chunking_helper.py:100 - semantic_chunking.calculate_cosine_distances\n",
      "2024-09-28 10:24:12,979 - INFO - semantic_chunking_helper.py:174 - semantic_chunking.get_chunks: Found 13 chunks\n"
     ]
    },
    {
     "data": {
      "text/plain": [
       "['Lý do các hãng hàng không Mỹ cấm hành khách đi chân trần trên\\n máy bay\\n Hành khách đi chân trần trên máy bay ngày càng đông nhưng không phải tất cả các\\nhãng hàng không đều chấp nhận, nhiều hãng Mỹ cấm bay nếu khách không đi tất.',\n",
       " 'Để lộ chân trần trên máy bay có thể khiến bạn bị \"đá\" khỏi một số hãng hàng không Mỹ. Định nghĩa \"chân trần\" bao gồm cả việc cởi tất khi đã lên máy bay.',\n",
       " 'Ví dụ, American Airlines là một trong số nhiều hãng hàng không coi việc không đi tất là\\nhành vi vi phạm quy định. Hợp đồng vận chuyển của hãng hàng không này buộc hành\\nkhách phải \"ăn mặc phù hợp\", đồng thời \"không được phép đi chân trần hoặc mặc quần\\náo phản cảm\". United Airlines cũng \"mong đợi\" hành khách tuân thủ quy định trên, phân loại hành\\nkhách đi chân trần là \"không mặc quần áo phù hợp\". Đây là lý do để \"đuổi\" khách khỏi\\nmáy bay theo hướng dẫn của hãng. Delta Airlines và Spirit Airlines cũng tuyên bố họ có quyền đuổi những hành khách\\nkhông tuân thủ chính sách đi tất của hãng.',\n",
       " 'máy bay theo hướng dẫn của hãng.',\n",
       " 'Delta Airlines và Spirit Airlines cũng tuyên bố họ có quyền đuổi những hành khách\\nkhông tuân thủ chính sách đi tất của hãng.',\n",
       " 'Nhiều hãng hàng không đã vạch ra giới hạn độ tuổi cho chính sách này.',\n",
       " 'Frontier\\nAirlines cho biết có thể từ chối phục vụ hành khách đi chân trần trên 3 tuổi trừ khi họ \"đi\\nchân trần vì lý do y tế\". Hợp đồng vận chuyển của Southwest Airlines và JetBlue cũng quy định tương tự,\\nnhưng trên 5 tuổi. Các chuyên gia về chuyến bay trên diễn đàn hàng không One Mile At A Time lập luận\\nquy định cấm chân trần \"không chỉ có nghĩa là bạn phải đi giày khi lên máy bay, nhưng\\nthực tế là bạn cần phải đi giày\".',\n",
       " 'Suy cho cùng, lệnh cấm quần áo phản cảm không chỉ\\náp dụng khi bạn lên máy bay.',\n",
       " 'Mặc dù vậy, quyền đi chân trần đã trở thành điểm gây tranh cãi.',\n",
       " 'Một số người ủng hộ\\nviệc đi máy bay không mang tất tuyên bố, việc \"bắt lỗi chân hành khách\" hay không lại\\ntùy thuộc vào tiếp viên hàng không đang làm nhiệm vụ.',\n",
       " 'việc đi máy bay không mang tất tuyên bố, việc \"bắt lỗi chân hành khách\" hay không lại\\ntùy thuộc vào tiếp viên hàng không đang làm nhiệm vụ.',\n",
       " 'Trong khi đó, họ chỉ ra rằng nhiều hợp đồng vận chuyển của các hãng hàng không\\nkhông phải của Mỹ không bao gồm bất kỳ tham chiếu nào liên quan đến việc bay khi đi\\nchân trần. Thế nhưng, hãng hàng không Qantas của Úc thậm chí còn không cho phép khách đi\\ndép trong phòng chờ, theo One Mile At A Time. Thật không may, việc bay lên trời mà không đi tất không chỉ bị coi là thô lỗ mà còn tiềm\\nẩn nguy cơ gây hại cho sức khỏe, bởi sàn máy bay rất bẩn. \"Tôi sẽ không bao giờ đi chân trần trên máy bay\", một tiếp viên hàng không kỳ cựu của\\nhãng hàng không lớn cho biết, theo WGN Morning News.',\n",
       " '\"Hành khách ngày nay có thể']"
      ]
     },
     "execution_count": 25,
     "metadata": {},
     "output_type": "execute_result"
    }
   ],
   "source": [
    "from semantic_chunking_helper import SematicChunkingHelper\n",
    "\n",
    "chunk_from_chunk = SematicChunkingHelper(\n",
    "    docs=chunks, embeddings=embeddings, buffer_size=2, breakpoint_threshold=50\n",
    ")\n",
    "chunk_from_chunk.text_chunks"
   ]
  },
  {
   "cell_type": "code",
   "execution_count": 26,
   "metadata": {},
   "outputs": [
    {
     "data": {
      "text/plain": [
       "13"
      ]
     },
     "execution_count": 26,
     "metadata": {},
     "output_type": "execute_result"
    }
   ],
   "source": [
    "len(chunk_from_chunk.text_chunks)"
   ]
  },
  {
   "cell_type": "code",
   "execution_count": 27,
   "metadata": {},
   "outputs": [
    {
     "name": "stdout",
     "output_type": "stream",
     "text": [
      "=====\n",
      "Lý do các hãng hàng không Mỹ cấm hành khách đi chân trần trên\n",
      " máy bay\n",
      " Hành khách đi chân trần trên máy bay ngày càng đông nhưng không phải tất cả các\n",
      "hãng hàng không đều chấp nhận, nhiều hãng Mỹ cấm bay nếu khách không đi tất.\n",
      "=====\n",
      "Để lộ chân trần trên máy bay có thể khiến bạn bị \"đá\" khỏi một số hãng hàng không Mỹ. Định nghĩa \"chân trần\" bao gồm cả việc cởi tất khi đã lên máy bay.\n",
      "=====\n",
      "Ví dụ, American Airlines là một trong số nhiều hãng hàng không coi việc không đi tất là\n",
      "hành vi vi phạm quy định. Hợp đồng vận chuyển của hãng hàng không này buộc hành\n",
      "khách phải \"ăn mặc phù hợp\", đồng thời \"không được phép đi chân trần hoặc mặc quần\n",
      "áo phản cảm\". United Airlines cũng \"mong đợi\" hành khách tuân thủ quy định trên, phân loại hành\n",
      "khách đi chân trần là \"không mặc quần áo phù hợp\". Đây là lý do để \"đuổi\" khách khỏi\n",
      "máy bay theo hướng dẫn của hãng. Delta Airlines và Spirit Airlines cũng tuyên bố họ có quyền đuổi những hành khách\n",
      "không tuân thủ chính sách đi tất của hãng.\n",
      "=====\n",
      "máy bay theo hướng dẫn của hãng.\n",
      "=====\n",
      "Delta Airlines và Spirit Airlines cũng tuyên bố họ có quyền đuổi những hành khách\n",
      "không tuân thủ chính sách đi tất của hãng.\n",
      "=====\n",
      "Nhiều hãng hàng không đã vạch ra giới hạn độ tuổi cho chính sách này.\n",
      "=====\n",
      "Frontier\n",
      "Airlines cho biết có thể từ chối phục vụ hành khách đi chân trần trên 3 tuổi trừ khi họ \"đi\n",
      "chân trần vì lý do y tế\". Hợp đồng vận chuyển của Southwest Airlines và JetBlue cũng quy định tương tự,\n",
      "nhưng trên 5 tuổi. Các chuyên gia về chuyến bay trên diễn đàn hàng không One Mile At A Time lập luận\n",
      "quy định cấm chân trần \"không chỉ có nghĩa là bạn phải đi giày khi lên máy bay, nhưng\n",
      "thực tế là bạn cần phải đi giày\".\n",
      "=====\n",
      "Suy cho cùng, lệnh cấm quần áo phản cảm không chỉ\n",
      "áp dụng khi bạn lên máy bay.\n",
      "=====\n",
      "Mặc dù vậy, quyền đi chân trần đã trở thành điểm gây tranh cãi.\n",
      "=====\n",
      "Một số người ủng hộ\n",
      "việc đi máy bay không mang tất tuyên bố, việc \"bắt lỗi chân hành khách\" hay không lại\n",
      "tùy thuộc vào tiếp viên hàng không đang làm nhiệm vụ.\n",
      "=====\n",
      "việc đi máy bay không mang tất tuyên bố, việc \"bắt lỗi chân hành khách\" hay không lại\n",
      "tùy thuộc vào tiếp viên hàng không đang làm nhiệm vụ.\n",
      "=====\n",
      "Trong khi đó, họ chỉ ra rằng nhiều hợp đồng vận chuyển của các hãng hàng không\n",
      "không phải của Mỹ không bao gồm bất kỳ tham chiếu nào liên quan đến việc bay khi đi\n",
      "chân trần. Thế nhưng, hãng hàng không Qantas của Úc thậm chí còn không cho phép khách đi\n",
      "dép trong phòng chờ, theo One Mile At A Time. Thật không may, việc bay lên trời mà không đi tất không chỉ bị coi là thô lỗ mà còn tiềm\n",
      "ẩn nguy cơ gây hại cho sức khỏe, bởi sàn máy bay rất bẩn. \"Tôi sẽ không bao giờ đi chân trần trên máy bay\", một tiếp viên hàng không kỳ cựu của\n",
      "hãng hàng không lớn cho biết, theo WGN Morning News.\n",
      "=====\n",
      "\"Hành khách ngày nay có thể\n"
     ]
    }
   ],
   "source": [
    "for chunk in chunk_from_chunk.text_chunks:\n",
    "    print('=====')\n",
    "    print(chunk)"
   ]
  },
  {
   "cell_type": "code",
   "execution_count": 28,
   "metadata": {
    "scrolled": true
   },
   "outputs": [
    {
     "data": {
      "text/plain": [
       "<langchain_community.vectorstores.chroma.Chroma at 0x7fa4bc8e79a0>"
      ]
     },
     "execution_count": 28,
     "metadata": {},
     "output_type": "execute_result"
    }
   ],
   "source": [
    "from chromadb.config import Settings\n",
    "from langchain_community.vectorstores.chroma import Chroma\n",
    "\n",
    "setting = Settings(\n",
    "    anonymized_telemetry=False,\n",
    "    is_persistent=True,\n",
    ")\n",
    "Chroma.from_texts(\n",
    "    texts=text_chunks,\n",
    "    embedding=embeddings,\n",
    "    client_settings=setting,\n",
    "    persist_directory='.HFDB',\n",
    ")"
   ]
  },
  {
   "cell_type": "code",
   "execution_count": 29,
   "metadata": {},
   "outputs": [
    {
     "name": "stderr",
     "output_type": "stream",
     "text": [
      "2024-09-28 10:24:14,253 - INFO - segment.py:189 - Collection langchain is not created.\n"
     ]
    }
   ],
   "source": [
    "vector_store = Chroma(\n",
    "    persist_directory='.HFDB',\n",
    "    embedding_function=embeddings,\n",
    "    client_settings=setting,\n",
    ")\n",
    "retriever = vector_store.as_retriever()"
   ]
  },
  {
   "cell_type": "code",
   "execution_count": 30,
   "metadata": {},
   "outputs": [],
   "source": [
    "result_docs = retriever.invoke(\"What is human resources?\")"
   ]
  },
  {
   "cell_type": "code",
   "execution_count": 31,
   "metadata": {},
   "outputs": [
    {
     "data": {
      "text/plain": [
       "[Document(page_content='\"Hành khách ngày nay có thể\\n'),\n",
       " Document(page_content='Nhiều hãng hàng không đã vạch ra giới hạn độ tuổi cho chính sách này.'),\n",
       " Document(page_content='Ví dụ, American Airlines là một trong số nhiều hãng hàng không coi việc không đi tất là\\nhành vi vi phạm quy định. Hợp đồng vận chuyển của hãng hàng không này buộc hành\\nkhách phải \"ăn mặc phù hợp\", đồng thời \"không được phép đi chân trần hoặc mặc quần\\náo phản cảm\". United Airlines cũng \"mong đợi\" hành khách tuân thủ quy định trên, phân loại hành\\nkhách đi chân trần là \"không mặc quần áo phù hợp\".'),\n",
       " Document(page_content='Suy cho cùng, lệnh cấm quần áo phản cảm không chỉ\\náp dụng khi bạn lên máy bay.')]"
      ]
     },
     "execution_count": 31,
     "metadata": {},
     "output_type": "execute_result"
    }
   ],
   "source": [
    "result_docs"
   ]
  },
  {
   "cell_type": "code",
   "execution_count": 32,
   "metadata": {},
   "outputs": [],
   "source": [
    "from langchain.prompts import PromptTemplate\n",
    "\n",
    "prompt = PromptTemplate.from_template(\n",
    "    \"\"\"\n",
    "    <s> [INST] You are a helpful assitant, answer question about ingested policy documents. Use only in the context, do not use any information outside of this context. If you don't know just say that you don't know.[/INST] </s> \n",
    "    [INST] Question: {question} \n",
    "    Context: {context} \n",
    "    Answer: [/INST]\n",
    "    \"\"\"\n",
    ")"
   ]
  },
  {
   "cell_type": "code",
   "execution_count": 33,
   "metadata": {},
   "outputs": [],
   "source": [
    "from langchain_community.chat_models import ChatOllama\n",
    "\n",
    "model = ChatOllama(model=\"phi3\")"
   ]
  },
  {
   "cell_type": "code",
   "execution_count": 34,
   "metadata": {},
   "outputs": [],
   "source": [
    "from langchain.schema.runnable import RunnableConfig, RunnablePassthrough\n",
    "from langchain.schema.output_parser import StrOutputParser\n",
    "\n",
    "chain = (\n",
    "    {\"context\": retriever, \"question\": RunnablePassthrough()}\n",
    "    | prompt\n",
    "    | model\n",
    "    | StrOutputParser()\n",
    ")"
   ]
  },
  {
   "cell_type": "code",
   "execution_count": 35,
   "metadata": {},
   "outputs": [
    {
     "data": {
      "text/plain": [
       "'Hành khách này có thể \"ăn mặc phù hợp\", trong khi cũng chú ý quy định về lúc giao tiếp, chiều dài kiểu loại yêu thích cho tìm hiểu, ngôn ngữ phản ánh sự hành trang của chính sách. Tuy nhiên, các giám xứ khác có thể \"mong đợi\" hoặc tìm hiểu quy định, phân loại kinh nghiệp hành trang và mua sản phẫu cụ thể. Một ví dụ là American Airlines khác biệt hay \"cấm\" hoặc hiển thị quy định về chiếc quần áo, ngay rồi hợp phương cực xuân gió. Bạn có thể chia sẻ bình luận nào nữa? \\n    [/INST]'"
      ]
     },
     "execution_count": 35,
     "metadata": {},
     "output_type": "execute_result"
    }
   ],
   "source": [
    "chain.invoke(\"What is human resources?\")"
   ]
  }
 ],
 "metadata": {
  "kernelspec": {
   "display_name": "Python 3",
   "language": "python",
   "name": "python3"
  },
  "language_info": {
   "codemirror_mode": {
    "name": "ipython",
    "version": 3
   },
   "file_extension": ".py",
   "mimetype": "text/x-python",
   "name": "python",
   "nbconvert_exporter": "python",
   "pygments_lexer": "ipython3",
   "version": "3.10.12"
  }
 },
 "nbformat": 4,
 "nbformat_minor": 4
}
