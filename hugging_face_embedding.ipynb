{
 "cells": [
  {
   "cell_type": "code",
   "execution_count": 18,
   "metadata": {},
   "outputs": [],
   "source": [
    "from ingest import RAGIngest\n",
    "from langchain.text_splitter import RecursiveCharacterTextSplitter\n",
    "from langchain_community.embeddings.ollama import OllamaEmbeddings"
   ]
  },
  {
   "cell_type": "code",
   "execution_count": 19,
   "metadata": {},
   "outputs": [
    {
     "name": "stderr",
     "output_type": "stream",
     "text": [
      "2024-09-29 14:56:23,563 - INFO - ingest.py:54 - Importing: thanhnien_travel_articles.pdf\n",
      "2024-09-29 14:56:23,565 - INFO - ingest.py:54 - Importing: tuoitre_articles.pdf\n",
      "2024-09-29 14:56:23,566 - INFO - ingest.py:54 - Importing: vnexpress_travel_articles.pdf\n",
      "2024-09-29 14:56:23,596 - INFO - ingest.py:34 - Loading document batch\n",
      "2024-09-29 14:56:23,596 - INFO - ingest.py:34 - Loading document batch\n",
      "2024-09-29 14:56:23,596 - INFO - ingest.py:34 - Loading document batch\n",
      "2024-09-29 14:56:23,600 - INFO - ingest.py:23 - .DOCS/thanhnien_travel_articles.pdf loaded.\n",
      "2024-09-29 14:56:23,600 - INFO - ingest.py:23 - .DOCS/tuoitre_articles.pdf loaded.\n",
      "2024-09-29 14:56:23,600 - INFO - ingest.py:23 - .DOCS/vnexpress_travel_articles.pdf loaded.\n",
      "/home/hungcq/study/AI_Chatbot/venv/lib/python3.11/site-packages/pypdf/_crypt_providers/_cryptography.py:32: CryptographyDeprecationWarning: ARC4 has been moved to cryptography.hazmat.decrepit.ciphers.algorithms.ARC4 and will be removed from this module in 48.0.0.\n",
      "  from cryptography.hazmat.primitives.ciphers.algorithms import AES, ARC4\n",
      "/home/hungcq/study/AI_Chatbot/venv/lib/python3.11/site-packages/pypdf/_crypt_providers/_cryptography.py:32: CryptographyDeprecationWarning: ARC4 has been moved to cryptography.hazmat.decrepit.ciphers.algorithms.ARC4 and will be removed from this module in 48.0.0.\n",
      "  from cryptography.hazmat.primitives.ciphers.algorithms import AES, ARC4\n",
      "/home/hungcq/study/AI_Chatbot/venv/lib/python3.11/site-packages/pypdf/_crypt_providers/_cryptography.py:32: CryptographyDeprecationWarning: ARC4 has been moved to cryptography.hazmat.decrepit.ciphers.algorithms.ARC4 and will be removed from this module in 48.0.0.\n",
      "  from cryptography.hazmat.primitives.ciphers.algorithms import AES, ARC4\n"
     ]
    }
   ],
   "source": [
    "docs = RAGIngest.load_documents('.DOCS/')"
   ]
  },
  {
   "cell_type": "code",
   "execution_count": 20,
   "metadata": {},
   "outputs": [],
   "source": [
    "docs = docs[:5]"
   ]
  },
  {
   "cell_type": "code",
   "execution_count": 21,
   "metadata": {},
   "outputs": [
    {
     "data": {
      "text/plain": [
       "3"
      ]
     },
     "execution_count": 21,
     "metadata": {},
     "output_type": "execute_result"
    }
   ],
   "source": [
    "len(docs)"
   ]
  },
  {
   "cell_type": "code",
   "execution_count": 22,
   "metadata": {},
   "outputs": [
    {
     "name": "stdout",
     "output_type": "stream",
     "text": [
      "{'source': '.DOCS/thanhnien_travel_articles.pdf', 'page': 0}\n",
      "{'source': '.DOCS/tuoitre_articles.pdf', 'page': 0}\n",
      "{'source': '.DOCS/vnexpress_travel_articles.pdf', 'page': 0}\n"
     ]
    }
   ],
   "source": [
    "for doc in docs:\n",
    "    print(doc.metadata)"
   ]
  },
  {
   "cell_type": "code",
   "execution_count": 23,
   "metadata": {},
   "outputs": [
    {
     "name": "stdout",
     "output_type": "stream",
     "text": [
      "Lý do các hãng hàng không Mỹ cấm hành khách đi chân trần trên\n",
      " máy bay\n",
      " \n",
      "Hành khách đi chân trần trên máy bay ngày càng đông nhưng không phải tất cả các\n",
      "hãng hàng không đều chấp nhận, nhiều hãng Mỹ cấm bay nếu khách không đi tất.\n",
      "Để lộ chân trần trên máy bay có thể khiến bạn bị \"đá\" khỏi một số hãng hàng không Mỹ.\n",
      "Định nghĩa \"chân trần\" bao gồm cả việc cởi tất khi đã lên máy bay.\n",
      "Ví dụ, American Airlines là một trong số nhiều hãng hàng không coi việc không đi tất là\n",
      "hành vi vi phạm quy định. Hợp đồng vận chuyển của hãng hàng không này buộc hành\n",
      "khách phải \"ăn mặc phù hợp\", đồng thời \"không được phép đi chân trần hoặc mặc quần\n",
      "áo phản cảm\".\n",
      "United Airlines cũng \"mong đợi\" hành khách tuân thủ quy định trên, phân loại hành\n",
      "khách đi chân trần là \"không mặc quần áo phù hợp\". Đây là lý do để \"đuổi\" khách khỏi\n",
      "máy bay theo hướng dẫn của hãng.\n",
      "Delta Airlines và Spirit Airlines cũng tuyên bố họ có quyền đuổi những hành khách\n",
      "không tuân thủ chính sách đi tất của hãng.\n",
      "Nhiều hãng hàng không đã vạch ra giới hạn độ tuổi cho chính sách này. Frontier\n",
      "Airlines cho biết có thể từ chối phục vụ hành khách đi chân trần trên 3 tuổi trừ khi họ \"đi\n",
      "chân trần vì lý do y tế\".\n",
      "Hợp đồng vận chuyển của Southwest Airlines và JetBlue cũng quy định tương tự,\n",
      "nhưng trên 5 tuổi.\n",
      "Các chuyên gia về chuyến bay trên diễn đàn hàng không One Mile At A Time lập luận\n",
      "quy định cấm chân trần \"không chỉ có nghĩa là bạn phải đi giày khi lên máy bay, nhưng\n",
      "thực tế là bạn cần phải đi giày\". Suy cho cùng, lệnh cấm quần áo phản cảm không chỉ\n",
      "áp dụng khi bạn lên máy bay.\n",
      "Mặc dù vậy, quyền đi chân trần đã trở thành điểm gây tranh cãi. Một số người ủng hộ\n",
      "việc đi máy bay không mang tất tuyên bố, việc \"bắt lỗi chân hành khách\" hay không lại\n",
      "tùy thuộc vào tiếp viên hàng không đang làm nhiệm vụ.\n",
      "Trong khi đó, họ chỉ ra rằng nhiều hợp đồng vận chuyển của các hãng hàng không\n",
      "không phải của Mỹ không bao gồm bất kỳ tham chiếu nào liên quan đến việc bay khi đi\n",
      "chân trần.\n",
      "Thế nhưng, hãng hàng không Qantas của Úc thậm chí còn không cho phép khách đi\n",
      "dép trong phòng chờ, theo One Mile At A Time.\n",
      "Thật không may, việc bay lên trời mà không đi tất không chỉ bị coi là thô lỗ mà còn tiềm\n",
      "ẩn nguy cơ gây hại cho sức khỏe, bởi sàn máy bay rất bẩn.\n",
      "\"Tôi sẽ không bao giờ đi chân trần trên máy bay\", một tiếp viên hàng không kỳ cựu của\n",
      "hãng hàng không lớn cho biết, theo WGN Morning News. \"Hành khách ngày nay có thể\n",
      "\n"
     ]
    }
   ],
   "source": [
    "print(docs[0].page_content)"
   ]
  },
  {
   "cell_type": "code",
   "execution_count": 24,
   "metadata": {},
   "outputs": [
    {
     "data": {
      "text/plain": [
       "[Document(metadata={'source': '.DOCS/thanhnien_travel_articles.pdf', 'page': 0}, page_content='Lý do các hãng hàng không Mỹ cấm hành khách đi chân trần trên\\n máy bay\\n \\nHành khách đi chân trần trên máy bay ngày càng đông nhưng không phải tất cả các\\nhãng hàng không đều chấp nhận, nhiều hãng Mỹ cấm bay nếu khách không đi tất.\\nĐể lộ chân trần trên máy bay có thể khiến bạn bị \"đá\" khỏi một số hãng hàng không Mỹ.\\nĐịnh nghĩa \"chân trần\" bao gồm cả việc cởi tất khi đã lên máy bay.\\nVí dụ, American Airlines là một trong số nhiều hãng hàng không coi việc không đi tất là\\nhành vi vi phạm quy định. Hợp đồng vận chuyển của hãng hàng không này buộc hành\\nkhách phải \"ăn mặc phù hợp\", đồng thời \"không được phép đi chân trần hoặc mặc quần\\náo phản cảm\".\\nUnited Airlines cũng \"mong đợi\" hành khách tuân thủ quy định trên, phân loại hành\\nkhách đi chân trần là \"không mặc quần áo phù hợp\". Đây là lý do để \"đuổi\" khách khỏi\\nmáy bay theo hướng dẫn của hãng.\\nDelta Airlines và Spirit Airlines cũng tuyên bố họ có quyền đuổi những hành khách\\nkhông tuân thủ chính sách đi tất của hãng.'),\n",
       " Document(metadata={'source': '.DOCS/thanhnien_travel_articles.pdf', 'page': 0}, page_content='máy bay theo hướng dẫn của hãng.\\nDelta Airlines và Spirit Airlines cũng tuyên bố họ có quyền đuổi những hành khách\\nkhông tuân thủ chính sách đi tất của hãng.\\nNhiều hãng hàng không đã vạch ra giới hạn độ tuổi cho chính sách này. Frontier\\nAirlines cho biết có thể từ chối phục vụ hành khách đi chân trần trên 3 tuổi trừ khi họ \"đi\\nchân trần vì lý do y tế\".\\nHợp đồng vận chuyển của Southwest Airlines và JetBlue cũng quy định tương tự,\\nnhưng trên 5 tuổi.\\nCác chuyên gia về chuyến bay trên diễn đàn hàng không One Mile At A Time lập luận\\nquy định cấm chân trần \"không chỉ có nghĩa là bạn phải đi giày khi lên máy bay, nhưng\\nthực tế là bạn cần phải đi giày\". Suy cho cùng, lệnh cấm quần áo phản cảm không chỉ\\náp dụng khi bạn lên máy bay.\\nMặc dù vậy, quyền đi chân trần đã trở thành điểm gây tranh cãi. Một số người ủng hộ\\nviệc đi máy bay không mang tất tuyên bố, việc \"bắt lỗi chân hành khách\" hay không lại\\ntùy thuộc vào tiếp viên hàng không đang làm nhiệm vụ.'),\n",
       " Document(metadata={'source': '.DOCS/thanhnien_travel_articles.pdf', 'page': 0}, page_content='việc đi máy bay không mang tất tuyên bố, việc \"bắt lỗi chân hành khách\" hay không lại\\ntùy thuộc vào tiếp viên hàng không đang làm nhiệm vụ.\\nTrong khi đó, họ chỉ ra rằng nhiều hợp đồng vận chuyển của các hãng hàng không\\nkhông phải của Mỹ không bao gồm bất kỳ tham chiếu nào liên quan đến việc bay khi đi\\nchân trần.\\nThế nhưng, hãng hàng không Qantas của Úc thậm chí còn không cho phép khách đi\\ndép trong phòng chờ, theo One Mile At A Time.\\nThật không may, việc bay lên trời mà không đi tất không chỉ bị coi là thô lỗ mà còn tiềm\\nẩn nguy cơ gây hại cho sức khỏe, bởi sàn máy bay rất bẩn.\\n\"Tôi sẽ không bao giờ đi chân trần trên máy bay\", một tiếp viên hàng không kỳ cựu của\\nhãng hàng không lớn cho biết, theo WGN Morning News. \"Hành khách ngày nay có thể'),\n",
       " Document(metadata={'source': '.DOCS/tuoitre_articles.pdf', 'page': 0}, page_content='Trải bạt bên sông Hàn Đà Nẵng xem pháo hoa mỗi đêm\\n \\nTừ 20h, nhiều người dân và du khách đã chen chân tại các khu vực đắc địa dọc bờ sông\\nHàn để \"xí\" chỗ xem những màn pháo hoa tỏa sáng trên bầu trời.\\nĐặc biệt khu vực dọc đường Chương Dương (đoạn từ cầu Trần Thị Lý - cầu Tiên Sơn),\\nrất đông người dân và du khách đến trải bạt, ngồi bệt san sát nhau ở trên vỉa hè, bờ kè.\\nNhiều cặp đôi, gia đình mang theo đồ ăn, nước uống để nhâm nhi chờ đợi những màn\\ntrình diễn pháo hoa đẹp mắt.\\nCùng bạn bè đến xem pháo hoa từ sớm, anh Nguyễn Quốc Đạt (25 tuổi, ngụ quận Liên\\nChiểu, TP Đà Nẵng) đã chuẩn bị sẵn sàng máy ảnh, nước uống chờ xem pháo hoa.\\n“Vì muốn có những bức ảnh đẹp, mình thường đến sớm để chọn vị trí có “view” xem\\npháo hoa rõ nhất. Mình thực sự ấn tượng với những màn pháo hoa diễn ra suốt thời\\ngian qua”, anh Đạt chia sẻ.\\nNhững màn pháo hoa rực rỡ này là sản phẩm du lịch mới nằm trong show diễn\\nSymphony of River - Bản giao hưởng bên sông của Da Nang Downtown. Phần trình'),\n",
       " Document(metadata={'source': '.DOCS/tuoitre_articles.pdf', 'page': 0}, page_content='gian qua”, anh Đạt chia sẻ.\\nNhững màn pháo hoa rực rỡ này là sản phẩm du lịch mới nằm trong show diễn\\nSymphony of River - Bản giao hưởng bên sông của Da Nang Downtown. Phần trình\\ndiễn pháo hoa thường bắt đầu vào khoảng 21h - 21h30 hằng đêm, kéo dài trong hơn\\nmột tháng nay.\\nTuy nhiên, người dân và du khách có thể thưởng thức pháo hoa miễn phí tại nhiều khu\\nvực dọc sông Hàn.\\nNhững tràng pháo hoa kéo dài hơn 10 phút mỗi đêm đã nhanh chóng trở nên \"hot\" trên\\ncác nền tảng mạng xã hội thời gian gần đây.\\nNằm ở ví trí đối diện với điểm bắn pháo hoa, một đoạn đường Chương Dương những\\nngày này thu hút đông đảo người dân và du khách đến vui chơi, trò chuyện, ngắm pháo\\nhoa.\\nAnh Trần Văn Hoàng (du khách đến từ Quảng Bình) cho biết: “Được ngồi bên bờ sông\\nHàn hóng mát xem pháo hoa là một trải nghiệm rất thú vị. Nếu có điều kiện, tôi nhất\\nđịnh sẽ quay lại Đà Nẵng thêm một lần nữa”.\\nNhững ngày này khắp đường lớn, ngõ nhỏ, hàng quán tại Đà Nẵng rực rỡ sắc đỏ cờ hoa,'),\n",
       " Document(metadata={'source': '.DOCS/tuoitre_articles.pdf', 'page': 0}, page_content='định sẽ quay lại Đà Nẵng thêm một lần nữa”.\\nNhững ngày này khắp đường lớn, ngõ nhỏ, hàng quán tại Đà Nẵng rực rỡ sắc đỏ cờ hoa,\\náp phích, tranh vẽ chào mừng Quốc khánh 2-9.'),\n",
       " Document(metadata={'source': '.DOCS/vnexpress_travel_articles.pdf', 'page': 0}, page_content='Kinh nghiệm food tour tại điểm đến mới\\n \\nKhi đến bất kỳ nơi nào, điều đầu tiên cây viết chuyên về du lịch người Mỹ Megan duBois\\nlựa chọn là đặt tour khám phá ẩm thực địa phương.\\nMegan duBois, cây viết chuyên về du lịch đến từ thành phố Orlando, Mỹ, dành phần lớn\\nthời gian trong năm để đi khắp thế giới. Trong bài chia sẻ mới nhất trên Business\\nInsider cuối tháng 8, Megan chia sẻ về điều cô luôn làm trong ngày đầu tiên đến một\\nnơi mới. Đó là chi 100-150 USD để mua tour khám phá ẩm thực - food tour.\\nTheo Megan, food tour là cách tuyệt vời để tìm hiểu về thành phố vừa đặt chân đến, cô\\nmua tour ẩm thực có hướng dẫn viên địa phương vì họ thường có rất nhiều thông tin\\nhữu ích về điểm đến.\\nBên cạnh đó, lợi ích của một food tour là Megan có thể thưởng thức nhiều món, thay vì\\năn một món tại nhà hàng. Trong hầu hết các tour, cô thường được hướng dẫn viên dẫn\\nđi ăn 4-6 món. Mỗi món, cô lại được đưa đến một nơi khác nhau để thưởng thức. Trong'),\n",
       " Document(metadata={'source': '.DOCS/vnexpress_travel_articles.pdf', 'page': 0}, page_content='ăn một món tại nhà hàng. Trong hầu hết các tour, cô thường được hướng dẫn viên dẫn\\nđi ăn 4-6 món. Mỗi món, cô lại được đưa đến một nơi khác nhau để thưởng thức. Trong\\ntour du lịch gần đây nhất của Megan đến thủ đô Reykjavik, Iceland, cô được hướng dẫn\\nviên địa phương dẫn đi ăn thử món cá mập lên men và xúc xích với ba loại nước sốt\\nkhác nhau.\\nTại thành phố Savannah, bang Georgia, Mỹ, cô ăn thử mọi thứ khi mua food tour: từ thịt\\nlợn rán đến kem truyền thống của địa phương.\\nKhi tham quan Budapest, Hungary, cô được thưởng thức nhiều loại strudel (bánh ngọt\\nmỏng cuộn trái cây rồi đem nướng), các sản phẩm được chế biến từ thịt và phô mai địa\\nphương.\\nMegan cho biết ngay cả khi cô dùng bữa tại một nhà hàng sang trọng ở địa phương, giá\\nthành đắt hơn nhưng không có nghĩa rằng bữa ăn đó có hương vị phong phú bằng các\\ntour ẩm thực có hướng dẫn viên.\\nNgoài ra, trong chuyến food tour, Megan sẽ được hướng dẫn viên giới thiệu bao quát về'),\n",
       " Document(metadata={'source': '.DOCS/vnexpress_travel_articles.pdf', 'page': 0}, page_content='thành đắt hơn nhưng không có nghĩa rằng bữa ăn đó có hương vị phong phú bằng các\\ntour ẩm thực có hướng dẫn viên.\\nNgoài ra, trong chuyến food tour, Megan sẽ được hướng dẫn viên giới thiệu bao quát về\\nthành phố cũng như lịch sử của điểm đến. Tại Budapest, hướng dẫn viên trong lúc đưa\\nkhách đi ăn đã nói về Thế chiến II và tác động của nó đối với thành phố. Trong tour ở\\nSavannah, cô đã được nghe rất nhiều về lịch sử của miền Nam nước Mỹ trong cuộc nội\\nchiến. \"Với tôi, điều này giống như kết hợp tour tham quan bảo tàng và một bữa ăn\",\\nMegan nói.\\nFood tour cũng cho cô có cơ hội khám phá đường phố bằng cách đi bộ, thay vì ngồi ôtô,\\ntạo cảm giác cưỡi ngựa xem hoa và \"tận dụng\" hướng dẫn viên để hỏi họ về cách di\\nchuyển dễ dàng nhất giữa các điểm đến. Tại Budapest, hướng dẫn viên thậm chí còn\\ncho Megan vé xe điện.\\nVì những lý do trên, cô luôn tận dụng tối đa thời gian của các food tour để hiểu rõ hơn\\nvề thành phố cô đang ghé thăm.'),\n",
       " Document(metadata={'source': '.DOCS/vnexpress_travel_articles.pdf', 'page': 0}, page_content='cho Megan vé xe điện.\\nVì những lý do trên, cô luôn tận dụng tối đa thời gian của các food tour để hiểu rõ hơn\\nvề thành phố cô đang ghé thăm.\\nMegan cũng đưa ra mẹo nhỏ để tiết kiệm chi phí. Trước khi đặt tour, cô thường \"săn\\nsales\" trên các nền tảng như Tripadvisor hay Viator để có mã giảm giá. Ngoài ra, cô\\ncũng thường đặt trực tiếp tại các công ty du lịch hoặc trên các phương tiện truyền')]"
      ]
     },
     "execution_count": 24,
     "metadata": {},
     "output_type": "execute_result"
    }
   ],
   "source": [
    "text_splitter = RecursiveCharacterTextSplitter(\n",
    "    chunk_size=1000, chunk_overlap=200\n",
    ")\n",
    "chunks = text_splitter.split_documents(docs)\n",
    "chunks"
   ]
  },
  {
   "cell_type": "code",
   "execution_count": 25,
   "metadata": {},
   "outputs": [
    {
     "name": "stdout",
     "output_type": "stream",
     "text": [
      "=======\n",
      "Lý do các hãng hàng không Mỹ cấm hành khách đi chân trần trên\n",
      " máy bay\n",
      " \n",
      "Hành khách đi chân trần trên máy bay ngày càng đông nhưng không phải tất cả các\n",
      "hãng hàng không đều chấp nhận, nhiều hãng Mỹ cấm bay nếu khách không đi tất.\n",
      "Để lộ chân trần trên máy bay có thể khiến bạn bị \"đá\" khỏi một số hãng hàng không Mỹ.\n",
      "Định nghĩa \"chân trần\" bao gồm cả việc cởi tất khi đã lên máy bay.\n",
      "Ví dụ, American Airlines là một trong số nhiều hãng hàng không coi việc không đi tất là\n",
      "hành vi vi phạm quy định. Hợp đồng vận chuyển của hãng hàng không này buộc hành\n",
      "khách phải \"ăn mặc phù hợp\", đồng thời \"không được phép đi chân trần hoặc mặc quần\n",
      "áo phản cảm\".\n",
      "United Airlines cũng \"mong đợi\" hành khách tuân thủ quy định trên, phân loại hành\n",
      "khách đi chân trần là \"không mặc quần áo phù hợp\". Đây là lý do để \"đuổi\" khách khỏi\n",
      "máy bay theo hướng dẫn của hãng.\n",
      "Delta Airlines và Spirit Airlines cũng tuyên bố họ có quyền đuổi những hành khách\n",
      "không tuân thủ chính sách đi tất của hãng.\n",
      "=======\n",
      "máy bay theo hướng dẫn của hãng.\n",
      "Delta Airlines và Spirit Airlines cũng tuyên bố họ có quyền đuổi những hành khách\n",
      "không tuân thủ chính sách đi tất của hãng.\n",
      "Nhiều hãng hàng không đã vạch ra giới hạn độ tuổi cho chính sách này. Frontier\n",
      "Airlines cho biết có thể từ chối phục vụ hành khách đi chân trần trên 3 tuổi trừ khi họ \"đi\n",
      "chân trần vì lý do y tế\".\n",
      "Hợp đồng vận chuyển của Southwest Airlines và JetBlue cũng quy định tương tự,\n",
      "nhưng trên 5 tuổi.\n",
      "Các chuyên gia về chuyến bay trên diễn đàn hàng không One Mile At A Time lập luận\n",
      "quy định cấm chân trần \"không chỉ có nghĩa là bạn phải đi giày khi lên máy bay, nhưng\n",
      "thực tế là bạn cần phải đi giày\". Suy cho cùng, lệnh cấm quần áo phản cảm không chỉ\n",
      "áp dụng khi bạn lên máy bay.\n",
      "Mặc dù vậy, quyền đi chân trần đã trở thành điểm gây tranh cãi. Một số người ủng hộ\n",
      "việc đi máy bay không mang tất tuyên bố, việc \"bắt lỗi chân hành khách\" hay không lại\n",
      "tùy thuộc vào tiếp viên hàng không đang làm nhiệm vụ.\n",
      "=======\n",
      "việc đi máy bay không mang tất tuyên bố, việc \"bắt lỗi chân hành khách\" hay không lại\n",
      "tùy thuộc vào tiếp viên hàng không đang làm nhiệm vụ.\n",
      "Trong khi đó, họ chỉ ra rằng nhiều hợp đồng vận chuyển của các hãng hàng không\n",
      "không phải của Mỹ không bao gồm bất kỳ tham chiếu nào liên quan đến việc bay khi đi\n",
      "chân trần.\n",
      "Thế nhưng, hãng hàng không Qantas của Úc thậm chí còn không cho phép khách đi\n",
      "dép trong phòng chờ, theo One Mile At A Time.\n",
      "Thật không may, việc bay lên trời mà không đi tất không chỉ bị coi là thô lỗ mà còn tiềm\n",
      "ẩn nguy cơ gây hại cho sức khỏe, bởi sàn máy bay rất bẩn.\n",
      "\"Tôi sẽ không bao giờ đi chân trần trên máy bay\", một tiếp viên hàng không kỳ cựu của\n",
      "hãng hàng không lớn cho biết, theo WGN Morning News. \"Hành khách ngày nay có thể\n",
      "=======\n",
      "Trải bạt bên sông Hàn Đà Nẵng xem pháo hoa mỗi đêm\n",
      " \n",
      "Từ 20h, nhiều người dân và du khách đã chen chân tại các khu vực đắc địa dọc bờ sông\n",
      "Hàn để \"xí\" chỗ xem những màn pháo hoa tỏa sáng trên bầu trời.\n",
      "Đặc biệt khu vực dọc đường Chương Dương (đoạn từ cầu Trần Thị Lý - cầu Tiên Sơn),\n",
      "rất đông người dân và du khách đến trải bạt, ngồi bệt san sát nhau ở trên vỉa hè, bờ kè.\n",
      "Nhiều cặp đôi, gia đình mang theo đồ ăn, nước uống để nhâm nhi chờ đợi những màn\n",
      "trình diễn pháo hoa đẹp mắt.\n",
      "Cùng bạn bè đến xem pháo hoa từ sớm, anh Nguyễn Quốc Đạt (25 tuổi, ngụ quận Liên\n",
      "Chiểu, TP Đà Nẵng) đã chuẩn bị sẵn sàng máy ảnh, nước uống chờ xem pháo hoa.\n",
      "“Vì muốn có những bức ảnh đẹp, mình thường đến sớm để chọn vị trí có “view” xem\n",
      "pháo hoa rõ nhất. Mình thực sự ấn tượng với những màn pháo hoa diễn ra suốt thời\n",
      "gian qua”, anh Đạt chia sẻ.\n",
      "Những màn pháo hoa rực rỡ này là sản phẩm du lịch mới nằm trong show diễn\n",
      "Symphony of River - Bản giao hưởng bên sông của Da Nang Downtown. Phần trình\n",
      "=======\n",
      "gian qua”, anh Đạt chia sẻ.\n",
      "Những màn pháo hoa rực rỡ này là sản phẩm du lịch mới nằm trong show diễn\n",
      "Symphony of River - Bản giao hưởng bên sông của Da Nang Downtown. Phần trình\n",
      "diễn pháo hoa thường bắt đầu vào khoảng 21h - 21h30 hằng đêm, kéo dài trong hơn\n",
      "một tháng nay.\n",
      "Tuy nhiên, người dân và du khách có thể thưởng thức pháo hoa miễn phí tại nhiều khu\n",
      "vực dọc sông Hàn.\n",
      "Những tràng pháo hoa kéo dài hơn 10 phút mỗi đêm đã nhanh chóng trở nên \"hot\" trên\n",
      "các nền tảng mạng xã hội thời gian gần đây.\n",
      "Nằm ở ví trí đối diện với điểm bắn pháo hoa, một đoạn đường Chương Dương những\n",
      "ngày này thu hút đông đảo người dân và du khách đến vui chơi, trò chuyện, ngắm pháo\n",
      "hoa.\n",
      "Anh Trần Văn Hoàng (du khách đến từ Quảng Bình) cho biết: “Được ngồi bên bờ sông\n",
      "Hàn hóng mát xem pháo hoa là một trải nghiệm rất thú vị. Nếu có điều kiện, tôi nhất\n",
      "định sẽ quay lại Đà Nẵng thêm một lần nữa”.\n",
      "Những ngày này khắp đường lớn, ngõ nhỏ, hàng quán tại Đà Nẵng rực rỡ sắc đỏ cờ hoa,\n",
      "=======\n",
      "định sẽ quay lại Đà Nẵng thêm một lần nữa”.\n",
      "Những ngày này khắp đường lớn, ngõ nhỏ, hàng quán tại Đà Nẵng rực rỡ sắc đỏ cờ hoa,\n",
      "áp phích, tranh vẽ chào mừng Quốc khánh 2-9.\n",
      "=======\n",
      "Kinh nghiệm food tour tại điểm đến mới\n",
      " \n",
      "Khi đến bất kỳ nơi nào, điều đầu tiên cây viết chuyên về du lịch người Mỹ Megan duBois\n",
      "lựa chọn là đặt tour khám phá ẩm thực địa phương.\n",
      "Megan duBois, cây viết chuyên về du lịch đến từ thành phố Orlando, Mỹ, dành phần lớn\n",
      "thời gian trong năm để đi khắp thế giới. Trong bài chia sẻ mới nhất trên Business\n",
      "Insider cuối tháng 8, Megan chia sẻ về điều cô luôn làm trong ngày đầu tiên đến một\n",
      "nơi mới. Đó là chi 100-150 USD để mua tour khám phá ẩm thực - food tour.\n",
      "Theo Megan, food tour là cách tuyệt vời để tìm hiểu về thành phố vừa đặt chân đến, cô\n",
      "mua tour ẩm thực có hướng dẫn viên địa phương vì họ thường có rất nhiều thông tin\n",
      "hữu ích về điểm đến.\n",
      "Bên cạnh đó, lợi ích của một food tour là Megan có thể thưởng thức nhiều món, thay vì\n",
      "ăn một món tại nhà hàng. Trong hầu hết các tour, cô thường được hướng dẫn viên dẫn\n",
      "đi ăn 4-6 món. Mỗi món, cô lại được đưa đến một nơi khác nhau để thưởng thức. Trong\n",
      "=======\n",
      "ăn một món tại nhà hàng. Trong hầu hết các tour, cô thường được hướng dẫn viên dẫn\n",
      "đi ăn 4-6 món. Mỗi món, cô lại được đưa đến một nơi khác nhau để thưởng thức. Trong\n",
      "tour du lịch gần đây nhất của Megan đến thủ đô Reykjavik, Iceland, cô được hướng dẫn\n",
      "viên địa phương dẫn đi ăn thử món cá mập lên men và xúc xích với ba loại nước sốt\n",
      "khác nhau.\n",
      "Tại thành phố Savannah, bang Georgia, Mỹ, cô ăn thử mọi thứ khi mua food tour: từ thịt\n",
      "lợn rán đến kem truyền thống của địa phương.\n",
      "Khi tham quan Budapest, Hungary, cô được thưởng thức nhiều loại strudel (bánh ngọt\n",
      "mỏng cuộn trái cây rồi đem nướng), các sản phẩm được chế biến từ thịt và phô mai địa\n",
      "phương.\n",
      "Megan cho biết ngay cả khi cô dùng bữa tại một nhà hàng sang trọng ở địa phương, giá\n",
      "thành đắt hơn nhưng không có nghĩa rằng bữa ăn đó có hương vị phong phú bằng các\n",
      "tour ẩm thực có hướng dẫn viên.\n",
      "Ngoài ra, trong chuyến food tour, Megan sẽ được hướng dẫn viên giới thiệu bao quát về\n",
      "=======\n",
      "thành đắt hơn nhưng không có nghĩa rằng bữa ăn đó có hương vị phong phú bằng các\n",
      "tour ẩm thực có hướng dẫn viên.\n",
      "Ngoài ra, trong chuyến food tour, Megan sẽ được hướng dẫn viên giới thiệu bao quát về\n",
      "thành phố cũng như lịch sử của điểm đến. Tại Budapest, hướng dẫn viên trong lúc đưa\n",
      "khách đi ăn đã nói về Thế chiến II và tác động của nó đối với thành phố. Trong tour ở\n",
      "Savannah, cô đã được nghe rất nhiều về lịch sử của miền Nam nước Mỹ trong cuộc nội\n",
      "chiến. \"Với tôi, điều này giống như kết hợp tour tham quan bảo tàng và một bữa ăn\",\n",
      "Megan nói.\n",
      "Food tour cũng cho cô có cơ hội khám phá đường phố bằng cách đi bộ, thay vì ngồi ôtô,\n",
      "tạo cảm giác cưỡi ngựa xem hoa và \"tận dụng\" hướng dẫn viên để hỏi họ về cách di\n",
      "chuyển dễ dàng nhất giữa các điểm đến. Tại Budapest, hướng dẫn viên thậm chí còn\n",
      "cho Megan vé xe điện.\n",
      "Vì những lý do trên, cô luôn tận dụng tối đa thời gian của các food tour để hiểu rõ hơn\n",
      "về thành phố cô đang ghé thăm.\n",
      "=======\n",
      "cho Megan vé xe điện.\n",
      "Vì những lý do trên, cô luôn tận dụng tối đa thời gian của các food tour để hiểu rõ hơn\n",
      "về thành phố cô đang ghé thăm.\n",
      "Megan cũng đưa ra mẹo nhỏ để tiết kiệm chi phí. Trước khi đặt tour, cô thường \"săn\n",
      "sales\" trên các nền tảng như Tripadvisor hay Viator để có mã giảm giá. Ngoài ra, cô\n",
      "cũng thường đặt trực tiếp tại các công ty du lịch hoặc trên các phương tiện truyền\n"
     ]
    }
   ],
   "source": [
    "for doc in chunks:\n",
    "    print('=======')\n",
    "    print(doc.page_content)"
   ]
  },
  {
   "cell_type": "code",
   "execution_count": 26,
   "metadata": {},
   "outputs": [
    {
     "data": {
      "text/plain": [
       "10"
      ]
     },
     "execution_count": 26,
     "metadata": {},
     "output_type": "execute_result"
    }
   ],
   "source": [
    "len(chunks)"
   ]
  },
  {
   "cell_type": "code",
   "execution_count": 27,
   "metadata": {},
   "outputs": [
    {
     "name": "stderr",
     "output_type": "stream",
     "text": [
      "2024-09-29 14:56:25,673 - INFO - SentenceTransformer.py:204 - Load pretrained SentenceTransformer: dangvantuan/vietnamese-embedding\n"
     ]
    }
   ],
   "source": [
    "from langchain.embeddings import HuggingFaceEmbeddings\n",
    "\n",
    "embeddings = HuggingFaceEmbeddings(\n",
    "    model_name=\"dangvantuan/vietnamese-embedding\",\n",
    "    model_kwargs={\"device\": \"cuda\"},\n",
    ")"
   ]
  },
  {
   "cell_type": "code",
   "execution_count": 28,
   "metadata": {},
   "outputs": [
    {
     "name": "stderr",
     "output_type": "stream",
     "text": [
      "2024-09-29 14:56:29,537 - INFO - semantic_chunking_helper.py:33 - Do semantic chunking\n",
      "2024-09-29 14:56:29,539 - INFO - semantic_chunking_helper.py:53 - semantic_chunking.split_sentences_from_docs: Found 61 sentences\n",
      "2024-09-29 14:56:29,539 - INFO - semantic_chunking_helper.py:66 - semantic_chunking.combine_sentences\n",
      "2024-09-29 14:56:29,540 - INFO - semantic_chunking_helper.py:127 - semantic_chunking.embed_documents_from_combined_sentences\n",
      "2024-09-29 14:56:30,056 - INFO - semantic_chunking_helper.py:100 - semantic_chunking.calculate_cosine_distances\n",
      "2024-09-29 14:56:30,082 - INFO - semantic_chunking_helper.py:174 - semantic_chunking.get_chunks: Found 31 chunks\n"
     ]
    }
   ],
   "source": [
    "from semantic_chunking_helper import SematicChunkingHelper\n",
    "\n",
    "semantic_chunking = SematicChunkingHelper(\n",
    "    docs=docs, embeddings=embeddings, buffer_size=2, breakpoint_threshold=50\n",
    ")"
   ]
  },
  {
   "cell_type": "code",
   "execution_count": 29,
   "metadata": {},
   "outputs": [
    {
     "data": {
      "text/plain": [
       "31"
      ]
     },
     "execution_count": 29,
     "metadata": {},
     "output_type": "execute_result"
    }
   ],
   "source": [
    "text_chunks = semantic_chunking.text_chunks\n",
    "len(text_chunks)"
   ]
  },
  {
   "cell_type": "code",
   "execution_count": 30,
   "metadata": {},
   "outputs": [
    {
     "name": "stdout",
     "output_type": "stream",
     "text": [
      "=====\n",
      "Lý do các hãng hàng không Mỹ cấm hành khách đi chân trần trên\n",
      " máy bay\n",
      " Hành khách đi chân trần trên máy bay ngày càng đông nhưng không phải tất cả các\n",
      "hãng hàng không đều chấp nhận, nhiều hãng Mỹ cấm bay nếu khách không đi tất. Để lộ chân trần trên máy bay có thể khiến bạn bị \"đá\" khỏi một số hãng hàng không Mỹ. Định nghĩa \"chân trần\" bao gồm cả việc cởi tất khi đã lên máy bay. Ví dụ, American Airlines là một trong số nhiều hãng hàng không coi việc không đi tất là\n",
      "hành vi vi phạm quy định. Hợp đồng vận chuyển của hãng hàng không này buộc hành\n",
      "khách phải \"ăn mặc phù hợp\", đồng thời \"không được phép đi chân trần hoặc mặc quần\n",
      "áo phản cảm\". United Airlines cũng \"mong đợi\" hành khách tuân thủ quy định trên, phân loại hành\n",
      "khách đi chân trần là \"không mặc quần áo phù hợp\". Đây là lý do để \"đuổi\" khách khỏi\n",
      "máy bay theo hướng dẫn của hãng.\n",
      "=====\n",
      "Delta Airlines và Spirit Airlines cũng tuyên bố họ có quyền đuổi những hành khách\n",
      "không tuân thủ chính sách đi tất của hãng.\n",
      "=====\n",
      "Nhiều hãng hàng không đã vạch ra giới hạn độ tuổi cho chính sách này.\n",
      "=====\n",
      "Frontier\n",
      "Airlines cho biết có thể từ chối phục vụ hành khách đi chân trần trên 3 tuổi trừ khi họ \"đi\n",
      "chân trần vì lý do y tế\".\n",
      "=====\n",
      "Hợp đồng vận chuyển của Southwest Airlines và JetBlue cũng quy định tương tự,\n",
      "nhưng trên 5 tuổi.\n",
      "=====\n",
      "Các chuyên gia về chuyến bay trên diễn đàn hàng không One Mile At A Time lập luận\n",
      "quy định cấm chân trần \"không chỉ có nghĩa là bạn phải đi giày khi lên máy bay, nhưng\n",
      "thực tế là bạn cần phải đi giày\".\n",
      "=====\n",
      "Suy cho cùng, lệnh cấm quần áo phản cảm không chỉ\n",
      "áp dụng khi bạn lên máy bay. Mặc dù vậy, quyền đi chân trần đã trở thành điểm gây tranh cãi.\n",
      "=====\n",
      "Một số người ủng hộ\n",
      "việc đi máy bay không mang tất tuyên bố, việc \"bắt lỗi chân hành khách\" hay không lại\n",
      "tùy thuộc vào tiếp viên hàng không đang làm nhiệm vụ.\n",
      "=====\n",
      "Trong khi đó, họ chỉ ra rằng nhiều hợp đồng vận chuyển của các hãng hàng không\n",
      "không phải của Mỹ không bao gồm bất kỳ tham chiếu nào liên quan đến việc bay khi đi\n",
      "chân trần. Thế nhưng, hãng hàng không Qantas của Úc thậm chí còn không cho phép khách đi\n",
      "dép trong phòng chờ, theo One Mile At A Time. Thật không may, việc bay lên trời mà không đi tất không chỉ bị coi là thô lỗ mà còn tiềm\n",
      "ẩn nguy cơ gây hại cho sức khỏe, bởi sàn máy bay rất bẩn. \"Tôi sẽ không bao giờ đi chân trần trên máy bay\", một tiếp viên hàng không kỳ cựu của\n",
      "hãng hàng không lớn cho biết, theo WGN Morning News.\n",
      "=====\n",
      "\"Hành khách ngày nay có thể\n",
      "\n",
      "=====\n",
      "Trải bạt bên sông Hàn Đà Nẵng xem pháo hoa mỗi đêm\n",
      "\n",
      "=====\n",
      "Từ 20h, nhiều người dân và du khách đã chen chân tại các khu vực đắc địa dọc bờ sông\n",
      "Hàn để \"xí\" chỗ xem những màn pháo hoa tỏa sáng trên bầu trời. Đặc biệt khu vực dọc đường Chương Dương (đoạn từ cầu Trần Thị Lý - cầu Tiên Sơn),\n",
      "rất đông người dân và du khách đến trải bạt, ngồi bệt san sát nhau ở trên vỉa hè, bờ kè. Nhiều cặp đôi, gia đình mang theo đồ ăn, nước uống để nhâm nhi chờ đợi những màn\n",
      "trình diễn pháo hoa đẹp mắt. Cùng bạn bè đến xem pháo hoa từ sớm, anh Nguyễn Quốc Đạt (25 tuổi, ngụ quận Liên\n",
      "Chiểu, TP Đà Nẵng) đã chuẩn bị sẵn sàng máy ảnh, nước uống chờ xem pháo hoa.\n",
      "=====\n",
      "“Vì muốn có những bức ảnh đẹp, mình thường đến sớm để chọn vị trí có “view” xem\n",
      "pháo hoa rõ nhất.\n",
      "=====\n",
      "Mình thực sự ấn tượng với những màn pháo hoa diễn ra suốt thời\n",
      "gian qua”, anh Đạt chia sẻ.\n",
      "=====\n",
      "Những màn pháo hoa rực rỡ này là sản phẩm du lịch mới nằm trong show diễn\n",
      "Symphony of River - Bản giao hưởng bên sông của Da Nang Downtown.\n",
      "=====\n",
      "Phần trình\n",
      "diễn pháo hoa thường bắt đầu vào khoảng 21h - 21h30 hằng đêm, kéo dài trong hơn\n",
      "một tháng nay. Tuy nhiên, người dân và du khách có thể thưởng thức pháo hoa miễn phí tại nhiều khu\n",
      "vực dọc sông Hàn. Những tràng pháo hoa kéo dài hơn 10 phút mỗi đêm đã nhanh chóng trở nên \"hot\" trên\n",
      "các nền tảng mạng xã hội thời gian gần đây. Nằm ở ví trí đối diện với điểm bắn pháo hoa, một đoạn đường Chương Dương những\n",
      "ngày này thu hút đông đảo người dân và du khách đến vui chơi, trò chuyện, ngắm pháo\n",
      "hoa. Anh Trần Văn Hoàng (du khách đến từ Quảng Bình) cho biết: “Được ngồi bên bờ sông\n",
      "Hàn hóng mát xem pháo hoa là một trải nghiệm rất thú vị. Nếu có điều kiện, tôi nhất\n",
      "định sẽ quay lại Đà Nẵng thêm một lần nữa”.\n",
      "=====\n",
      "Những ngày này khắp đường lớn, ngõ nhỏ, hàng quán tại Đà Nẵng rực rỡ sắc đỏ cờ hoa,\n",
      "áp phích, tranh vẽ chào mừng Quốc khánh 2-9.\n",
      "=====\n",
      "\n",
      "=====\n",
      "Kinh nghiệm food tour tại điểm đến mới\n",
      "\n",
      "=====\n",
      "Khi đến bất kỳ nơi nào, điều đầu tiên cây viết chuyên về du lịch người Mỹ Megan duBois\n",
      "lựa chọn là đặt tour khám phá ẩm thực địa phương. Megan duBois, cây viết chuyên về du lịch đến từ thành phố Orlando, Mỹ, dành phần lớn\n",
      "thời gian trong năm để đi khắp thế giới. Trong bài chia sẻ mới nhất trên Business\n",
      "Insider cuối tháng 8, Megan chia sẻ về điều cô luôn làm trong ngày đầu tiên đến một\n",
      "nơi mới. Đó là chi 100-150 USD để mua tour khám phá ẩm thực - food tour. Theo Megan, food tour là cách tuyệt vời để tìm hiểu về thành phố vừa đặt chân đến, cô\n",
      "mua tour ẩm thực có hướng dẫn viên địa phương vì họ thường có rất nhiều thông tin\n",
      "hữu ích về điểm đến. Bên cạnh đó, lợi ích của một food tour là Megan có thể thưởng thức nhiều món, thay vì\n",
      "ăn một món tại nhà hàng. Trong hầu hết các tour, cô thường được hướng dẫn viên dẫn\n",
      "đi ăn 4-6 món.\n",
      "=====\n",
      "Mỗi món, cô lại được đưa đến một nơi khác nhau để thưởng thức.\n",
      "=====\n",
      "Trong\n",
      "tour du lịch gần đây nhất của Megan đến thủ đô Reykjavik, Iceland, cô được hướng dẫn\n",
      "viên địa phương dẫn đi ăn thử món cá mập lên men và xúc xích với ba loại nước sốt\n",
      "khác nhau.\n",
      "=====\n",
      "Tại thành phố Savannah, bang Georgia, Mỹ, cô ăn thử mọi thứ khi mua food tour: từ thịt\n",
      "lợn rán đến kem truyền thống của địa phương. Khi tham quan Budapest, Hungary, cô được thưởng thức nhiều loại strudel (bánh ngọt\n",
      "mỏng cuộn trái cây rồi đem nướng), các sản phẩm được chế biến từ thịt và phô mai địa\n",
      "phương.\n",
      "=====\n",
      "Megan cho biết ngay cả khi cô dùng bữa tại một nhà hàng sang trọng ở địa phương, giá\n",
      "thành đắt hơn nhưng không có nghĩa rằng bữa ăn đó có hương vị phong phú bằng các\n",
      "tour ẩm thực có hướng dẫn viên.\n",
      "=====\n",
      "Ngoài ra, trong chuyến food tour, Megan sẽ được hướng dẫn viên giới thiệu bao quát về\n",
      "thành phố cũng như lịch sử của điểm đến.\n",
      "=====\n",
      "Tại Budapest, hướng dẫn viên trong lúc đưa\n",
      "khách đi ăn đã nói về Thế chiến II và tác động của nó đối với thành phố.\n",
      "=====\n",
      "Trong tour ở\n",
      "Savannah, cô đã được nghe rất nhiều về lịch sử của miền Nam nước Mỹ trong cuộc nội\n",
      "chiến. \"Với tôi, điều này giống như kết hợp tour tham quan bảo tàng và một bữa ăn\",\n",
      "Megan nói.\n",
      "=====\n",
      "Food tour cũng cho cô có cơ hội khám phá đường phố bằng cách đi bộ, thay vì ngồi ôtô,\n",
      "tạo cảm giác cưỡi ngựa xem hoa và \"tận dụng\" hướng dẫn viên để hỏi họ về cách di\n",
      "chuyển dễ dàng nhất giữa các điểm đến.\n",
      "=====\n",
      "Tại Budapest, hướng dẫn viên thậm chí còn\n",
      "cho Megan vé xe điện. Vì những lý do trên, cô luôn tận dụng tối đa thời gian của các food tour để hiểu rõ hơn\n",
      "về thành phố cô đang ghé thăm.\n",
      "=====\n",
      "Megan cũng đưa ra mẹo nhỏ để tiết kiệm chi phí. Trước khi đặt tour, cô thường \"săn\n",
      "sales\" trên các nền tảng như Tripadvisor hay Viator để có mã giảm giá.\n",
      "=====\n",
      "Ngoài ra, cô\n",
      "cũng thường đặt trực tiếp tại các công ty du lịch hoặc trên các phương tiện truyền\n",
      "\n"
     ]
    }
   ],
   "source": [
    "for chunk in text_chunks:\n",
    "    print('=====')\n",
    "    print(chunk)"
   ]
  },
  {
   "cell_type": "code",
   "execution_count": 31,
   "metadata": {},
   "outputs": [
    {
     "name": "stderr",
     "output_type": "stream",
     "text": [
      "2024-09-29 14:56:30,280 - INFO - semantic_chunking_helper.py:33 - Do semantic chunking\n",
      "2024-09-29 14:56:30,282 - INFO - semantic_chunking_helper.py:53 - semantic_chunking.split_sentences_from_docs: Found 76 sentences\n",
      "2024-09-29 14:56:30,283 - INFO - semantic_chunking_helper.py:66 - semantic_chunking.combine_sentences\n",
      "2024-09-29 14:56:30,283 - INFO - semantic_chunking_helper.py:127 - semantic_chunking.embed_documents_from_combined_sentences\n",
      "2024-09-29 14:56:30,827 - INFO - semantic_chunking_helper.py:100 - semantic_chunking.calculate_cosine_distances\n",
      "2024-09-29 14:56:30,898 - INFO - semantic_chunking_helper.py:174 - semantic_chunking.get_chunks: Found 38 chunks\n"
     ]
    },
    {
     "data": {
      "text/plain": [
       "['Lý do các hãng hàng không Mỹ cấm hành khách đi chân trần trên\\n máy bay\\n Hành khách đi chân trần trên máy bay ngày càng đông nhưng không phải tất cả các\\nhãng hàng không đều chấp nhận, nhiều hãng Mỹ cấm bay nếu khách không đi tất. Để lộ chân trần trên máy bay có thể khiến bạn bị \"đá\" khỏi một số hãng hàng không Mỹ. Định nghĩa \"chân trần\" bao gồm cả việc cởi tất khi đã lên máy bay. Ví dụ, American Airlines là một trong số nhiều hãng hàng không coi việc không đi tất là\\nhành vi vi phạm quy định. Hợp đồng vận chuyển của hãng hàng không này buộc hành\\nkhách phải \"ăn mặc phù hợp\", đồng thời \"không được phép đi chân trần hoặc mặc quần\\náo phản cảm\". United Airlines cũng \"mong đợi\" hành khách tuân thủ quy định trên, phân loại hành\\nkhách đi chân trần là \"không mặc quần áo phù hợp\". Đây là lý do để \"đuổi\" khách khỏi\\nmáy bay theo hướng dẫn của hãng.',\n",
       " 'Delta Airlines và Spirit Airlines cũng tuyên bố họ có quyền đuổi những hành khách\\nkhông tuân thủ chính sách đi tất của hãng.',\n",
       " 'máy bay theo hướng dẫn của hãng.',\n",
       " 'Delta Airlines và Spirit Airlines cũng tuyên bố họ có quyền đuổi những hành khách\\nkhông tuân thủ chính sách đi tất của hãng.',\n",
       " 'Nhiều hãng hàng không đã vạch ra giới hạn độ tuổi cho chính sách này. Frontier\\nAirlines cho biết có thể từ chối phục vụ hành khách đi chân trần trên 3 tuổi trừ khi họ \"đi\\nchân trần vì lý do y tế\".',\n",
       " 'Hợp đồng vận chuyển của Southwest Airlines và JetBlue cũng quy định tương tự,\\nnhưng trên 5 tuổi.',\n",
       " 'Các chuyên gia về chuyến bay trên diễn đàn hàng không One Mile At A Time lập luận\\nquy định cấm chân trần \"không chỉ có nghĩa là bạn phải đi giày khi lên máy bay, nhưng\\nthực tế là bạn cần phải đi giày\".',\n",
       " 'Suy cho cùng, lệnh cấm quần áo phản cảm không chỉ\\náp dụng khi bạn lên máy bay. Mặc dù vậy, quyền đi chân trần đã trở thành điểm gây tranh cãi.',\n",
       " 'Một số người ủng hộ\\nviệc đi máy bay không mang tất tuyên bố, việc \"bắt lỗi chân hành khách\" hay không lại\\ntùy thuộc vào tiếp viên hàng không đang làm nhiệm vụ.',\n",
       " 'việc đi máy bay không mang tất tuyên bố, việc \"bắt lỗi chân hành khách\" hay không lại\\ntùy thuộc vào tiếp viên hàng không đang làm nhiệm vụ. Trong khi đó, họ chỉ ra rằng nhiều hợp đồng vận chuyển của các hãng hàng không\\nkhông phải của Mỹ không bao gồm bất kỳ tham chiếu nào liên quan đến việc bay khi đi\\nchân trần. Thế nhưng, hãng hàng không Qantas của Úc thậm chí còn không cho phép khách đi\\ndép trong phòng chờ, theo One Mile At A Time. Thật không may, việc bay lên trời mà không đi tất không chỉ bị coi là thô lỗ mà còn tiềm\\nẩn nguy cơ gây hại cho sức khỏe, bởi sàn máy bay rất bẩn. \"Tôi sẽ không bao giờ đi chân trần trên máy bay\", một tiếp viên hàng không kỳ cựu của\\nhãng hàng không lớn cho biết, theo WGN Morning News.',\n",
       " '\"Hành khách ngày nay có thể',\n",
       " 'Trải bạt bên sông Hàn Đà Nẵng xem pháo hoa mỗi đêm\\n',\n",
       " 'Từ 20h, nhiều người dân và du khách đã chen chân tại các khu vực đắc địa dọc bờ sông\\nHàn để \"xí\" chỗ xem những màn pháo hoa tỏa sáng trên bầu trời. Đặc biệt khu vực dọc đường Chương Dương (đoạn từ cầu Trần Thị Lý - cầu Tiên Sơn),\\nrất đông người dân và du khách đến trải bạt, ngồi bệt san sát nhau ở trên vỉa hè, bờ kè. Nhiều cặp đôi, gia đình mang theo đồ ăn, nước uống để nhâm nhi chờ đợi những màn\\ntrình diễn pháo hoa đẹp mắt. Cùng bạn bè đến xem pháo hoa từ sớm, anh Nguyễn Quốc Đạt (25 tuổi, ngụ quận Liên\\nChiểu, TP Đà Nẵng) đã chuẩn bị sẵn sàng máy ảnh, nước uống chờ xem pháo hoa.',\n",
       " '“Vì muốn có những bức ảnh đẹp, mình thường đến sớm để chọn vị trí có “view” xem\\npháo hoa rõ nhất. Mình thực sự ấn tượng với những màn pháo hoa diễn ra suốt thời\\ngian qua”, anh Đạt chia sẻ.',\n",
       " 'Những màn pháo hoa rực rỡ này là sản phẩm du lịch mới nằm trong show diễn\\nSymphony of River - Bản giao hưởng bên sông của Da Nang Downtown.',\n",
       " 'Phần trình',\n",
       " 'gian qua”, anh Đạt chia sẻ. Những màn pháo hoa rực rỡ này là sản phẩm du lịch mới nằm trong show diễn\\nSymphony of River - Bản giao hưởng bên sông của Da Nang Downtown. Phần trình\\ndiễn pháo hoa thường bắt đầu vào khoảng 21h - 21h30 hằng đêm, kéo dài trong hơn\\nmột tháng nay. Tuy nhiên, người dân và du khách có thể thưởng thức pháo hoa miễn phí tại nhiều khu\\nvực dọc sông Hàn. Những tràng pháo hoa kéo dài hơn 10 phút mỗi đêm đã nhanh chóng trở nên \"hot\" trên\\ncác nền tảng mạng xã hội thời gian gần đây. Nằm ở ví trí đối diện với điểm bắn pháo hoa, một đoạn đường Chương Dương những\\nngày này thu hút đông đảo người dân và du khách đến vui chơi, trò chuyện, ngắm pháo\\nhoa. Anh Trần Văn Hoàng (du khách đến từ Quảng Bình) cho biết: “Được ngồi bên bờ sông\\nHàn hóng mát xem pháo hoa là một trải nghiệm rất thú vị.',\n",
       " 'Nếu có điều kiện, tôi nhất\\nđịnh sẽ quay lại Đà Nẵng thêm một lần nữa”.',\n",
       " 'Những ngày này khắp đường lớn, ngõ nhỏ, hàng quán tại Đà Nẵng rực rỡ sắc đỏ cờ hoa,',\n",
       " 'định sẽ quay lại Đà Nẵng thêm một lần nữa”.',\n",
       " 'Những ngày này khắp đường lớn, ngõ nhỏ, hàng quán tại Đà Nẵng rực rỡ sắc đỏ cờ hoa,\\náp phích, tranh vẽ chào mừng Quốc khánh 2-9.',\n",
       " 'Kinh nghiệm food tour tại điểm đến mới\\n',\n",
       " 'Khi đến bất kỳ nơi nào, điều đầu tiên cây viết chuyên về du lịch người Mỹ Megan duBois\\nlựa chọn là đặt tour khám phá ẩm thực địa phương.',\n",
       " 'Megan duBois, cây viết chuyên về du lịch đến từ thành phố Orlando, Mỹ, dành phần lớn\\nthời gian trong năm để đi khắp thế giới. Trong bài chia sẻ mới nhất trên Business\\nInsider cuối tháng 8, Megan chia sẻ về điều cô luôn làm trong ngày đầu tiên đến một\\nnơi mới. Đó là chi 100-150 USD để mua tour khám phá ẩm thực - food tour. Theo Megan, food tour là cách tuyệt vời để tìm hiểu về thành phố vừa đặt chân đến, cô\\nmua tour ẩm thực có hướng dẫn viên địa phương vì họ thường có rất nhiều thông tin\\nhữu ích về điểm đến. Bên cạnh đó, lợi ích của một food tour là Megan có thể thưởng thức nhiều món, thay vì\\năn một món tại nhà hàng. Trong hầu hết các tour, cô thường được hướng dẫn viên dẫn\\nđi ăn 4-6 món.',\n",
       " 'Mỗi món, cô lại được đưa đến một nơi khác nhau để thưởng thức.',\n",
       " 'Trong ăn một món tại nhà hàng.',\n",
       " 'Trong hầu hết các tour, cô thường được hướng dẫn viên dẫn\\nđi ăn 4-6 món. Mỗi món, cô lại được đưa đến một nơi khác nhau để thưởng thức. Trong\\ntour du lịch gần đây nhất của Megan đến thủ đô Reykjavik, Iceland, cô được hướng dẫn\\nviên địa phương dẫn đi ăn thử món cá mập lên men và xúc xích với ba loại nước sốt\\nkhác nhau.',\n",
       " 'Tại thành phố Savannah, bang Georgia, Mỹ, cô ăn thử mọi thứ khi mua food tour: từ thịt\\nlợn rán đến kem truyền thống của địa phương. Khi tham quan Budapest, Hungary, cô được thưởng thức nhiều loại strudel (bánh ngọt\\nmỏng cuộn trái cây rồi đem nướng), các sản phẩm được chế biến từ thịt và phô mai địa\\nphương.',\n",
       " 'Megan cho biết ngay cả khi cô dùng bữa tại một nhà hàng sang trọng ở địa phương, giá\\nthành đắt hơn nhưng không có nghĩa rằng bữa ăn đó có hương vị phong phú bằng các\\ntour ẩm thực có hướng dẫn viên.',\n",
       " 'Ngoài ra, trong chuyến food tour, Megan sẽ được hướng dẫn viên giới thiệu bao quát về',\n",
       " 'thành đắt hơn nhưng không có nghĩa rằng bữa ăn đó có hương vị phong phú bằng các\\ntour ẩm thực có hướng dẫn viên.',\n",
       " 'Ngoài ra, trong chuyến food tour, Megan sẽ được hướng dẫn viên giới thiệu bao quát về\\nthành phố cũng như lịch sử của điểm đến. Tại Budapest, hướng dẫn viên trong lúc đưa\\nkhách đi ăn đã nói về Thế chiến II và tác động của nó đối với thành phố.',\n",
       " 'Trong tour ở\\nSavannah, cô đã được nghe rất nhiều về lịch sử của miền Nam nước Mỹ trong cuộc nội\\nchiến. \"Với tôi, điều này giống như kết hợp tour tham quan bảo tàng và một bữa ăn\",\\nMegan nói.',\n",
       " 'Food tour cũng cho cô có cơ hội khám phá đường phố bằng cách đi bộ, thay vì ngồi ôtô,\\ntạo cảm giác cưỡi ngựa xem hoa và \"tận dụng\" hướng dẫn viên để hỏi họ về cách di\\nchuyển dễ dàng nhất giữa các điểm đến.',\n",
       " 'Tại Budapest, hướng dẫn viên thậm chí còn\\ncho Megan vé xe điện. Vì những lý do trên, cô luôn tận dụng tối đa thời gian của các food tour để hiểu rõ hơn\\nvề thành phố cô đang ghé thăm.',\n",
       " 'cho Megan vé xe điện.',\n",
       " 'Vì những lý do trên, cô luôn tận dụng tối đa thời gian của các food tour để hiểu rõ hơn\\nvề thành phố cô đang ghé thăm. Megan cũng đưa ra mẹo nhỏ để tiết kiệm chi phí. Trước khi đặt tour, cô thường \"săn\\nsales\" trên các nền tảng như Tripadvisor hay Viator để có mã giảm giá.',\n",
       " 'Ngoài ra, cô\\ncũng thường đặt trực tiếp tại các công ty du lịch hoặc trên các phương tiện truyền']"
      ]
     },
     "execution_count": 31,
     "metadata": {},
     "output_type": "execute_result"
    }
   ],
   "source": [
    "from semantic_chunking_helper import SematicChunkingHelper\n",
    "\n",
    "chunk_from_chunk = SematicChunkingHelper(\n",
    "    docs=chunks, embeddings=embeddings, buffer_size=2, breakpoint_threshold=50\n",
    ")\n",
    "chunk_from_chunk.text_chunks"
   ]
  },
  {
   "cell_type": "code",
   "execution_count": 32,
   "metadata": {},
   "outputs": [
    {
     "data": {
      "text/plain": [
       "38"
      ]
     },
     "execution_count": 32,
     "metadata": {},
     "output_type": "execute_result"
    }
   ],
   "source": [
    "len(chunk_from_chunk.text_chunks)"
   ]
  },
  {
   "cell_type": "code",
   "execution_count": 33,
   "metadata": {},
   "outputs": [
    {
     "name": "stdout",
     "output_type": "stream",
     "text": [
      "=====\n",
      "Lý do các hãng hàng không Mỹ cấm hành khách đi chân trần trên\n",
      " máy bay\n",
      " Hành khách đi chân trần trên máy bay ngày càng đông nhưng không phải tất cả các\n",
      "hãng hàng không đều chấp nhận, nhiều hãng Mỹ cấm bay nếu khách không đi tất. Để lộ chân trần trên máy bay có thể khiến bạn bị \"đá\" khỏi một số hãng hàng không Mỹ. Định nghĩa \"chân trần\" bao gồm cả việc cởi tất khi đã lên máy bay. Ví dụ, American Airlines là một trong số nhiều hãng hàng không coi việc không đi tất là\n",
      "hành vi vi phạm quy định. Hợp đồng vận chuyển của hãng hàng không này buộc hành\n",
      "khách phải \"ăn mặc phù hợp\", đồng thời \"không được phép đi chân trần hoặc mặc quần\n",
      "áo phản cảm\". United Airlines cũng \"mong đợi\" hành khách tuân thủ quy định trên, phân loại hành\n",
      "khách đi chân trần là \"không mặc quần áo phù hợp\". Đây là lý do để \"đuổi\" khách khỏi\n",
      "máy bay theo hướng dẫn của hãng.\n",
      "=====\n",
      "Delta Airlines và Spirit Airlines cũng tuyên bố họ có quyền đuổi những hành khách\n",
      "không tuân thủ chính sách đi tất của hãng.\n",
      "=====\n",
      "máy bay theo hướng dẫn của hãng.\n",
      "=====\n",
      "Delta Airlines và Spirit Airlines cũng tuyên bố họ có quyền đuổi những hành khách\n",
      "không tuân thủ chính sách đi tất của hãng.\n",
      "=====\n",
      "Nhiều hãng hàng không đã vạch ra giới hạn độ tuổi cho chính sách này. Frontier\n",
      "Airlines cho biết có thể từ chối phục vụ hành khách đi chân trần trên 3 tuổi trừ khi họ \"đi\n",
      "chân trần vì lý do y tế\".\n",
      "=====\n",
      "Hợp đồng vận chuyển của Southwest Airlines và JetBlue cũng quy định tương tự,\n",
      "nhưng trên 5 tuổi.\n",
      "=====\n",
      "Các chuyên gia về chuyến bay trên diễn đàn hàng không One Mile At A Time lập luận\n",
      "quy định cấm chân trần \"không chỉ có nghĩa là bạn phải đi giày khi lên máy bay, nhưng\n",
      "thực tế là bạn cần phải đi giày\".\n",
      "=====\n",
      "Suy cho cùng, lệnh cấm quần áo phản cảm không chỉ\n",
      "áp dụng khi bạn lên máy bay. Mặc dù vậy, quyền đi chân trần đã trở thành điểm gây tranh cãi.\n",
      "=====\n",
      "Một số người ủng hộ\n",
      "việc đi máy bay không mang tất tuyên bố, việc \"bắt lỗi chân hành khách\" hay không lại\n",
      "tùy thuộc vào tiếp viên hàng không đang làm nhiệm vụ.\n",
      "=====\n",
      "việc đi máy bay không mang tất tuyên bố, việc \"bắt lỗi chân hành khách\" hay không lại\n",
      "tùy thuộc vào tiếp viên hàng không đang làm nhiệm vụ. Trong khi đó, họ chỉ ra rằng nhiều hợp đồng vận chuyển của các hãng hàng không\n",
      "không phải của Mỹ không bao gồm bất kỳ tham chiếu nào liên quan đến việc bay khi đi\n",
      "chân trần. Thế nhưng, hãng hàng không Qantas của Úc thậm chí còn không cho phép khách đi\n",
      "dép trong phòng chờ, theo One Mile At A Time. Thật không may, việc bay lên trời mà không đi tất không chỉ bị coi là thô lỗ mà còn tiềm\n",
      "ẩn nguy cơ gây hại cho sức khỏe, bởi sàn máy bay rất bẩn. \"Tôi sẽ không bao giờ đi chân trần trên máy bay\", một tiếp viên hàng không kỳ cựu của\n",
      "hãng hàng không lớn cho biết, theo WGN Morning News.\n",
      "=====\n",
      "\"Hành khách ngày nay có thể\n",
      "=====\n",
      "Trải bạt bên sông Hàn Đà Nẵng xem pháo hoa mỗi đêm\n",
      "\n",
      "=====\n",
      "Từ 20h, nhiều người dân và du khách đã chen chân tại các khu vực đắc địa dọc bờ sông\n",
      "Hàn để \"xí\" chỗ xem những màn pháo hoa tỏa sáng trên bầu trời. Đặc biệt khu vực dọc đường Chương Dương (đoạn từ cầu Trần Thị Lý - cầu Tiên Sơn),\n",
      "rất đông người dân và du khách đến trải bạt, ngồi bệt san sát nhau ở trên vỉa hè, bờ kè. Nhiều cặp đôi, gia đình mang theo đồ ăn, nước uống để nhâm nhi chờ đợi những màn\n",
      "trình diễn pháo hoa đẹp mắt. Cùng bạn bè đến xem pháo hoa từ sớm, anh Nguyễn Quốc Đạt (25 tuổi, ngụ quận Liên\n",
      "Chiểu, TP Đà Nẵng) đã chuẩn bị sẵn sàng máy ảnh, nước uống chờ xem pháo hoa.\n",
      "=====\n",
      "“Vì muốn có những bức ảnh đẹp, mình thường đến sớm để chọn vị trí có “view” xem\n",
      "pháo hoa rõ nhất. Mình thực sự ấn tượng với những màn pháo hoa diễn ra suốt thời\n",
      "gian qua”, anh Đạt chia sẻ.\n",
      "=====\n",
      "Những màn pháo hoa rực rỡ này là sản phẩm du lịch mới nằm trong show diễn\n",
      "Symphony of River - Bản giao hưởng bên sông của Da Nang Downtown.\n",
      "=====\n",
      "Phần trình\n",
      "=====\n",
      "gian qua”, anh Đạt chia sẻ. Những màn pháo hoa rực rỡ này là sản phẩm du lịch mới nằm trong show diễn\n",
      "Symphony of River - Bản giao hưởng bên sông của Da Nang Downtown. Phần trình\n",
      "diễn pháo hoa thường bắt đầu vào khoảng 21h - 21h30 hằng đêm, kéo dài trong hơn\n",
      "một tháng nay. Tuy nhiên, người dân và du khách có thể thưởng thức pháo hoa miễn phí tại nhiều khu\n",
      "vực dọc sông Hàn. Những tràng pháo hoa kéo dài hơn 10 phút mỗi đêm đã nhanh chóng trở nên \"hot\" trên\n",
      "các nền tảng mạng xã hội thời gian gần đây. Nằm ở ví trí đối diện với điểm bắn pháo hoa, một đoạn đường Chương Dương những\n",
      "ngày này thu hút đông đảo người dân và du khách đến vui chơi, trò chuyện, ngắm pháo\n",
      "hoa. Anh Trần Văn Hoàng (du khách đến từ Quảng Bình) cho biết: “Được ngồi bên bờ sông\n",
      "Hàn hóng mát xem pháo hoa là một trải nghiệm rất thú vị.\n",
      "=====\n",
      "Nếu có điều kiện, tôi nhất\n",
      "định sẽ quay lại Đà Nẵng thêm một lần nữa”.\n",
      "=====\n",
      "Những ngày này khắp đường lớn, ngõ nhỏ, hàng quán tại Đà Nẵng rực rỡ sắc đỏ cờ hoa,\n",
      "=====\n",
      "định sẽ quay lại Đà Nẵng thêm một lần nữa”.\n",
      "=====\n",
      "Những ngày này khắp đường lớn, ngõ nhỏ, hàng quán tại Đà Nẵng rực rỡ sắc đỏ cờ hoa,\n",
      "áp phích, tranh vẽ chào mừng Quốc khánh 2-9.\n",
      "=====\n",
      "Kinh nghiệm food tour tại điểm đến mới\n",
      "\n",
      "=====\n",
      "Khi đến bất kỳ nơi nào, điều đầu tiên cây viết chuyên về du lịch người Mỹ Megan duBois\n",
      "lựa chọn là đặt tour khám phá ẩm thực địa phương.\n",
      "=====\n",
      "Megan duBois, cây viết chuyên về du lịch đến từ thành phố Orlando, Mỹ, dành phần lớn\n",
      "thời gian trong năm để đi khắp thế giới. Trong bài chia sẻ mới nhất trên Business\n",
      "Insider cuối tháng 8, Megan chia sẻ về điều cô luôn làm trong ngày đầu tiên đến một\n",
      "nơi mới. Đó là chi 100-150 USD để mua tour khám phá ẩm thực - food tour. Theo Megan, food tour là cách tuyệt vời để tìm hiểu về thành phố vừa đặt chân đến, cô\n",
      "mua tour ẩm thực có hướng dẫn viên địa phương vì họ thường có rất nhiều thông tin\n",
      "hữu ích về điểm đến. Bên cạnh đó, lợi ích của một food tour là Megan có thể thưởng thức nhiều món, thay vì\n",
      "ăn một món tại nhà hàng. Trong hầu hết các tour, cô thường được hướng dẫn viên dẫn\n",
      "đi ăn 4-6 món.\n",
      "=====\n",
      "Mỗi món, cô lại được đưa đến một nơi khác nhau để thưởng thức.\n",
      "=====\n",
      "Trong ăn một món tại nhà hàng.\n",
      "=====\n",
      "Trong hầu hết các tour, cô thường được hướng dẫn viên dẫn\n",
      "đi ăn 4-6 món. Mỗi món, cô lại được đưa đến một nơi khác nhau để thưởng thức. Trong\n",
      "tour du lịch gần đây nhất của Megan đến thủ đô Reykjavik, Iceland, cô được hướng dẫn\n",
      "viên địa phương dẫn đi ăn thử món cá mập lên men và xúc xích với ba loại nước sốt\n",
      "khác nhau.\n",
      "=====\n",
      "Tại thành phố Savannah, bang Georgia, Mỹ, cô ăn thử mọi thứ khi mua food tour: từ thịt\n",
      "lợn rán đến kem truyền thống của địa phương. Khi tham quan Budapest, Hungary, cô được thưởng thức nhiều loại strudel (bánh ngọt\n",
      "mỏng cuộn trái cây rồi đem nướng), các sản phẩm được chế biến từ thịt và phô mai địa\n",
      "phương.\n",
      "=====\n",
      "Megan cho biết ngay cả khi cô dùng bữa tại một nhà hàng sang trọng ở địa phương, giá\n",
      "thành đắt hơn nhưng không có nghĩa rằng bữa ăn đó có hương vị phong phú bằng các\n",
      "tour ẩm thực có hướng dẫn viên.\n",
      "=====\n",
      "Ngoài ra, trong chuyến food tour, Megan sẽ được hướng dẫn viên giới thiệu bao quát về\n",
      "=====\n",
      "thành đắt hơn nhưng không có nghĩa rằng bữa ăn đó có hương vị phong phú bằng các\n",
      "tour ẩm thực có hướng dẫn viên.\n",
      "=====\n",
      "Ngoài ra, trong chuyến food tour, Megan sẽ được hướng dẫn viên giới thiệu bao quát về\n",
      "thành phố cũng như lịch sử của điểm đến. Tại Budapest, hướng dẫn viên trong lúc đưa\n",
      "khách đi ăn đã nói về Thế chiến II và tác động của nó đối với thành phố.\n",
      "=====\n",
      "Trong tour ở\n",
      "Savannah, cô đã được nghe rất nhiều về lịch sử của miền Nam nước Mỹ trong cuộc nội\n",
      "chiến. \"Với tôi, điều này giống như kết hợp tour tham quan bảo tàng và một bữa ăn\",\n",
      "Megan nói.\n",
      "=====\n",
      "Food tour cũng cho cô có cơ hội khám phá đường phố bằng cách đi bộ, thay vì ngồi ôtô,\n",
      "tạo cảm giác cưỡi ngựa xem hoa và \"tận dụng\" hướng dẫn viên để hỏi họ về cách di\n",
      "chuyển dễ dàng nhất giữa các điểm đến.\n",
      "=====\n",
      "Tại Budapest, hướng dẫn viên thậm chí còn\n",
      "cho Megan vé xe điện. Vì những lý do trên, cô luôn tận dụng tối đa thời gian của các food tour để hiểu rõ hơn\n",
      "về thành phố cô đang ghé thăm.\n",
      "=====\n",
      "cho Megan vé xe điện.\n",
      "=====\n",
      "Vì những lý do trên, cô luôn tận dụng tối đa thời gian của các food tour để hiểu rõ hơn\n",
      "về thành phố cô đang ghé thăm. Megan cũng đưa ra mẹo nhỏ để tiết kiệm chi phí. Trước khi đặt tour, cô thường \"săn\n",
      "sales\" trên các nền tảng như Tripadvisor hay Viator để có mã giảm giá.\n",
      "=====\n",
      "Ngoài ra, cô\n",
      "cũng thường đặt trực tiếp tại các công ty du lịch hoặc trên các phương tiện truyền\n"
     ]
    }
   ],
   "source": [
    "for chunk in chunk_from_chunk.text_chunks:\n",
    "    print('=====')\n",
    "    print(chunk)"
   ]
  },
  {
   "cell_type": "code",
   "execution_count": 34,
   "metadata": {
    "scrolled": true
   },
   "outputs": [
    {
     "data": {
      "text/plain": [
       "<langchain_community.vectorstores.chroma.Chroma at 0x7f96dff082d0>"
      ]
     },
     "execution_count": 34,
     "metadata": {},
     "output_type": "execute_result"
    }
   ],
   "source": [
    "from chromadb.config import Settings\n",
    "from langchain_community.vectorstores.chroma import Chroma\n",
    "\n",
    "setting = Settings(\n",
    "    anonymized_telemetry=False,\n",
    "    is_persistent=True,\n",
    ")\n",
    "Chroma.from_texts(\n",
    "    texts=text_chunks,\n",
    "    embedding=embeddings,\n",
    "    client_settings=setting,\n",
    "    persist_directory='.DB_llama3.1',\n",
    ")"
   ]
  },
  {
   "cell_type": "code",
   "execution_count": 35,
   "metadata": {},
   "outputs": [
    {
     "name": "stderr",
     "output_type": "stream",
     "text": [
      "/tmp/ipykernel_26432/1238436316.py:1: LangChainDeprecationWarning: The class `Chroma` was deprecated in LangChain 0.2.9 and will be removed in 0.4. An updated version of the class exists in the :class:`~langchain-chroma package and should be used instead. To use it run `pip install -U :class:`~langchain-chroma` and import as `from :class:`~langchain_chroma import Chroma``.\n",
      "  vector_store = Chroma(\n"
     ]
    }
   ],
   "source": [
    "vector_store = Chroma(\n",
    "    persist_directory='.DB_llama3.1',\n",
    "    embedding_function=embeddings,\n",
    "    client_settings=setting,\n",
    ")\n",
    "retriever = vector_store.as_retriever()"
   ]
  },
  {
   "cell_type": "code",
   "execution_count": 36,
   "metadata": {},
   "outputs": [],
   "source": [
    "result_docs = retriever.invoke(\"What is a food tour?\")"
   ]
  },
  {
   "cell_type": "code",
   "execution_count": 37,
   "metadata": {},
   "outputs": [
    {
     "data": {
      "text/plain": [
       "[Document(metadata={}, page_content='Kinh nghiệm food tour tại điểm đến mới\\n'),\n",
       " Document(metadata={}, page_content='Khi đến bất kỳ nơi nào, điều đầu tiên cây viết chuyên về du lịch người Mỹ Megan duBois\\nlựa chọn là đặt tour khám phá ẩm thực địa phương. Megan duBois, cây viết chuyên về du lịch đến từ thành phố Orlando, Mỹ, dành phần lớn\\nthời gian trong năm để đi khắp thế giới. Trong bài chia sẻ mới nhất trên Business\\nInsider cuối tháng 8, Megan chia sẻ về điều cô luôn làm trong ngày đầu tiên đến một\\nnơi mới. Đó là chi 100-150 USD để mua tour khám phá ẩm thực - food tour. Theo Megan, food tour là cách tuyệt vời để tìm hiểu về thành phố vừa đặt chân đến, cô\\nmua tour ẩm thực có hướng dẫn viên địa phương vì họ thường có rất nhiều thông tin\\nhữu ích về điểm đến. Bên cạnh đó, lợi ích của một food tour là Megan có thể thưởng thức nhiều món, thay vì\\năn một món tại nhà hàng. Trong hầu hết các tour, cô thường được hướng dẫn viên dẫn\\nđi ăn 4-6 món.'),\n",
       " Document(metadata={}, page_content='Tại thành phố Savannah, bang Georgia, Mỹ, cô ăn thử mọi thứ khi mua food tour: từ thịt\\nlợn rán đến kem truyền thống của địa phương. Khi tham quan Budapest, Hungary, cô được thưởng thức nhiều loại strudel (bánh ngọt\\nmỏng cuộn trái cây rồi đem nướng), các sản phẩm được chế biến từ thịt và phô mai địa\\nphương.'),\n",
       " Document(metadata={}, page_content='Trong\\ntour du lịch gần đây nhất của Megan đến thủ đô Reykjavik, Iceland, cô được hướng dẫn\\nviên địa phương dẫn đi ăn thử món cá mập lên men và xúc xích với ba loại nước sốt\\nkhác nhau.')]"
      ]
     },
     "execution_count": 37,
     "metadata": {},
     "output_type": "execute_result"
    }
   ],
   "source": [
    "result_docs"
   ]
  },
  {
   "cell_type": "code",
   "execution_count": 38,
   "metadata": {},
   "outputs": [],
   "source": [
    "from langchain.prompts import PromptTemplate\n",
    "\n",
    "prompt = PromptTemplate.from_template(\n",
    "    \"\"\"\n",
    "    <s> [INST] You are a helpful assitant, answer question about ingested news documents. Use only in the context, do not use any information outside of this context. If you don't know just say that you don't know.[/INST] </s> \n",
    "    [INST] Question: {question} \n",
    "    Context: {context} \n",
    "    Answer: [/INST]\n",
    "    \"\"\"\n",
    ")"
   ]
  },
  {
   "cell_type": "code",
   "execution_count": 39,
   "metadata": {},
   "outputs": [
    {
     "ename": "SchemaError",
     "evalue": "Invalid Schema:\nmodel.config.extra_fields_behavior\n  Input should be 'allow', 'forbid' or 'ignore' [type=literal_error, input_value=<Extra.forbid: 'forbid'>, input_type=Extra]\n    For further information visit https://errors.pydantic.dev/2.9/v/literal_error",
     "output_type": "error",
     "traceback": [
      "\u001b[0;31m---------------------------------------------------------------------------\u001b[0m",
      "\u001b[0;31mSchemaError\u001b[0m                               Traceback (most recent call last)",
      "Cell \u001b[0;32mIn[39], line 1\u001b[0m\n\u001b[0;32m----> 1\u001b[0m \u001b[38;5;28;01mfrom\u001b[39;00m \u001b[38;5;21;01mlangchain_community\u001b[39;00m\u001b[38;5;21;01m.\u001b[39;00m\u001b[38;5;21;01mchat_models\u001b[39;00m \u001b[38;5;28;01mimport\u001b[39;00m ChatOllama\n\u001b[1;32m      3\u001b[0m model \u001b[38;5;241m=\u001b[39m ChatOllama(model\u001b[38;5;241m=\u001b[39m\u001b[38;5;124m\"\u001b[39m\u001b[38;5;124mllama3.1\u001b[39m\u001b[38;5;124m\"\u001b[39m)\n",
      "File \u001b[0;32m<frozen importlib._bootstrap>:1229\u001b[0m, in \u001b[0;36m_handle_fromlist\u001b[0;34m(module, fromlist, import_, recursive)\u001b[0m\n",
      "File \u001b[0;32m/home/hungcq/study/AI_Chatbot/venv/lib/python3.11/site-packages/langchain_community/chat_models/__init__.py:293\u001b[0m, in \u001b[0;36m__getattr__\u001b[0;34m(name)\u001b[0m\n\u001b[1;32m    291\u001b[0m \u001b[38;5;28;01mdef\u001b[39;00m \u001b[38;5;21m__getattr__\u001b[39m(name: \u001b[38;5;28mstr\u001b[39m) \u001b[38;5;241m-\u001b[39m\u001b[38;5;241m>\u001b[39m Any:\n\u001b[1;32m    292\u001b[0m     \u001b[38;5;28;01mif\u001b[39;00m name \u001b[38;5;129;01min\u001b[39;00m _module_lookup:\n\u001b[0;32m--> 293\u001b[0m         module \u001b[38;5;241m=\u001b[39m \u001b[43mimportlib\u001b[49m\u001b[38;5;241;43m.\u001b[39;49m\u001b[43mimport_module\u001b[49m\u001b[43m(\u001b[49m\u001b[43m_module_lookup\u001b[49m\u001b[43m[\u001b[49m\u001b[43mname\u001b[49m\u001b[43m]\u001b[49m\u001b[43m)\u001b[49m\n\u001b[1;32m    294\u001b[0m         \u001b[38;5;28;01mreturn\u001b[39;00m \u001b[38;5;28mgetattr\u001b[39m(module, name)\n\u001b[1;32m    295\u001b[0m     \u001b[38;5;28;01mraise\u001b[39;00m \u001b[38;5;167;01mAttributeError\u001b[39;00m(\u001b[38;5;124mf\u001b[39m\u001b[38;5;124m\"\u001b[39m\u001b[38;5;124mmodule \u001b[39m\u001b[38;5;132;01m{\u001b[39;00m\u001b[38;5;18m__name__\u001b[39m\u001b[38;5;132;01m}\u001b[39;00m\u001b[38;5;124m has no attribute \u001b[39m\u001b[38;5;132;01m{\u001b[39;00mname\u001b[38;5;132;01m}\u001b[39;00m\u001b[38;5;124m\"\u001b[39m)\n",
      "File \u001b[0;32m/usr/lib/python3.11/importlib/__init__.py:126\u001b[0m, in \u001b[0;36mimport_module\u001b[0;34m(name, package)\u001b[0m\n\u001b[1;32m    124\u001b[0m             \u001b[38;5;28;01mbreak\u001b[39;00m\n\u001b[1;32m    125\u001b[0m         level \u001b[38;5;241m+\u001b[39m\u001b[38;5;241m=\u001b[39m \u001b[38;5;241m1\u001b[39m\n\u001b[0;32m--> 126\u001b[0m \u001b[38;5;28;01mreturn\u001b[39;00m \u001b[43m_bootstrap\u001b[49m\u001b[38;5;241;43m.\u001b[39;49m\u001b[43m_gcd_import\u001b[49m\u001b[43m(\u001b[49m\u001b[43mname\u001b[49m\u001b[43m[\u001b[49m\u001b[43mlevel\u001b[49m\u001b[43m:\u001b[49m\u001b[43m]\u001b[49m\u001b[43m,\u001b[49m\u001b[43m \u001b[49m\u001b[43mpackage\u001b[49m\u001b[43m,\u001b[49m\u001b[43m \u001b[49m\u001b[43mlevel\u001b[49m\u001b[43m)\u001b[49m\n",
      "File \u001b[0;32m/home/hungcq/study/AI_Chatbot/venv/lib/python3.11/site-packages/langchain_community/chat_models/ollama.py:20\u001b[0m\n\u001b[1;32m     10\u001b[0m \u001b[38;5;28;01mfrom\u001b[39;00m \u001b[38;5;21;01mlangchain_core\u001b[39;00m\u001b[38;5;21;01m.\u001b[39;00m\u001b[38;5;21;01mmessages\u001b[39;00m \u001b[38;5;28;01mimport\u001b[39;00m (\n\u001b[1;32m     11\u001b[0m     AIMessage,\n\u001b[1;32m     12\u001b[0m     AIMessageChunk,\n\u001b[0;32m   (...)\u001b[0m\n\u001b[1;32m     16\u001b[0m     SystemMessage,\n\u001b[1;32m     17\u001b[0m )\n\u001b[1;32m     18\u001b[0m \u001b[38;5;28;01mfrom\u001b[39;00m \u001b[38;5;21;01mlangchain_core\u001b[39;00m\u001b[38;5;21;01m.\u001b[39;00m\u001b[38;5;21;01moutputs\u001b[39;00m \u001b[38;5;28;01mimport\u001b[39;00m ChatGeneration, ChatGenerationChunk, ChatResult\n\u001b[0;32m---> 20\u001b[0m \u001b[38;5;28;01mfrom\u001b[39;00m \u001b[38;5;21;01mlangchain_community\u001b[39;00m\u001b[38;5;21;01m.\u001b[39;00m\u001b[38;5;21;01mllms\u001b[39;00m\u001b[38;5;21;01m.\u001b[39;00m\u001b[38;5;21;01mollama\u001b[39;00m \u001b[38;5;28;01mimport\u001b[39;00m OllamaEndpointNotFoundError, _OllamaCommon\n\u001b[1;32m     23\u001b[0m \u001b[38;5;129m@deprecated\u001b[39m(\u001b[38;5;124m\"\u001b[39m\u001b[38;5;124m0.0.3\u001b[39m\u001b[38;5;124m\"\u001b[39m, alternative\u001b[38;5;241m=\u001b[39m\u001b[38;5;124m\"\u001b[39m\u001b[38;5;124m_chat_stream_response_to_chat_generation_chunk\u001b[39m\u001b[38;5;124m\"\u001b[39m)\n\u001b[1;32m     24\u001b[0m \u001b[38;5;28;01mdef\u001b[39;00m \u001b[38;5;21m_stream_response_to_chat_generation_chunk\u001b[39m(\n\u001b[1;32m     25\u001b[0m     stream_response: \u001b[38;5;28mstr\u001b[39m,\n\u001b[1;32m     26\u001b[0m ) \u001b[38;5;241m-\u001b[39m\u001b[38;5;241m>\u001b[39m ChatGenerationChunk:\n\u001b[1;32m     27\u001b[0m \u001b[38;5;250m    \u001b[39m\u001b[38;5;124;03m\"\"\"Convert a stream response to a generation chunk.\"\"\"\u001b[39;00m\n",
      "File \u001b[0;32m/home/hungcq/study/AI_Chatbot/venv/lib/python3.11/site-packages/langchain_community/llms/ollama.py:392\u001b[0m\n\u001b[1;32m    387\u001b[0m             \u001b[38;5;28;01mraise\u001b[39;00m \u001b[38;5;167;01mValueError\u001b[39;00m(\u001b[38;5;124m\"\u001b[39m\u001b[38;5;124mNo data received from Ollama stream.\u001b[39m\u001b[38;5;124m\"\u001b[39m)\n\u001b[1;32m    389\u001b[0m         \u001b[38;5;28;01mreturn\u001b[39;00m final_chunk\n\u001b[0;32m--> 392\u001b[0m \u001b[38;5;28;43;01mclass\u001b[39;49;00m\u001b[43m \u001b[49m\u001b[38;5;21;43;01mOllama\u001b[39;49;00m\u001b[43m(\u001b[49m\u001b[43mBaseLLM\u001b[49m\u001b[43m,\u001b[49m\u001b[43m \u001b[49m\u001b[43m_OllamaCommon\u001b[49m\u001b[43m)\u001b[49m\u001b[43m:\u001b[49m\n\u001b[1;32m    393\u001b[0m \u001b[38;5;250;43m    \u001b[39;49m\u001b[38;5;124;43;03m\"\"\"Ollama locally runs large language models.\u001b[39;49;00m\n\u001b[1;32m    394\u001b[0m \u001b[38;5;124;43;03m    To use, follow the instructions at https://ollama.ai/.\u001b[39;49;00m\n\u001b[1;32m    395\u001b[0m \u001b[38;5;124;43;03m    Example:\u001b[39;49;00m\n\u001b[0;32m   (...)\u001b[0m\n\u001b[1;32m    398\u001b[0m \u001b[38;5;124;43;03m            ollama = Ollama(model=\"llama2\")\u001b[39;49;00m\n\u001b[1;32m    399\u001b[0m \u001b[38;5;124;43;03m    \"\"\"\u001b[39;49;00m\n\u001b[1;32m    401\u001b[0m \u001b[43m    \u001b[49m\u001b[38;5;28;43;01mclass\u001b[39;49;00m\u001b[43m \u001b[49m\u001b[38;5;21;43;01mConfig\u001b[39;49;00m\u001b[43m:\u001b[49m\n",
      "File \u001b[0;32m/home/hungcq/study/AI_Chatbot/venv/lib/python3.11/site-packages/pydantic/_internal/_model_construction.py:224\u001b[0m, in \u001b[0;36mModelMetaclass.__new__\u001b[0;34m(mcs, cls_name, bases, namespace, __pydantic_generic_metadata__, __pydantic_reset_parent_namespace__, _create_model_module, **kwargs)\u001b[0m\n\u001b[1;32m    221\u001b[0m \u001b[38;5;28;01mif\u001b[39;00m config_wrapper\u001b[38;5;241m.\u001b[39mfrozen \u001b[38;5;129;01mand\u001b[39;00m \u001b[38;5;124m'\u001b[39m\u001b[38;5;124m__hash__\u001b[39m\u001b[38;5;124m'\u001b[39m \u001b[38;5;129;01mnot\u001b[39;00m \u001b[38;5;129;01min\u001b[39;00m namespace:\n\u001b[1;32m    222\u001b[0m     set_default_hash_func(\u001b[38;5;28mcls\u001b[39m, bases)\n\u001b[0;32m--> 224\u001b[0m \u001b[43mcomplete_model_class\u001b[49m\u001b[43m(\u001b[49m\n\u001b[1;32m    225\u001b[0m \u001b[43m    \u001b[49m\u001b[38;5;28;43mcls\u001b[39;49m\u001b[43m,\u001b[49m\n\u001b[1;32m    226\u001b[0m \u001b[43m    \u001b[49m\u001b[43mcls_name\u001b[49m\u001b[43m,\u001b[49m\n\u001b[1;32m    227\u001b[0m \u001b[43m    \u001b[49m\u001b[43mconfig_wrapper\u001b[49m\u001b[43m,\u001b[49m\n\u001b[1;32m    228\u001b[0m \u001b[43m    \u001b[49m\u001b[43mraise_errors\u001b[49m\u001b[38;5;241;43m=\u001b[39;49m\u001b[38;5;28;43;01mFalse\u001b[39;49;00m\u001b[43m,\u001b[49m\n\u001b[1;32m    229\u001b[0m \u001b[43m    \u001b[49m\u001b[43mtypes_namespace\u001b[49m\u001b[38;5;241;43m=\u001b[39;49m\u001b[43mtypes_namespace\u001b[49m\u001b[43m,\u001b[49m\n\u001b[1;32m    230\u001b[0m \u001b[43m    \u001b[49m\u001b[43mcreate_model_module\u001b[49m\u001b[38;5;241;43m=\u001b[39;49m\u001b[43m_create_model_module\u001b[49m\u001b[43m,\u001b[49m\n\u001b[1;32m    231\u001b[0m \u001b[43m\u001b[49m\u001b[43m)\u001b[49m\n\u001b[1;32m    233\u001b[0m \u001b[38;5;66;03m# If this is placed before the complete_model_class call above,\u001b[39;00m\n\u001b[1;32m    234\u001b[0m \u001b[38;5;66;03m# the generic computed fields return type is set to PydanticUndefined\u001b[39;00m\n\u001b[1;32m    235\u001b[0m \u001b[38;5;28mcls\u001b[39m\u001b[38;5;241m.\u001b[39mmodel_computed_fields \u001b[38;5;241m=\u001b[39m {k: v\u001b[38;5;241m.\u001b[39minfo \u001b[38;5;28;01mfor\u001b[39;00m k, v \u001b[38;5;129;01min\u001b[39;00m \u001b[38;5;28mcls\u001b[39m\u001b[38;5;241m.\u001b[39m__pydantic_decorators__\u001b[38;5;241m.\u001b[39mcomputed_fields\u001b[38;5;241m.\u001b[39mitems()}\n",
      "File \u001b[0;32m/home/hungcq/study/AI_Chatbot/venv/lib/python3.11/site-packages/pydantic/_internal/_model_construction.py:587\u001b[0m, in \u001b[0;36mcomplete_model_class\u001b[0;34m(cls, cls_name, config_wrapper, raise_errors, types_namespace, create_model_module)\u001b[0m\n\u001b[1;32m    584\u001b[0m core_config \u001b[38;5;241m=\u001b[39m config_wrapper\u001b[38;5;241m.\u001b[39mcore_config(\u001b[38;5;28mcls\u001b[39m)\n\u001b[1;32m    586\u001b[0m \u001b[38;5;28;01mtry\u001b[39;00m:\n\u001b[0;32m--> 587\u001b[0m     schema \u001b[38;5;241m=\u001b[39m \u001b[43mgen_schema\u001b[49m\u001b[38;5;241;43m.\u001b[39;49m\u001b[43mclean_schema\u001b[49m\u001b[43m(\u001b[49m\u001b[43mschema\u001b[49m\u001b[43m)\u001b[49m\n\u001b[1;32m    588\u001b[0m \u001b[38;5;28;01mexcept\u001b[39;00m gen_schema\u001b[38;5;241m.\u001b[39mCollectedInvalid:\n\u001b[1;32m    589\u001b[0m     set_model_mocks(\u001b[38;5;28mcls\u001b[39m, cls_name)\n",
      "File \u001b[0;32m/home/hungcq/study/AI_Chatbot/venv/lib/python3.11/site-packages/pydantic/_internal/_generate_schema.py:595\u001b[0m, in \u001b[0;36mGenerateSchema.clean_schema\u001b[0;34m(self, schema)\u001b[0m\n\u001b[1;32m    593\u001b[0m     \u001b[38;5;28;01mraise\u001b[39;00m \u001b[38;5;28mself\u001b[39m\u001b[38;5;241m.\u001b[39mCollectedInvalid()\n\u001b[1;32m    594\u001b[0m schema \u001b[38;5;241m=\u001b[39m _discriminated_union\u001b[38;5;241m.\u001b[39mapply_discriminators(schema)\n\u001b[0;32m--> 595\u001b[0m schema \u001b[38;5;241m=\u001b[39m \u001b[43mvalidate_core_schema\u001b[49m\u001b[43m(\u001b[49m\u001b[43mschema\u001b[49m\u001b[43m)\u001b[49m\n\u001b[1;32m    596\u001b[0m \u001b[38;5;28;01mreturn\u001b[39;00m schema\n",
      "File \u001b[0;32m/home/hungcq/study/AI_Chatbot/venv/lib/python3.11/site-packages/pydantic/_internal/_core_utils.py:570\u001b[0m, in \u001b[0;36mvalidate_core_schema\u001b[0;34m(schema)\u001b[0m\n\u001b[1;32m    568\u001b[0m \u001b[38;5;28;01mif\u001b[39;00m \u001b[38;5;124m'\u001b[39m\u001b[38;5;124mPYDANTIC_SKIP_VALIDATING_CORE_SCHEMAS\u001b[39m\u001b[38;5;124m'\u001b[39m \u001b[38;5;129;01min\u001b[39;00m os\u001b[38;5;241m.\u001b[39menviron:\n\u001b[1;32m    569\u001b[0m     \u001b[38;5;28;01mreturn\u001b[39;00m schema\n\u001b[0;32m--> 570\u001b[0m \u001b[38;5;28;01mreturn\u001b[39;00m _validate_core_schema(schema)\n",
      "\u001b[0;31mSchemaError\u001b[0m: Invalid Schema:\nmodel.config.extra_fields_behavior\n  Input should be 'allow', 'forbid' or 'ignore' [type=literal_error, input_value=<Extra.forbid: 'forbid'>, input_type=Extra]\n    For further information visit https://errors.pydantic.dev/2.9/v/literal_error"
     ]
    }
   ],
   "source": [
    "from langchain_community.chat_models import ChatOllama\n",
    "\n",
    "model = ChatOllama(model=\"llama3.1\")"
   ]
  },
  {
   "cell_type": "code",
   "execution_count": 114,
   "metadata": {},
   "outputs": [],
   "source": [
    "from langchain.schema.runnable import RunnableConfig, RunnablePassthrough\n",
    "from langchain.schema.output_parser import StrOutputParser\n",
    "\n",
    "chain = (\n",
    "    {\"context\": retriever, \"question\": RunnablePassthrough()}\n",
    "    | prompt\n",
    "    | model\n",
    "    | StrOutputParser()\n",
    ")"
   ]
  },
  {
   "cell_type": "code",
   "execution_count": 115,
   "metadata": {},
   "outputs": [
    {
     "data": {
      "text/plain": [
       "'According to the provided documents, airline companies such as American Airlines, United Airlines, Delta Airlines, Spirit Airlines, Southwest Airlines, and JetBlue prohibit customers from going barefoot on their planes. The reason for this is not explicitly stated in the provided context, but it can be inferred that the airlines consider being barefoot to be a violation of their dress code policy, which requires passengers to \"wear appropriate attire\" or \"be properly clothed\". Therefore, I don\\'t know the specific reason why airline prohibits customers from going bare feet.'"
      ]
     },
     "execution_count": 115,
     "metadata": {},
     "output_type": "execute_result"
    }
   ],
   "source": [
    "chain.invoke(\"Why does airline prohibit customers from going bare feet in the airplane?\")"
   ]
  },
  {
   "cell_type": "code",
   "execution_count": 122,
   "metadata": {},
   "outputs": [
    {
     "data": {
      "text/plain": [
       "'A food tour is a type of guided tour that focuses on exploring the local cuisine and food culture of a destination. Examples of food tours mentioned in the context include:\\n\\n* Eating tryng various Icelandic dishes, such as fermented shark and different types of hot dog sauce, while being guided by a local tour guide in Reykjavik, Iceland.\\n* Sampling various foods during a food tour in Savannah, Georgia, USA, including fried pork, traditional local ice cream, and other local specialties.\\n\\nThese tours often include visits to local eateries, markets, and restaurants, as well as educational components that introduce participants to the history, culture, and culinary traditions of the destination.'"
      ]
     },
     "execution_count": 122,
     "metadata": {},
     "output_type": "execute_result"
    }
   ],
   "source": [
    "chain.invoke(\"What is a food tour? What are examples of a food tour?\")"
   ]
  },
  {
   "cell_type": "code",
   "execution_count": 123,
   "metadata": {},
   "outputs": [
    {
     "data": {
      "text/plain": [
       "'Food tour là một trải nghiệm du lịch mà bạn được tham gia vào cuộc phiêu lưu ẩm thực tại một điểm đến mới. Ví dụ, trong văn bản, Megan đã tham gia một food tour tại một thành phố mới và được hướng dẫn viên địa phương giới thiệu về các món ăn đặc trưng của thành phố đó.\\n\\nTrong chuyến đi, Megan sẽ được thưởng thức nhiều món ăn khác nhau thay vì chỉ ăn một món duy nhất tại một nhà hàng. Lợi ích của việc tham gia một food tour là bạn có thể tìm hiểu về thành phố và lịch sử của điểm đến bằng cách trải nghiệm văn hóa ẩm thực địa phương.'"
      ]
     },
     "execution_count": 123,
     "metadata": {},
     "output_type": "execute_result"
    }
   ],
   "source": [
    "chain.invoke(\"Food tour là gì? Hãy cho ví dụ.\")"
   ]
  }
 ],
 "metadata": {
  "kernelspec": {
   "display_name": "venv",
   "language": "python",
   "name": "python3"
  },
  "language_info": {
   "codemirror_mode": {
    "name": "ipython",
    "version": 3
   },
   "file_extension": ".py",
   "mimetype": "text/x-python",
   "name": "python",
   "nbconvert_exporter": "python",
   "pygments_lexer": "ipython3",
   "version": "3.11.9"
  }
 },
 "nbformat": 4,
 "nbformat_minor": 4
}
