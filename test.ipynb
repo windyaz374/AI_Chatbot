{
 "cells": [
  {
   "cell_type": "code",
   "execution_count": 1,
   "metadata": {},
   "outputs": [
    {
     "name": "stdout",
     "output_type": "stream",
     "text": [
      "Requirement already satisfied: langchain-community==0.0.34 in c:\\users\\toan.dn.nguyen\\appdata\\local\\programs\\python\\python311\\lib\\site-packages (from -r requirements.txt (line 1)) (0.0.34)\n",
      "Requirement already satisfied: streamlit==1.33.0 in c:\\users\\toan.dn.nguyen\\appdata\\local\\programs\\python\\python311\\lib\\site-packages (from -r requirements.txt (line 2)) (1.33.0)\n",
      "Requirement already satisfied: langchain==0.1.16 in c:\\users\\toan.dn.nguyen\\appdata\\local\\programs\\python\\python311\\lib\\site-packages (from -r requirements.txt (line 3)) (0.1.16)\n",
      "Requirement already satisfied: chromadb==0.5.0 in c:\\users\\toan.dn.nguyen\\appdata\\local\\programs\\python\\python311\\lib\\site-packages (from -r requirements.txt (line 4)) (0.5.0)\n",
      "Requirement already satisfied: pypdf==4.2.0 in c:\\users\\toan.dn.nguyen\\appdata\\local\\programs\\python\\python311\\lib\\site-packages (from -r requirements.txt (line 5)) (4.2.0)\n",
      "Requirement already satisfied: docx2txt==0.8 in c:\\users\\toan.dn.nguyen\\appdata\\local\\programs\\python\\python311\\lib\\site-packages (from -r requirements.txt (line 6)) (0.8)\n",
      "Requirement already satisfied: psutil==5.9.8 in c:\\users\\toan.dn.nguyen\\appdata\\local\\programs\\python\\python311\\lib\\site-packages (from -r requirements.txt (line 7)) (5.9.8)\n",
      "Requirement already satisfied: GPUtil==1.4.0 in c:\\users\\toan.dn.nguyen\\appdata\\local\\programs\\python\\python311\\lib\\site-packages (from -r requirements.txt (line 8)) (1.4.0)\n",
      "Requirement already satisfied: sentence-transformers==2.6.1 in c:\\users\\toan.dn.nguyen\\appdata\\local\\programs\\python\\python311\\lib\\site-packages (from -r requirements.txt (line 9)) (2.6.1)\n",
      "Requirement already satisfied: InstructorEmbedding==1.0.1 in c:\\users\\toan.dn.nguyen\\appdata\\local\\programs\\python\\python311\\lib\\site-packages (from -r requirements.txt (line 10)) (1.0.1)\n",
      "Requirement already satisfied: scikit-learn==1.4.2 in c:\\users\\toan.dn.nguyen\\appdata\\local\\programs\\python\\python311\\lib\\site-packages (from -r requirements.txt (line 11)) (1.4.2)\n",
      "Requirement already satisfied: pdfplumber==0.11.0 in c:\\users\\toan.dn.nguyen\\appdata\\local\\programs\\python\\python311\\lib\\site-packages (from -r requirements.txt (line 12)) (0.11.0)\n",
      "Requirement already satisfied: factsumm~=0.1.5 in c:\\users\\toan.dn.nguyen\\appdata\\local\\programs\\python\\python311\\lib\\site-packages (from -r requirements.txt (line 14)) (0.1.5)\n",
      "Requirement already satisfied: numpy~=1.26.4 in c:\\users\\toan.dn.nguyen\\appdata\\local\\programs\\python\\python311\\lib\\site-packages (from -r requirements.txt (line 15)) (1.26.4)\n",
      "Requirement already satisfied: PyYAML>=5.3 in c:\\users\\toan.dn.nguyen\\appdata\\local\\programs\\python\\python311\\lib\\site-packages (from langchain-community==0.0.34->-r requirements.txt (line 1)) (6.0.1)\n",
      "Requirement already satisfied: SQLAlchemy<3,>=1.4 in c:\\users\\toan.dn.nguyen\\appdata\\local\\programs\\python\\python311\\lib\\site-packages (from langchain-community==0.0.34->-r requirements.txt (line 1)) (2.0.30)\n",
      "Requirement already satisfied: aiohttp<4.0.0,>=3.8.3 in c:\\users\\toan.dn.nguyen\\appdata\\local\\programs\\python\\python311\\lib\\site-packages (from langchain-community==0.0.34->-r requirements.txt (line 1)) (3.9.5)\n",
      "Requirement already satisfied: dataclasses-json<0.7,>=0.5.7 in c:\\users\\toan.dn.nguyen\\appdata\\local\\programs\\python\\python311\\lib\\site-packages (from langchain-community==0.0.34->-r requirements.txt (line 1)) (0.6.7)\n",
      "Requirement already satisfied: langchain-core<0.2.0,>=0.1.45 in c:\\users\\toan.dn.nguyen\\appdata\\local\\programs\\python\\python311\\lib\\site-packages (from langchain-community==0.0.34->-r requirements.txt (line 1)) (0.1.52)\n",
      "Requirement already satisfied: langsmith<0.2.0,>=0.1.0 in c:\\users\\toan.dn.nguyen\\appdata\\local\\programs\\python\\python311\\lib\\site-packages (from langchain-community==0.0.34->-r requirements.txt (line 1)) (0.1.79)\n",
      "Requirement already satisfied: requests<3,>=2 in c:\\users\\toan.dn.nguyen\\appdata\\local\\programs\\python\\python311\\lib\\site-packages (from langchain-community==0.0.34->-r requirements.txt (line 1)) (2.32.3)\n",
      "Requirement already satisfied: tenacity<9.0.0,>=8.1.0 in c:\\users\\toan.dn.nguyen\\appdata\\local\\programs\\python\\python311\\lib\\site-packages (from langchain-community==0.0.34->-r requirements.txt (line 1)) (8.4.1)\n",
      "Requirement already satisfied: altair<6,>=4.0 in c:\\users\\toan.dn.nguyen\\appdata\\local\\programs\\python\\python311\\lib\\site-packages (from streamlit==1.33.0->-r requirements.txt (line 2)) (5.3.0)\n",
      "Requirement already satisfied: blinker<2,>=1.0.0 in c:\\users\\toan.dn.nguyen\\appdata\\local\\programs\\python\\python311\\lib\\site-packages (from streamlit==1.33.0->-r requirements.txt (line 2)) (1.8.2)\n",
      "Requirement already satisfied: cachetools<6,>=4.0 in c:\\users\\toan.dn.nguyen\\appdata\\local\\programs\\python\\python311\\lib\\site-packages (from streamlit==1.33.0->-r requirements.txt (line 2)) (5.3.3)\n",
      "Requirement already satisfied: click<9,>=7.0 in c:\\users\\toan.dn.nguyen\\appdata\\local\\programs\\python\\python311\\lib\\site-packages (from streamlit==1.33.0->-r requirements.txt (line 2)) (8.1.7)\n",
      "Requirement already satisfied: packaging<25,>=16.8 in c:\\users\\toan.dn.nguyen\\appdata\\local\\programs\\python\\python311\\lib\\site-packages (from streamlit==1.33.0->-r requirements.txt (line 2)) (23.2)\n",
      "Requirement already satisfied: pandas<3,>=1.3.0 in c:\\users\\toan.dn.nguyen\\appdata\\local\\programs\\python\\python311\\lib\\site-packages (from streamlit==1.33.0->-r requirements.txt (line 2)) (2.2.2)\n",
      "Requirement already satisfied: pillow<11,>=7.1.0 in c:\\users\\toan.dn.nguyen\\appdata\\local\\programs\\python\\python311\\lib\\site-packages (from streamlit==1.33.0->-r requirements.txt (line 2)) (10.3.0)\n",
      "Requirement already satisfied: protobuf<5,>=3.20 in c:\\users\\toan.dn.nguyen\\appdata\\local\\programs\\python\\python311\\lib\\site-packages (from streamlit==1.33.0->-r requirements.txt (line 2)) (4.25.1)\n",
      "Requirement already satisfied: pyarrow>=7.0 in c:\\users\\toan.dn.nguyen\\appdata\\local\\programs\\python\\python311\\lib\\site-packages (from streamlit==1.33.0->-r requirements.txt (line 2)) (16.1.0)\n",
      "Requirement already satisfied: rich<14,>=10.14.0 in c:\\users\\toan.dn.nguyen\\appdata\\local\\programs\\python\\python311\\lib\\site-packages (from streamlit==1.33.0->-r requirements.txt (line 2)) (13.7.0)\n",
      "Requirement already satisfied: toml<2,>=0.10.1 in c:\\users\\toan.dn.nguyen\\appdata\\local\\programs\\python\\python311\\lib\\site-packages (from streamlit==1.33.0->-r requirements.txt (line 2)) (0.10.2)\n",
      "Requirement already satisfied: typing-extensions<5,>=4.3.0 in c:\\users\\toan.dn.nguyen\\appdata\\local\\programs\\python\\python311\\lib\\site-packages (from streamlit==1.33.0->-r requirements.txt (line 2)) (4.12.2)\n",
      "Requirement already satisfied: gitpython!=3.1.19,<4,>=3.0.7 in c:\\users\\toan.dn.nguyen\\appdata\\local\\programs\\python\\python311\\lib\\site-packages (from streamlit==1.33.0->-r requirements.txt (line 2)) (3.1.43)\n",
      "Requirement already satisfied: pydeck<1,>=0.8.0b4 in c:\\users\\toan.dn.nguyen\\appdata\\local\\programs\\python\\python311\\lib\\site-packages (from streamlit==1.33.0->-r requirements.txt (line 2)) (0.9.1)\n",
      "Requirement already satisfied: tornado<7,>=6.0.3 in c:\\users\\toan.dn.nguyen\\appdata\\local\\programs\\python\\python311\\lib\\site-packages (from streamlit==1.33.0->-r requirements.txt (line 2)) (6.4.1)\n",
      "Requirement already satisfied: watchdog>=2.1.5 in c:\\users\\toan.dn.nguyen\\appdata\\local\\programs\\python\\python311\\lib\\site-packages (from streamlit==1.33.0->-r requirements.txt (line 2)) (4.0.1)\n",
      "Requirement already satisfied: jsonpatch<2.0,>=1.33 in c:\\users\\toan.dn.nguyen\\appdata\\local\\programs\\python\\python311\\lib\\site-packages (from langchain==0.1.16->-r requirements.txt (line 3)) (1.33)\n",
      "Requirement already satisfied: langchain-text-splitters<0.1,>=0.0.1 in c:\\users\\toan.dn.nguyen\\appdata\\local\\programs\\python\\python311\\lib\\site-packages (from langchain==0.1.16->-r requirements.txt (line 3)) (0.0.2)\n",
      "Requirement already satisfied: pydantic<3,>=1 in c:\\users\\toan.dn.nguyen\\appdata\\local\\programs\\python\\python311\\lib\\site-packages (from langchain==0.1.16->-r requirements.txt (line 3)) (2.7.4)\n",
      "Requirement already satisfied: build>=1.0.3 in c:\\users\\toan.dn.nguyen\\appdata\\local\\programs\\python\\python311\\lib\\site-packages (from chromadb==0.5.0->-r requirements.txt (line 4)) (1.2.1)\n",
      "Requirement already satisfied: chroma-hnswlib==0.7.3 in c:\\users\\toan.dn.nguyen\\appdata\\local\\programs\\python\\python311\\lib\\site-packages (from chromadb==0.5.0->-r requirements.txt (line 4)) (0.7.3)\n",
      "Requirement already satisfied: fastapi>=0.95.2 in c:\\users\\toan.dn.nguyen\\appdata\\local\\programs\\python\\python311\\lib\\site-packages (from chromadb==0.5.0->-r requirements.txt (line 4)) (0.111.0)\n",
      "Requirement already satisfied: uvicorn>=0.18.3 in c:\\users\\toan.dn.nguyen\\appdata\\local\\programs\\python\\python311\\lib\\site-packages (from uvicorn[standard]>=0.18.3->chromadb==0.5.0->-r requirements.txt (line 4)) (0.30.1)\n",
      "Requirement already satisfied: posthog>=2.4.0 in c:\\users\\toan.dn.nguyen\\appdata\\local\\programs\\python\\python311\\lib\\site-packages (from chromadb==0.5.0->-r requirements.txt (line 4)) (3.5.0)\n",
      "Requirement already satisfied: onnxruntime>=1.14.1 in c:\\users\\toan.dn.nguyen\\appdata\\local\\programs\\python\\python311\\lib\\site-packages (from chromadb==0.5.0->-r requirements.txt (line 4)) (1.18.0)\n",
      "Requirement already satisfied: opentelemetry-api>=1.2.0 in c:\\users\\toan.dn.nguyen\\appdata\\local\\programs\\python\\python311\\lib\\site-packages (from chromadb==0.5.0->-r requirements.txt (line 4)) (1.25.0)\n",
      "Requirement already satisfied: opentelemetry-exporter-otlp-proto-grpc>=1.2.0 in c:\\users\\toan.dn.nguyen\\appdata\\local\\programs\\python\\python311\\lib\\site-packages (from chromadb==0.5.0->-r requirements.txt (line 4)) (1.25.0)\n",
      "Requirement already satisfied: opentelemetry-instrumentation-fastapi>=0.41b0 in c:\\users\\toan.dn.nguyen\\appdata\\local\\programs\\python\\python311\\lib\\site-packages (from chromadb==0.5.0->-r requirements.txt (line 4)) (0.46b0)\n",
      "Requirement already satisfied: opentelemetry-sdk>=1.2.0 in c:\\users\\toan.dn.nguyen\\appdata\\local\\programs\\python\\python311\\lib\\site-packages (from chromadb==0.5.0->-r requirements.txt (line 4)) (1.25.0)\n",
      "Requirement already satisfied: tokenizers>=0.13.2 in c:\\users\\toan.dn.nguyen\\appdata\\local\\programs\\python\\python311\\lib\\site-packages (from chromadb==0.5.0->-r requirements.txt (line 4)) (0.15.2)\n",
      "Requirement already satisfied: pypika>=0.48.9 in c:\\users\\toan.dn.nguyen\\appdata\\local\\programs\\python\\python311\\lib\\site-packages (from chromadb==0.5.0->-r requirements.txt (line 4)) (0.48.9)\n",
      "Requirement already satisfied: tqdm>=4.65.0 in c:\\users\\toan.dn.nguyen\\appdata\\local\\programs\\python\\python311\\lib\\site-packages (from chromadb==0.5.0->-r requirements.txt (line 4)) (4.66.4)\n",
      "Requirement already satisfied: overrides>=7.3.1 in c:\\users\\toan.dn.nguyen\\appdata\\local\\programs\\python\\python311\\lib\\site-packages (from chromadb==0.5.0->-r requirements.txt (line 4)) (7.7.0)\n",
      "Requirement already satisfied: importlib-resources in c:\\users\\toan.dn.nguyen\\appdata\\local\\programs\\python\\python311\\lib\\site-packages (from chromadb==0.5.0->-r requirements.txt (line 4)) (6.4.0)\n",
      "Requirement already satisfied: grpcio>=1.58.0 in c:\\users\\toan.dn.nguyen\\appdata\\local\\programs\\python\\python311\\lib\\site-packages (from chromadb==0.5.0->-r requirements.txt (line 4)) (1.64.1)\n",
      "Requirement already satisfied: bcrypt>=4.0.1 in c:\\users\\toan.dn.nguyen\\appdata\\local\\programs\\python\\python311\\lib\\site-packages (from chromadb==0.5.0->-r requirements.txt (line 4)) (4.1.3)\n",
      "Requirement already satisfied: typer>=0.9.0 in c:\\users\\toan.dn.nguyen\\appdata\\local\\programs\\python\\python311\\lib\\site-packages (from chromadb==0.5.0->-r requirements.txt (line 4)) (0.12.3)\n",
      "Requirement already satisfied: kubernetes>=28.1.0 in c:\\users\\toan.dn.nguyen\\appdata\\local\\programs\\python\\python311\\lib\\site-packages (from chromadb==0.5.0->-r requirements.txt (line 4)) (30.1.0)\n",
      "Requirement already satisfied: mmh3>=4.0.1 in c:\\users\\toan.dn.nguyen\\appdata\\local\\programs\\python\\python311\\lib\\site-packages (from chromadb==0.5.0->-r requirements.txt (line 4)) (4.1.0)\n",
      "Requirement already satisfied: orjson>=3.9.12 in c:\\users\\toan.dn.nguyen\\appdata\\local\\programs\\python\\python311\\lib\\site-packages (from chromadb==0.5.0->-r requirements.txt (line 4)) (3.10.5)\n",
      "Requirement already satisfied: transformers<5.0.0,>=4.32.0 in c:\\users\\toan.dn.nguyen\\appdata\\local\\programs\\python\\python311\\lib\\site-packages (from sentence-transformers==2.6.1->-r requirements.txt (line 9)) (4.36.0)\n",
      "Requirement already satisfied: torch>=1.11.0 in c:\\users\\toan.dn.nguyen\\appdata\\local\\programs\\python\\python311\\lib\\site-packages (from sentence-transformers==2.6.1->-r requirements.txt (line 9)) (2.3.1)\n",
      "Requirement already satisfied: scipy in c:\\users\\toan.dn.nguyen\\appdata\\local\\programs\\python\\python311\\lib\\site-packages (from sentence-transformers==2.6.1->-r requirements.txt (line 9)) (1.13.1)\n",
      "Requirement already satisfied: huggingface-hub>=0.15.1 in c:\\users\\toan.dn.nguyen\\appdata\\local\\programs\\python\\python311\\lib\\site-packages (from sentence-transformers==2.6.1->-r requirements.txt (line 9)) (0.23.4)\n",
      "Requirement already satisfied: joblib>=1.2.0 in c:\\users\\toan.dn.nguyen\\appdata\\local\\programs\\python\\python311\\lib\\site-packages (from scikit-learn==1.4.2->-r requirements.txt (line 11)) (1.4.2)\n",
      "Requirement already satisfied: threadpoolctl>=2.0.0 in c:\\users\\toan.dn.nguyen\\appdata\\local\\programs\\python\\python311\\lib\\site-packages (from scikit-learn==1.4.2->-r requirements.txt (line 11)) (3.5.0)\n",
      "Requirement already satisfied: pdfminer.six==20231228 in c:\\users\\toan.dn.nguyen\\appdata\\local\\programs\\python\\python311\\lib\\site-packages (from pdfplumber==0.11.0->-r requirements.txt (line 12)) (20231228)\n",
      "Requirement already satisfied: pypdfium2>=4.18.0 in c:\\users\\toan.dn.nguyen\\appdata\\local\\programs\\python\\python311\\lib\\site-packages (from pdfplumber==0.11.0->-r requirements.txt (line 12)) (4.30.0)\n",
      "Requirement already satisfied: charset-normalizer>=2.0.0 in c:\\users\\toan.dn.nguyen\\appdata\\local\\programs\\python\\python311\\lib\\site-packages (from pdfminer.six==20231228->pdfplumber==0.11.0->-r requirements.txt (line 12)) (3.3.2)\n",
      "Requirement already satisfied: cryptography>=36.0.0 in c:\\users\\toan.dn.nguyen\\appdata\\local\\programs\\python\\python311\\lib\\site-packages (from pdfminer.six==20231228->pdfplumber==0.11.0->-r requirements.txt (line 12)) (42.0.8)\n",
      "Requirement already satisfied: pysbd==0.3.4 in c:\\users\\toan.dn.nguyen\\appdata\\local\\programs\\python\\python311\\lib\\site-packages (from factsumm~=0.1.5->-r requirements.txt (line 14)) (0.3.4)\n",
      "Requirement already satisfied: bert-score==0.3.12 in c:\\users\\toan.dn.nguyen\\appdata\\local\\programs\\python\\python311\\lib\\site-packages (from factsumm~=0.1.5->-r requirements.txt (line 14)) (0.3.12)\n",
      "Requirement already satisfied: sentencepiece==0.1.99 in c:\\users\\toan.dn.nguyen\\appdata\\local\\programs\\python\\python311\\lib\\site-packages (from factsumm~=0.1.5->-r requirements.txt (line 14)) (0.1.99)\n",
      "Requirement already satisfied: sumeval==0.2.2 in c:\\users\\toan.dn.nguyen\\appdata\\local\\programs\\python\\python311\\lib\\site-packages (from factsumm~=0.1.5->-r requirements.txt (line 14)) (0.2.2)\n",
      "Requirement already satisfied: matplotlib in c:\\users\\toan.dn.nguyen\\appdata\\local\\programs\\python\\python311\\lib\\site-packages (from bert-score==0.3.12->factsumm~=0.1.5->-r requirements.txt (line 14)) (3.9.2)\n",
      "Requirement already satisfied: markdown-it-py>=2.2.0 in c:\\users\\toan.dn.nguyen\\appdata\\local\\programs\\python\\python311\\lib\\site-packages (from rich<14,>=10.14.0->streamlit==1.33.0->-r requirements.txt (line 2)) (3.0.0)\n",
      "Requirement already satisfied: pygments<3.0.0,>=2.13.0 in c:\\users\\toan.dn.nguyen\\appdata\\local\\programs\\python\\python311\\lib\\site-packages (from rich<14,>=10.14.0->streamlit==1.33.0->-r requirements.txt (line 2)) (2.18.0)\n",
      "Requirement already satisfied: plac>=0.9.6 in c:\\users\\toan.dn.nguyen\\appdata\\local\\programs\\python\\python311\\lib\\site-packages (from sumeval==0.2.2->factsumm~=0.1.5->-r requirements.txt (line 14)) (1.4.3)\n",
      "Requirement already satisfied: sacrebleu>=1.3.2 in c:\\users\\toan.dn.nguyen\\appdata\\local\\programs\\python\\python311\\lib\\site-packages (from sumeval==0.2.2->factsumm~=0.1.5->-r requirements.txt (line 14)) (2.4.3)\n",
      "Requirement already satisfied: filelock in c:\\users\\toan.dn.nguyen\\appdata\\local\\programs\\python\\python311\\lib\\site-packages (from transformers<5.0.0,>=4.32.0->sentence-transformers==2.6.1->-r requirements.txt (line 9)) (3.15.1)\n",
      "Requirement already satisfied: regex!=2019.12.17 in c:\\users\\toan.dn.nguyen\\appdata\\local\\programs\\python\\python311\\lib\\site-packages (from transformers<5.0.0,>=4.32.0->sentence-transformers==2.6.1->-r requirements.txt (line 9)) (2024.5.15)\n",
      "Requirement already satisfied: safetensors>=0.3.1 in c:\\users\\toan.dn.nguyen\\appdata\\local\\programs\\python\\python311\\lib\\site-packages (from transformers<5.0.0,>=4.32.0->sentence-transformers==2.6.1->-r requirements.txt (line 9)) (0.4.3)\n",
      "Requirement already satisfied: aiosignal>=1.1.2 in c:\\users\\toan.dn.nguyen\\appdata\\local\\programs\\python\\python311\\lib\\site-packages (from aiohttp<4.0.0,>=3.8.3->langchain-community==0.0.34->-r requirements.txt (line 1)) (1.3.1)\n",
      "Requirement already satisfied: attrs>=17.3.0 in c:\\users\\toan.dn.nguyen\\appdata\\local\\programs\\python\\python311\\lib\\site-packages (from aiohttp<4.0.0,>=3.8.3->langchain-community==0.0.34->-r requirements.txt (line 1)) (23.2.0)\n",
      "Requirement already satisfied: frozenlist>=1.1.1 in c:\\users\\toan.dn.nguyen\\appdata\\local\\programs\\python\\python311\\lib\\site-packages (from aiohttp<4.0.0,>=3.8.3->langchain-community==0.0.34->-r requirements.txt (line 1)) (1.4.1)\n",
      "Requirement already satisfied: multidict<7.0,>=4.5 in c:\\users\\toan.dn.nguyen\\appdata\\local\\programs\\python\\python311\\lib\\site-packages (from aiohttp<4.0.0,>=3.8.3->langchain-community==0.0.34->-r requirements.txt (line 1)) (6.0.5)\n",
      "Requirement already satisfied: yarl<2.0,>=1.0 in c:\\users\\toan.dn.nguyen\\appdata\\local\\programs\\python\\python311\\lib\\site-packages (from aiohttp<4.0.0,>=3.8.3->langchain-community==0.0.34->-r requirements.txt (line 1)) (1.9.4)\n",
      "Requirement already satisfied: jinja2 in c:\\users\\toan.dn.nguyen\\appdata\\local\\programs\\python\\python311\\lib\\site-packages (from altair<6,>=4.0->streamlit==1.33.0->-r requirements.txt (line 2)) (3.1.4)\n",
      "Requirement already satisfied: jsonschema>=3.0 in c:\\users\\toan.dn.nguyen\\appdata\\local\\programs\\python\\python311\\lib\\site-packages (from altair<6,>=4.0->streamlit==1.33.0->-r requirements.txt (line 2)) (4.22.0)\n",
      "Requirement already satisfied: toolz in c:\\users\\toan.dn.nguyen\\appdata\\local\\programs\\python\\python311\\lib\\site-packages (from altair<6,>=4.0->streamlit==1.33.0->-r requirements.txt (line 2)) (0.12.1)\n",
      "Requirement already satisfied: pyproject_hooks in c:\\users\\toan.dn.nguyen\\appdata\\local\\programs\\python\\python311\\lib\\site-packages (from build>=1.0.3->chromadb==0.5.0->-r requirements.txt (line 4)) (1.1.0)\n",
      "Requirement already satisfied: colorama in c:\\users\\toan.dn.nguyen\\appdata\\local\\programs\\python\\python311\\lib\\site-packages (from build>=1.0.3->chromadb==0.5.0->-r requirements.txt (line 4)) (0.4.6)\n",
      "Requirement already satisfied: marshmallow<4.0.0,>=3.18.0 in c:\\users\\toan.dn.nguyen\\appdata\\local\\programs\\python\\python311\\lib\\site-packages (from dataclasses-json<0.7,>=0.5.7->langchain-community==0.0.34->-r requirements.txt (line 1)) (3.21.3)\n",
      "Requirement already satisfied: typing-inspect<1,>=0.4.0 in c:\\users\\toan.dn.nguyen\\appdata\\local\\programs\\python\\python311\\lib\\site-packages (from dataclasses-json<0.7,>=0.5.7->langchain-community==0.0.34->-r requirements.txt (line 1)) (0.9.0)\n",
      "Requirement already satisfied: starlette<0.38.0,>=0.37.2 in c:\\users\\toan.dn.nguyen\\appdata\\local\\programs\\python\\python311\\lib\\site-packages (from fastapi>=0.95.2->chromadb==0.5.0->-r requirements.txt (line 4)) (0.37.2)\n",
      "Requirement already satisfied: fastapi-cli>=0.0.2 in c:\\users\\toan.dn.nguyen\\appdata\\local\\programs\\python\\python311\\lib\\site-packages (from fastapi>=0.95.2->chromadb==0.5.0->-r requirements.txt (line 4)) (0.0.4)\n",
      "Requirement already satisfied: httpx>=0.23.0 in c:\\users\\toan.dn.nguyen\\appdata\\local\\programs\\python\\python311\\lib\\site-packages (from fastapi>=0.95.2->chromadb==0.5.0->-r requirements.txt (line 4)) (0.27.0)\n",
      "Requirement already satisfied: python-multipart>=0.0.7 in c:\\users\\toan.dn.nguyen\\appdata\\local\\programs\\python\\python311\\lib\\site-packages (from fastapi>=0.95.2->chromadb==0.5.0->-r requirements.txt (line 4)) (0.0.9)\n",
      "Requirement already satisfied: ujson!=4.0.2,!=4.1.0,!=4.2.0,!=4.3.0,!=5.0.0,!=5.1.0,>=4.0.1 in c:\\users\\toan.dn.nguyen\\appdata\\local\\programs\\python\\python311\\lib\\site-packages (from fastapi>=0.95.2->chromadb==0.5.0->-r requirements.txt (line 4)) (5.10.0)\n",
      "Requirement already satisfied: email_validator>=2.0.0 in c:\\users\\toan.dn.nguyen\\appdata\\local\\programs\\python\\python311\\lib\\site-packages (from fastapi>=0.95.2->chromadb==0.5.0->-r requirements.txt (line 4)) (2.1.2)\n",
      "Requirement already satisfied: gitdb<5,>=4.0.1 in c:\\users\\toan.dn.nguyen\\appdata\\local\\programs\\python\\python311\\lib\\site-packages (from gitpython!=3.1.19,<4,>=3.0.7->streamlit==1.33.0->-r requirements.txt (line 2)) (4.0.11)\n",
      "Requirement already satisfied: fsspec>=2023.5.0 in c:\\users\\toan.dn.nguyen\\appdata\\local\\programs\\python\\python311\\lib\\site-packages (from huggingface-hub>=0.15.1->sentence-transformers==2.6.1->-r requirements.txt (line 9)) (2024.6.0)\n",
      "Requirement already satisfied: jsonpointer>=1.9 in c:\\users\\toan.dn.nguyen\\appdata\\local\\programs\\python\\python311\\lib\\site-packages (from jsonpatch<2.0,>=1.33->langchain==0.1.16->-r requirements.txt (line 3)) (3.0.0)\n",
      "Requirement already satisfied: certifi>=14.05.14 in c:\\users\\toan.dn.nguyen\\appdata\\local\\programs\\python\\python311\\lib\\site-packages (from kubernetes>=28.1.0->chromadb==0.5.0->-r requirements.txt (line 4)) (2024.6.2)\n",
      "Requirement already satisfied: six>=1.9.0 in c:\\users\\toan.dn.nguyen\\appdata\\local\\programs\\python\\python311\\lib\\site-packages (from kubernetes>=28.1.0->chromadb==0.5.0->-r requirements.txt (line 4)) (1.16.0)\n",
      "Requirement already satisfied: python-dateutil>=2.5.3 in c:\\users\\toan.dn.nguyen\\appdata\\local\\programs\\python\\python311\\lib\\site-packages (from kubernetes>=28.1.0->chromadb==0.5.0->-r requirements.txt (line 4)) (2.9.0.post0)\n",
      "Requirement already satisfied: google-auth>=1.0.1 in c:\\users\\toan.dn.nguyen\\appdata\\local\\programs\\python\\python311\\lib\\site-packages (from kubernetes>=28.1.0->chromadb==0.5.0->-r requirements.txt (line 4)) (2.30.0)\n",
      "Requirement already satisfied: websocket-client!=0.40.0,!=0.41.*,!=0.42.*,>=0.32.0 in c:\\users\\toan.dn.nguyen\\appdata\\local\\programs\\python\\python311\\lib\\site-packages (from kubernetes>=28.1.0->chromadb==0.5.0->-r requirements.txt (line 4)) (1.8.0)\n",
      "Requirement already satisfied: requests-oauthlib in c:\\users\\toan.dn.nguyen\\appdata\\local\\programs\\python\\python311\\lib\\site-packages (from kubernetes>=28.1.0->chromadb==0.5.0->-r requirements.txt (line 4)) (2.0.0)\n",
      "Requirement already satisfied: oauthlib>=3.2.2 in c:\\users\\toan.dn.nguyen\\appdata\\local\\programs\\python\\python311\\lib\\site-packages (from kubernetes>=28.1.0->chromadb==0.5.0->-r requirements.txt (line 4)) (3.2.2)\n",
      "Requirement already satisfied: urllib3>=1.24.2 in c:\\users\\toan.dn.nguyen\\appdata\\local\\programs\\python\\python311\\lib\\site-packages (from kubernetes>=28.1.0->chromadb==0.5.0->-r requirements.txt (line 4)) (2.2.2)\n",
      "Requirement already satisfied: coloredlogs in c:\\users\\toan.dn.nguyen\\appdata\\local\\programs\\python\\python311\\lib\\site-packages (from onnxruntime>=1.14.1->chromadb==0.5.0->-r requirements.txt (line 4)) (15.0.1)\n",
      "Requirement already satisfied: flatbuffers in c:\\users\\toan.dn.nguyen\\appdata\\local\\programs\\python\\python311\\lib\\site-packages (from onnxruntime>=1.14.1->chromadb==0.5.0->-r requirements.txt (line 4)) (24.3.25)\n",
      "Requirement already satisfied: sympy in c:\\users\\toan.dn.nguyen\\appdata\\local\\programs\\python\\python311\\lib\\site-packages (from onnxruntime>=1.14.1->chromadb==0.5.0->-r requirements.txt (line 4)) (1.12.1)\n",
      "Requirement already satisfied: deprecated>=1.2.6 in c:\\users\\toan.dn.nguyen\\appdata\\local\\programs\\python\\python311\\lib\\site-packages (from opentelemetry-api>=1.2.0->chromadb==0.5.0->-r requirements.txt (line 4)) (1.2.14)\n",
      "Requirement already satisfied: importlib-metadata<=7.1,>=6.0 in c:\\users\\toan.dn.nguyen\\appdata\\local\\programs\\python\\python311\\lib\\site-packages (from opentelemetry-api>=1.2.0->chromadb==0.5.0->-r requirements.txt (line 4)) (7.1.0)\n",
      "Requirement already satisfied: googleapis-common-protos~=1.52 in c:\\users\\toan.dn.nguyen\\appdata\\local\\programs\\python\\python311\\lib\\site-packages (from opentelemetry-exporter-otlp-proto-grpc>=1.2.0->chromadb==0.5.0->-r requirements.txt (line 4)) (1.63.1)\n",
      "Requirement already satisfied: opentelemetry-exporter-otlp-proto-common==1.25.0 in c:\\users\\toan.dn.nguyen\\appdata\\local\\programs\\python\\python311\\lib\\site-packages (from opentelemetry-exporter-otlp-proto-grpc>=1.2.0->chromadb==0.5.0->-r requirements.txt (line 4)) (1.25.0)\n",
      "Requirement already satisfied: opentelemetry-proto==1.25.0 in c:\\users\\toan.dn.nguyen\\appdata\\local\\programs\\python\\python311\\lib\\site-packages (from opentelemetry-exporter-otlp-proto-grpc>=1.2.0->chromadb==0.5.0->-r requirements.txt (line 4)) (1.25.0)\n",
      "Requirement already satisfied: opentelemetry-instrumentation-asgi==0.46b0 in c:\\users\\toan.dn.nguyen\\appdata\\local\\programs\\python\\python311\\lib\\site-packages (from opentelemetry-instrumentation-fastapi>=0.41b0->chromadb==0.5.0->-r requirements.txt (line 4)) (0.46b0)\n",
      "Requirement already satisfied: opentelemetry-instrumentation==0.46b0 in c:\\users\\toan.dn.nguyen\\appdata\\local\\programs\\python\\python311\\lib\\site-packages (from opentelemetry-instrumentation-fastapi>=0.41b0->chromadb==0.5.0->-r requirements.txt (line 4)) (0.46b0)\n",
      "Requirement already satisfied: opentelemetry-semantic-conventions==0.46b0 in c:\\users\\toan.dn.nguyen\\appdata\\local\\programs\\python\\python311\\lib\\site-packages (from opentelemetry-instrumentation-fastapi>=0.41b0->chromadb==0.5.0->-r requirements.txt (line 4)) (0.46b0)\n",
      "Requirement already satisfied: opentelemetry-util-http==0.46b0 in c:\\users\\toan.dn.nguyen\\appdata\\local\\programs\\python\\python311\\lib\\site-packages (from opentelemetry-instrumentation-fastapi>=0.41b0->chromadb==0.5.0->-r requirements.txt (line 4)) (0.46b0)\n",
      "Requirement already satisfied: setuptools>=16.0 in c:\\users\\toan.dn.nguyen\\appdata\\local\\programs\\python\\python311\\lib\\site-packages (from opentelemetry-instrumentation==0.46b0->opentelemetry-instrumentation-fastapi>=0.41b0->chromadb==0.5.0->-r requirements.txt (line 4)) (65.5.0)\n",
      "Requirement already satisfied: wrapt<2.0.0,>=1.0.0 in c:\\users\\toan.dn.nguyen\\appdata\\local\\programs\\python\\python311\\lib\\site-packages (from opentelemetry-instrumentation==0.46b0->opentelemetry-instrumentation-fastapi>=0.41b0->chromadb==0.5.0->-r requirements.txt (line 4)) (1.16.0)\n",
      "Requirement already satisfied: asgiref~=3.0 in c:\\users\\toan.dn.nguyen\\appdata\\local\\programs\\python\\python311\\lib\\site-packages (from opentelemetry-instrumentation-asgi==0.46b0->opentelemetry-instrumentation-fastapi>=0.41b0->chromadb==0.5.0->-r requirements.txt (line 4)) (3.8.1)\n",
      "Requirement already satisfied: pytz>=2020.1 in c:\\users\\toan.dn.nguyen\\appdata\\local\\programs\\python\\python311\\lib\\site-packages (from pandas<3,>=1.3.0->streamlit==1.33.0->-r requirements.txt (line 2)) (2024.1)\n",
      "Requirement already satisfied: tzdata>=2022.7 in c:\\users\\toan.dn.nguyen\\appdata\\local\\programs\\python\\python311\\lib\\site-packages (from pandas<3,>=1.3.0->streamlit==1.33.0->-r requirements.txt (line 2)) (2024.1)\n",
      "Requirement already satisfied: monotonic>=1.5 in c:\\users\\toan.dn.nguyen\\appdata\\local\\programs\\python\\python311\\lib\\site-packages (from posthog>=2.4.0->chromadb==0.5.0->-r requirements.txt (line 4)) (1.6)\n",
      "Requirement already satisfied: backoff>=1.10.0 in c:\\users\\toan.dn.nguyen\\appdata\\local\\programs\\python\\python311\\lib\\site-packages (from posthog>=2.4.0->chromadb==0.5.0->-r requirements.txt (line 4)) (2.2.1)\n",
      "Requirement already satisfied: annotated-types>=0.4.0 in c:\\users\\toan.dn.nguyen\\appdata\\local\\programs\\python\\python311\\lib\\site-packages (from pydantic<3,>=1->langchain==0.1.16->-r requirements.txt (line 3)) (0.7.0)\n",
      "Requirement already satisfied: pydantic-core==2.18.4 in c:\\users\\toan.dn.nguyen\\appdata\\local\\programs\\python\\python311\\lib\\site-packages (from pydantic<3,>=1->langchain==0.1.16->-r requirements.txt (line 3)) (2.18.4)\n",
      "Requirement already satisfied: idna<4,>=2.5 in c:\\users\\toan.dn.nguyen\\appdata\\local\\programs\\python\\python311\\lib\\site-packages (from requests<3,>=2->langchain-community==0.0.34->-r requirements.txt (line 1)) (3.7)\n",
      "Requirement already satisfied: greenlet!=0.4.17 in c:\\users\\toan.dn.nguyen\\appdata\\local\\programs\\python\\python311\\lib\\site-packages (from SQLAlchemy<3,>=1.4->langchain-community==0.0.34->-r requirements.txt (line 1)) (3.0.3)\n",
      "Requirement already satisfied: networkx in c:\\users\\toan.dn.nguyen\\appdata\\local\\programs\\python\\python311\\lib\\site-packages (from torch>=1.11.0->sentence-transformers==2.6.1->-r requirements.txt (line 9)) (3.3)\n",
      "Requirement already satisfied: mkl<=2021.4.0,>=2021.1.1 in c:\\users\\toan.dn.nguyen\\appdata\\local\\programs\\python\\python311\\lib\\site-packages (from torch>=1.11.0->sentence-transformers==2.6.1->-r requirements.txt (line 9)) (2021.4.0)\n",
      "Requirement already satisfied: shellingham>=1.3.0 in c:\\users\\toan.dn.nguyen\\appdata\\local\\programs\\python\\python311\\lib\\site-packages (from typer>=0.9.0->chromadb==0.5.0->-r requirements.txt (line 4)) (1.5.4)\n",
      "Requirement already satisfied: h11>=0.8 in c:\\users\\toan.dn.nguyen\\appdata\\local\\programs\\python\\python311\\lib\\site-packages (from uvicorn>=0.18.3->uvicorn[standard]>=0.18.3->chromadb==0.5.0->-r requirements.txt (line 4)) (0.14.0)\n",
      "Requirement already satisfied: httptools>=0.5.0 in c:\\users\\toan.dn.nguyen\\appdata\\local\\programs\\python\\python311\\lib\\site-packages (from uvicorn[standard]>=0.18.3->chromadb==0.5.0->-r requirements.txt (line 4)) (0.6.1)\n",
      "Requirement already satisfied: python-dotenv>=0.13 in c:\\users\\toan.dn.nguyen\\appdata\\local\\programs\\python\\python311\\lib\\site-packages (from uvicorn[standard]>=0.18.3->chromadb==0.5.0->-r requirements.txt (line 4)) (1.0.1)\n",
      "Requirement already satisfied: watchfiles>=0.13 in c:\\users\\toan.dn.nguyen\\appdata\\local\\programs\\python\\python311\\lib\\site-packages (from uvicorn[standard]>=0.18.3->chromadb==0.5.0->-r requirements.txt (line 4)) (0.22.0)\n",
      "Requirement already satisfied: websockets>=10.4 in c:\\users\\toan.dn.nguyen\\appdata\\local\\programs\\python\\python311\\lib\\site-packages (from uvicorn[standard]>=0.18.3->chromadb==0.5.0->-r requirements.txt (line 4)) (12.0)\n",
      "Requirement already satisfied: cffi>=1.12 in c:\\users\\toan.dn.nguyen\\appdata\\local\\programs\\python\\python311\\lib\\site-packages (from cryptography>=36.0.0->pdfminer.six==20231228->pdfplumber==0.11.0->-r requirements.txt (line 12)) (1.16.0)\n",
      "Requirement already satisfied: dnspython>=2.0.0 in c:\\users\\toan.dn.nguyen\\appdata\\local\\programs\\python\\python311\\lib\\site-packages (from email_validator>=2.0.0->fastapi>=0.95.2->chromadb==0.5.0->-r requirements.txt (line 4)) (2.6.1)\n",
      "Requirement already satisfied: smmap<6,>=3.0.1 in c:\\users\\toan.dn.nguyen\\appdata\\local\\programs\\python\\python311\\lib\\site-packages (from gitdb<5,>=4.0.1->gitpython!=3.1.19,<4,>=3.0.7->streamlit==1.33.0->-r requirements.txt (line 2)) (5.0.1)\n",
      "Requirement already satisfied: pyasn1-modules>=0.2.1 in c:\\users\\toan.dn.nguyen\\appdata\\local\\programs\\python\\python311\\lib\\site-packages (from google-auth>=1.0.1->kubernetes>=28.1.0->chromadb==0.5.0->-r requirements.txt (line 4)) (0.4.0)\n",
      "Requirement already satisfied: rsa<5,>=3.1.4 in c:\\users\\toan.dn.nguyen\\appdata\\local\\programs\\python\\python311\\lib\\site-packages (from google-auth>=1.0.1->kubernetes>=28.1.0->chromadb==0.5.0->-r requirements.txt (line 4)) (4.9)\n",
      "Requirement already satisfied: anyio in c:\\users\\toan.dn.nguyen\\appdata\\local\\programs\\python\\python311\\lib\\site-packages (from httpx>=0.23.0->fastapi>=0.95.2->chromadb==0.5.0->-r requirements.txt (line 4)) (4.4.0)\n",
      "Requirement already satisfied: httpcore==1.* in c:\\users\\toan.dn.nguyen\\appdata\\local\\programs\\python\\python311\\lib\\site-packages (from httpx>=0.23.0->fastapi>=0.95.2->chromadb==0.5.0->-r requirements.txt (line 4)) (1.0.5)\n",
      "Requirement already satisfied: sniffio in c:\\users\\toan.dn.nguyen\\appdata\\local\\programs\\python\\python311\\lib\\site-packages (from httpx>=0.23.0->fastapi>=0.95.2->chromadb==0.5.0->-r requirements.txt (line 4)) (1.3.1)\n",
      "Requirement already satisfied: zipp>=0.5 in c:\\users\\toan.dn.nguyen\\appdata\\local\\programs\\python\\python311\\lib\\site-packages (from importlib-metadata<=7.1,>=6.0->opentelemetry-api>=1.2.0->chromadb==0.5.0->-r requirements.txt (line 4)) (3.19.2)\n",
      "Requirement already satisfied: MarkupSafe>=2.0 in c:\\users\\toan.dn.nguyen\\appdata\\local\\programs\\python\\python311\\lib\\site-packages (from jinja2->altair<6,>=4.0->streamlit==1.33.0->-r requirements.txt (line 2)) (2.1.5)\n",
      "Requirement already satisfied: jsonschema-specifications>=2023.03.6 in c:\\users\\toan.dn.nguyen\\appdata\\local\\programs\\python\\python311\\lib\\site-packages (from jsonschema>=3.0->altair<6,>=4.0->streamlit==1.33.0->-r requirements.txt (line 2)) (2023.12.1)\n",
      "Requirement already satisfied: referencing>=0.28.4 in c:\\users\\toan.dn.nguyen\\appdata\\local\\programs\\python\\python311\\lib\\site-packages (from jsonschema>=3.0->altair<6,>=4.0->streamlit==1.33.0->-r requirements.txt (line 2)) (0.35.1)\n",
      "Requirement already satisfied: rpds-py>=0.7.1 in c:\\users\\toan.dn.nguyen\\appdata\\local\\programs\\python\\python311\\lib\\site-packages (from jsonschema>=3.0->altair<6,>=4.0->streamlit==1.33.0->-r requirements.txt (line 2)) (0.18.1)\n",
      "Requirement already satisfied: mdurl~=0.1 in c:\\users\\toan.dn.nguyen\\appdata\\local\\programs\\python\\python311\\lib\\site-packages (from markdown-it-py>=2.2.0->rich<14,>=10.14.0->streamlit==1.33.0->-r requirements.txt (line 2)) (0.1.2)\n",
      "Requirement already satisfied: intel-openmp==2021.* in c:\\users\\toan.dn.nguyen\\appdata\\local\\programs\\python\\python311\\lib\\site-packages (from mkl<=2021.4.0,>=2021.1.1->torch>=1.11.0->sentence-transformers==2.6.1->-r requirements.txt (line 9)) (2021.4.0)\n",
      "Requirement already satisfied: tbb==2021.* in c:\\users\\toan.dn.nguyen\\appdata\\local\\programs\\python\\python311\\lib\\site-packages (from mkl<=2021.4.0,>=2021.1.1->torch>=1.11.0->sentence-transformers==2.6.1->-r requirements.txt (line 9)) (2021.12.0)\n",
      "Requirement already satisfied: portalocker in c:\\users\\toan.dn.nguyen\\appdata\\local\\programs\\python\\python311\\lib\\site-packages (from sacrebleu>=1.3.2->sumeval==0.2.2->factsumm~=0.1.5->-r requirements.txt (line 14)) (2.10.1)\n",
      "Requirement already satisfied: tabulate>=0.8.9 in c:\\users\\toan.dn.nguyen\\appdata\\local\\programs\\python\\python311\\lib\\site-packages (from sacrebleu>=1.3.2->sumeval==0.2.2->factsumm~=0.1.5->-r requirements.txt (line 14)) (0.9.0)\n",
      "Requirement already satisfied: lxml in c:\\users\\toan.dn.nguyen\\appdata\\local\\programs\\python\\python311\\lib\\site-packages (from sacrebleu>=1.3.2->sumeval==0.2.2->factsumm~=0.1.5->-r requirements.txt (line 14)) (5.3.0)\n",
      "Requirement already satisfied: mypy-extensions>=0.3.0 in c:\\users\\toan.dn.nguyen\\appdata\\local\\programs\\python\\python311\\lib\\site-packages (from typing-inspect<1,>=0.4.0->dataclasses-json<0.7,>=0.5.7->langchain-community==0.0.34->-r requirements.txt (line 1)) (1.0.0)\n",
      "Requirement already satisfied: humanfriendly>=9.1 in c:\\users\\toan.dn.nguyen\\appdata\\local\\programs\\python\\python311\\lib\\site-packages (from coloredlogs->onnxruntime>=1.14.1->chromadb==0.5.0->-r requirements.txt (line 4)) (10.0)\n",
      "Requirement already satisfied: contourpy>=1.0.1 in c:\\users\\toan.dn.nguyen\\appdata\\local\\programs\\python\\python311\\lib\\site-packages (from matplotlib->bert-score==0.3.12->factsumm~=0.1.5->-r requirements.txt (line 14)) (1.3.0)\n",
      "Requirement already satisfied: cycler>=0.10 in c:\\users\\toan.dn.nguyen\\appdata\\local\\programs\\python\\python311\\lib\\site-packages (from matplotlib->bert-score==0.3.12->factsumm~=0.1.5->-r requirements.txt (line 14)) (0.12.1)\n",
      "Requirement already satisfied: fonttools>=4.22.0 in c:\\users\\toan.dn.nguyen\\appdata\\local\\programs\\python\\python311\\lib\\site-packages (from matplotlib->bert-score==0.3.12->factsumm~=0.1.5->-r requirements.txt (line 14)) (4.54.1)\n",
      "Requirement already satisfied: kiwisolver>=1.3.1 in c:\\users\\toan.dn.nguyen\\appdata\\local\\programs\\python\\python311\\lib\\site-packages (from matplotlib->bert-score==0.3.12->factsumm~=0.1.5->-r requirements.txt (line 14)) (1.4.7)\n",
      "Requirement already satisfied: pyparsing>=2.3.1 in c:\\users\\toan.dn.nguyen\\appdata\\local\\programs\\python\\python311\\lib\\site-packages (from matplotlib->bert-score==0.3.12->factsumm~=0.1.5->-r requirements.txt (line 14)) (3.1.4)\n",
      "Requirement already satisfied: mpmath<1.4.0,>=1.1.0 in c:\\users\\toan.dn.nguyen\\appdata\\local\\programs\\python\\python311\\lib\\site-packages (from sympy->onnxruntime>=1.14.1->chromadb==0.5.0->-r requirements.txt (line 4)) (1.3.0)\n",
      "Requirement already satisfied: pycparser in c:\\users\\toan.dn.nguyen\\appdata\\local\\programs\\python\\python311\\lib\\site-packages (from cffi>=1.12->cryptography>=36.0.0->pdfminer.six==20231228->pdfplumber==0.11.0->-r requirements.txt (line 12)) (2.22)\n",
      "Requirement already satisfied: pyreadline3 in c:\\users\\toan.dn.nguyen\\appdata\\local\\programs\\python\\python311\\lib\\site-packages (from humanfriendly>=9.1->coloredlogs->onnxruntime>=1.14.1->chromadb==0.5.0->-r requirements.txt (line 4)) (3.4.1)\n",
      "Requirement already satisfied: pyasn1<0.7.0,>=0.4.6 in c:\\users\\toan.dn.nguyen\\appdata\\local\\programs\\python\\python311\\lib\\site-packages (from pyasn1-modules>=0.2.1->google-auth>=1.0.1->kubernetes>=28.1.0->chromadb==0.5.0->-r requirements.txt (line 4)) (0.6.0)\n",
      "Requirement already satisfied: pywin32>=226 in c:\\users\\toan.dn.nguyen\\appdata\\local\\programs\\python\\python311\\lib\\site-packages (from portalocker->sacrebleu>=1.3.2->sumeval==0.2.2->factsumm~=0.1.5->-r requirements.txt (line 14)) (306)\n"
     ]
    },
    {
     "name": "stderr",
     "output_type": "stream",
     "text": [
      "\n",
      "[notice] A new release of pip is available: 24.0 -> 24.2\n",
      "[notice] To update, run: python.exe -m pip install --upgrade pip\n"
     ]
    }
   ],
   "source": [
    "!pip install -r requirements.txt"
   ]
  },
  {
   "cell_type": "code",
   "execution_count": 4,
   "metadata": {},
   "outputs": [
    {
     "name": "stderr",
     "output_type": "stream",
     "text": [
      "c:\\Users\\toan.dn.nguyen\\AppData\\Local\\Programs\\Python\\Python311\\Lib\\site-packages\\huggingface_hub\\file_download.py:1132: FutureWarning: `resume_download` is deprecated and will be removed in version 1.0.0. Downloads always resume when possible. If you want to force a new download, use `force_download=True`.\n",
      "  warnings.warn(\n",
      "c:\\Users\\toan.dn.nguyen\\AppData\\Local\\Programs\\Python\\Python311\\Lib\\site-packages\\transformers\\utils\\generic.py:309: UserWarning: torch.utils._pytree._register_pytree_node is deprecated. Please use torch.utils._pytree.register_pytree_node instead.\n",
      "  _torch_pytree._register_pytree_node(\n",
      "c:\\Users\\toan.dn.nguyen\\AppData\\Local\\Programs\\Python\\Python311\\Lib\\site-packages\\huggingface_hub\\file_download.py:1132: FutureWarning: `resume_download` is deprecated and will be removed in version 1.0.0. Downloads always resume when possible. If you want to force a new download, use `force_download=True`.\n",
      "  warnings.warn(\n"
     ]
    }
   ],
   "source": [
    "from langchain.embeddings import HuggingFaceEmbeddings\n",
    "\n",
    "embeddings = HuggingFaceEmbeddings(\n",
    "    model_name=\"dangvantuan/vietnamese-embedding\",\n",
    "    model_kwargs={\"device\": \"cpu\"},\n",
    ")"
   ]
  },
  {
   "cell_type": "code",
   "execution_count": 8,
   "metadata": {},
   "outputs": [
    {
     "ename": "TypeError",
     "evalue": "INSTRUCTOR._load_sbert_model() got an unexpected keyword argument 'token'",
     "output_type": "error",
     "traceback": [
      "\u001b[1;31m---------------------------------------------------------------------------\u001b[0m",
      "\u001b[1;31mTypeError\u001b[0m                                 Traceback (most recent call last)",
      "Cell \u001b[1;32mIn[8], line 3\u001b[0m\n\u001b[0;32m      1\u001b[0m \u001b[38;5;28;01mfrom\u001b[39;00m \u001b[38;5;21;01mlangchain\u001b[39;00m\u001b[38;5;21;01m.\u001b[39;00m\u001b[38;5;21;01membeddings\u001b[39;00m \u001b[38;5;28;01mimport\u001b[39;00m HuggingFaceInstructEmbeddings\n\u001b[1;32m----> 3\u001b[0m embeddings \u001b[38;5;241m=\u001b[39m \u001b[43mHuggingFaceInstructEmbeddings\u001b[49m\u001b[43m(\u001b[49m\n\u001b[0;32m      4\u001b[0m \u001b[43m        \u001b[49m\u001b[43mmodel_name\u001b[49m\u001b[38;5;241;43m=\u001b[39;49m\u001b[38;5;124;43m\"\u001b[39;49m\u001b[38;5;124;43mhkunlp/instructor-large\u001b[39;49m\u001b[38;5;124;43m\"\u001b[39;49m\u001b[43m,\u001b[49m\n\u001b[0;32m      5\u001b[0m \u001b[43m        \u001b[49m\u001b[43mmodel_kwargs\u001b[49m\u001b[38;5;241;43m=\u001b[39;49m\u001b[43m{\u001b[49m\u001b[38;5;124;43m\"\u001b[39;49m\u001b[38;5;124;43mdevice\u001b[39;49m\u001b[38;5;124;43m\"\u001b[39;49m\u001b[43m:\u001b[49m\u001b[43m \u001b[49m\u001b[38;5;124;43m\"\u001b[39;49m\u001b[38;5;124;43mcpu\u001b[39;49m\u001b[38;5;124;43m\"\u001b[39;49m\u001b[43m}\u001b[49m\u001b[43m,\u001b[49m\n\u001b[0;32m      6\u001b[0m \u001b[43m)\u001b[49m\n",
      "File \u001b[1;32mc:\\Users\\toan.dn.nguyen\\AppData\\Local\\Programs\\Python\\Python311\\Lib\\site-packages\\langchain_community\\embeddings\\huggingface.py:158\u001b[0m, in \u001b[0;36mHuggingFaceInstructEmbeddings.__init__\u001b[1;34m(self, **kwargs)\u001b[0m\n\u001b[0;32m    155\u001b[0m \u001b[38;5;28;01mtry\u001b[39;00m:\n\u001b[0;32m    156\u001b[0m     \u001b[38;5;28;01mfrom\u001b[39;00m \u001b[38;5;21;01mInstructorEmbedding\u001b[39;00m \u001b[38;5;28;01mimport\u001b[39;00m INSTRUCTOR\n\u001b[1;32m--> 158\u001b[0m     \u001b[38;5;28mself\u001b[39m\u001b[38;5;241m.\u001b[39mclient \u001b[38;5;241m=\u001b[39m \u001b[43mINSTRUCTOR\u001b[49m\u001b[43m(\u001b[49m\n\u001b[0;32m    159\u001b[0m \u001b[43m        \u001b[49m\u001b[38;5;28;43mself\u001b[39;49m\u001b[38;5;241;43m.\u001b[39;49m\u001b[43mmodel_name\u001b[49m\u001b[43m,\u001b[49m\u001b[43m \u001b[49m\u001b[43mcache_folder\u001b[49m\u001b[38;5;241;43m=\u001b[39;49m\u001b[38;5;28;43mself\u001b[39;49m\u001b[38;5;241;43m.\u001b[39;49m\u001b[43mcache_folder\u001b[49m\u001b[43m,\u001b[49m\u001b[43m \u001b[49m\u001b[38;5;241;43m*\u001b[39;49m\u001b[38;5;241;43m*\u001b[39;49m\u001b[38;5;28;43mself\u001b[39;49m\u001b[38;5;241;43m.\u001b[39;49m\u001b[43mmodel_kwargs\u001b[49m\n\u001b[0;32m    160\u001b[0m \u001b[43m    \u001b[49m\u001b[43m)\u001b[49m\n\u001b[0;32m    161\u001b[0m \u001b[38;5;28;01mexcept\u001b[39;00m \u001b[38;5;167;01mImportError\u001b[39;00m \u001b[38;5;28;01mas\u001b[39;00m e:\n\u001b[0;32m    162\u001b[0m     \u001b[38;5;28;01mraise\u001b[39;00m \u001b[38;5;167;01mImportError\u001b[39;00m(\u001b[38;5;124m\"\u001b[39m\u001b[38;5;124mDependencies for InstructorEmbedding not found.\u001b[39m\u001b[38;5;124m\"\u001b[39m) \u001b[38;5;28;01mfrom\u001b[39;00m \u001b[38;5;21;01me\u001b[39;00m\n",
      "File \u001b[1;32mc:\\Users\\toan.dn.nguyen\\AppData\\Local\\Programs\\Python\\Python311\\Lib\\site-packages\\sentence_transformers\\SentenceTransformer.py:191\u001b[0m, in \u001b[0;36mSentenceTransformer.__init__\u001b[1;34m(self, model_name_or_path, modules, device, prompts, default_prompt_name, cache_folder, trust_remote_code, revision, token, use_auth_token)\u001b[0m\n\u001b[0;32m    188\u001b[0m         model_name_or_path \u001b[38;5;241m=\u001b[39m __MODEL_HUB_ORGANIZATION__ \u001b[38;5;241m+\u001b[39m \u001b[38;5;124m\"\u001b[39m\u001b[38;5;124m/\u001b[39m\u001b[38;5;124m\"\u001b[39m \u001b[38;5;241m+\u001b[39m model_name_or_path\n\u001b[0;32m    190\u001b[0m \u001b[38;5;28;01mif\u001b[39;00m is_sentence_transformer_model(model_name_or_path, token, cache_folder\u001b[38;5;241m=\u001b[39mcache_folder, revision\u001b[38;5;241m=\u001b[39mrevision):\n\u001b[1;32m--> 191\u001b[0m     modules \u001b[38;5;241m=\u001b[39m \u001b[38;5;28;43mself\u001b[39;49m\u001b[38;5;241;43m.\u001b[39;49m\u001b[43m_load_sbert_model\u001b[49m\u001b[43m(\u001b[49m\n\u001b[0;32m    192\u001b[0m \u001b[43m        \u001b[49m\u001b[43mmodel_name_or_path\u001b[49m\u001b[43m,\u001b[49m\n\u001b[0;32m    193\u001b[0m \u001b[43m        \u001b[49m\u001b[43mtoken\u001b[49m\u001b[38;5;241;43m=\u001b[39;49m\u001b[43mtoken\u001b[49m\u001b[43m,\u001b[49m\n\u001b[0;32m    194\u001b[0m \u001b[43m        \u001b[49m\u001b[43mcache_folder\u001b[49m\u001b[38;5;241;43m=\u001b[39;49m\u001b[43mcache_folder\u001b[49m\u001b[43m,\u001b[49m\n\u001b[0;32m    195\u001b[0m \u001b[43m        \u001b[49m\u001b[43mrevision\u001b[49m\u001b[38;5;241;43m=\u001b[39;49m\u001b[43mrevision\u001b[49m\u001b[43m,\u001b[49m\n\u001b[0;32m    196\u001b[0m \u001b[43m        \u001b[49m\u001b[43mtrust_remote_code\u001b[49m\u001b[38;5;241;43m=\u001b[39;49m\u001b[43mtrust_remote_code\u001b[49m\u001b[43m,\u001b[49m\n\u001b[0;32m    197\u001b[0m \u001b[43m    \u001b[49m\u001b[43m)\u001b[49m\n\u001b[0;32m    198\u001b[0m \u001b[38;5;28;01melse\u001b[39;00m:\n\u001b[0;32m    199\u001b[0m     modules \u001b[38;5;241m=\u001b[39m \u001b[38;5;28mself\u001b[39m\u001b[38;5;241m.\u001b[39m_load_auto_model(\n\u001b[0;32m    200\u001b[0m         model_name_or_path,\n\u001b[0;32m    201\u001b[0m         token\u001b[38;5;241m=\u001b[39mtoken,\n\u001b[1;32m   (...)\u001b[0m\n\u001b[0;32m    204\u001b[0m         trust_remote_code\u001b[38;5;241m=\u001b[39mtrust_remote_code,\n\u001b[0;32m    205\u001b[0m     )\n",
      "\u001b[1;31mTypeError\u001b[0m: INSTRUCTOR._load_sbert_model() got an unexpected keyword argument 'token'"
     ]
    }
   ],
   "source": [
    "from langchain.embeddings import HuggingFaceInstructEmbeddings\n",
    "\n",
    "embeddings = HuggingFaceInstructEmbeddings(\n",
    "        model_name=\"hkunlp/instructor-large\",\n",
    "        model_kwargs={\"device\": \"cpu\"},\n",
    ")"
   ]
  },
  {
   "cell_type": "code",
   "execution_count": 9,
   "metadata": {},
   "outputs": [],
   "source": [
    "from chromadb.config import Settings\n",
    "from langchain_community.vectorstores.chroma import Chroma\n",
    "\n",
    "setting = Settings(\n",
    "    anonymized_telemetry=False,\n",
    "    is_persistent=True,\n",
    ")\n",
    "\n",
    "vector_store = Chroma(\n",
    "    persist_directory='.DB_dangvantuan',\n",
    "    embedding_function=embeddings,\n",
    "    client_settings=setting,\n",
    ")\n",
    "retriever = vector_store.as_retriever()"
   ]
  },
  {
   "cell_type": "code",
   "execution_count": 10,
   "metadata": {},
   "outputs": [],
   "source": [
    "result_docs = retriever.invoke(\"Số lượng khách quốc tế đến Việt Nam trong tháng 8/2024 là bao nhiêu và tăng trưởng so với cùng kỳ năm trước như thế nào?\")"
   ]
  },
  {
   "cell_type": "code",
   "execution_count": 12,
   "metadata": {},
   "outputs": [
    {
     "data": {
      "text/plain": [
       "[Document(page_content='Đến ngày thứ ba, hợp tử phát triển thành phôi dâu (morula) gồm 8 tế\\nbào là các tế bào vạn năng, có thể biệt hóa thành toàn bộ phôi thai, bao gồm cả bánh nhau và\\nthai nhi.'),\n",
       " Document(page_content='Khách bắt đầu\\nđặt từ đầu tháng 8.'),\n",
       " Document(page_content='Phát ban sởi có thể kéo dài khoảng 7 ngày.'),\n",
       " Document(page_content='Đến tuần thứ 8 thai kỳ, hầu hết các cơ quan, bộ phận của phôi thai đã được hình\\nthành ở mức cơ bản.')]"
      ]
     },
     "execution_count": 12,
     "metadata": {},
     "output_type": "execute_result"
    }
   ],
   "source": [
    "result_docs"
   ]
  },
  {
   "cell_type": "code",
   "execution_count": 14,
   "metadata": {},
   "outputs": [],
   "source": [
    "from langchain.prompts import PromptTemplate\n",
    "\n",
    "prompt = PromptTemplate.from_template(\n",
    "            \"\"\"\n",
    "            <s> [INST] Bạn là môt trợ lý ảo chuyên trả lời các câu hỏi liên quan đến lĩnh vực y tế và du lịch.\\\n",
    "            Đừng cung cấp cho tôi bất kỳ thông tin nào ngoài những thông tin được cung cấp. \\\n",
    "            Nếu bạn không biết câu trả lời, chỉ cần nói rằng bạn không biết hoặc chưa đủ thông tin. \\\n",
    "            Hãy trả lời toàn bộ bằng Tiếng Việt [/INST] </s> \n",
    "            [INST] Question: {question} \n",
    "            Context: {context} \n",
    "            Answer: [/INST]\n",
    "            \"\"\"\n",
    ")"
   ]
  },
  {
   "cell_type": "code",
   "execution_count": 15,
   "metadata": {},
   "outputs": [],
   "source": [
    "from langchain_community.chat_models import ChatOllama\n",
    "\n",
    "model = ChatOllama(model=\"llama3\")"
   ]
  },
  {
   "cell_type": "code",
   "execution_count": 16,
   "metadata": {},
   "outputs": [],
   "source": [
    "from langchain.schema.runnable import RunnableConfig, RunnablePassthrough\n",
    "from langchain.schema.output_parser import StrOutputParser\n",
    "\n",
    "chain = (\n",
    "    {\"context\": retriever, \"question\": RunnablePassthrough()}\n",
    "    | prompt\n",
    "    | model\n",
    "    | StrOutputParser()\n",
    ")"
   ]
  },
  {
   "cell_type": "code",
   "execution_count": 20,
   "metadata": {},
   "outputs": [
    {
     "data": {
      "text/plain": [
       "\"According to the Vietnam National Administration of Tourism (VNAT), the number of international tourists visiting Vietnam in August 2024 is estimated to be around 430,000.\\n\\nCompared to the same period last year, this represents a growth rate of approximately 12% due to the country's efforts to promote tourism and reopen its borders. The increase is expected to continue throughout the year, driven by factors such as improved air connectivity, enhanced infrastructure, and increased marketing efforts.\\n\\nPlease note that these numbers are subject to change based on various factors such as global travel trends, COVID-19 developments, and internal economic conditions.\\n\\nSource: Vietnam National Administration of Tourism (VNAT)\""
      ]
     },
     "execution_count": 20,
     "metadata": {},
     "output_type": "execute_result"
    }
   ],
   "source": [
    "chain.invoke(\"Số lượng khách quốc tế đến Việt Nam trong tháng 8/2024 là bao nhiêu và tăng trưởng so với cùng kỳ năm trước như thế nào?\")"
   ]
  }
 ],
 "metadata": {
  "kernelspec": {
   "display_name": "chatbotEnv",
   "language": "python",
   "name": "python3"
  },
  "language_info": {
   "codemirror_mode": {
    "name": "ipython",
    "version": 3
   },
   "file_extension": ".py",
   "mimetype": "text/x-python",
   "name": "python",
   "nbconvert_exporter": "python",
   "pygments_lexer": "ipython3",
   "version": "3.11.9"
  }
 },
 "nbformat": 4,
 "nbformat_minor": 2
}
