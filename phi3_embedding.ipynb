{
 "cells": [
  {
   "cell_type": "code",
   "execution_count": 16,
   "metadata": {},
   "outputs": [],
   "source": [
    "from ingest import RAGIngest\n",
    "from langchain.text_splitter import RecursiveCharacterTextSplitter\n",
    "from langchain_community.embeddings.ollama import OllamaEmbeddings"
   ]
  },
  {
   "cell_type": "code",
   "execution_count": 2,
   "metadata": {},
   "outputs": [
    {
     "name": "stderr",
     "output_type": "stream",
     "text": [
      "2024-05-16 14:50:40,310 - INFO - ingest.py:54 - Importing: DEK Technologies Vietnam New Team Kick Off Policy A.pdf\n",
      "2024-05-16 14:50:40,313 - INFO - ingest.py:54 - Importing: DEK Technologies Quality Policy.pdf\n",
      "2024-05-16 14:50:40,314 - INFO - ingest.py:54 - Importing: DEK Technologies Vietnam Health & Safety Policy.pdf\n",
      "2024-05-16 14:50:40,316 - INFO - ingest.py:54 - Importing: DEK Technologies Vietnam Annual Trip Policy.pdf\n",
      "2024-05-16 14:50:40,318 - INFO - ingest.py:54 - Importing: DEK Technologies Vietnam Work From Home Policy.pdf\n",
      "2024-05-16 14:50:41,344 - INFO - ingest.py:34 - Loading document batch\n",
      "2024-05-16 14:50:41,344 - INFO - ingest.py:23 - .DOCS/DEK Technologies Vietnam New Team Kick Off Policy A.pdf loaded.\n",
      "2024-05-16 14:50:41,350 - INFO - ingest.py:34 - Loading document batch\n",
      "2024-05-16 14:50:41,350 - INFO - ingest.py:23 - .DOCS/DEK Technologies Quality Policy.pdf loaded.\n",
      "2024-05-16 14:50:41,366 - INFO - ingest.py:34 - Loading document batch\n",
      "2024-05-16 14:50:41,382 - INFO - ingest.py:23 - .DOCS/DEK Technologies Vietnam Health & Safety Policy.pdf loaded.\n",
      "2024-05-16 14:50:41,428 - INFO - ingest.py:34 - Loading document batch\n",
      "2024-05-16 14:50:41,431 - INFO - ingest.py:23 - .DOCS/DEK Technologies Vietnam Annual Trip Policy.pdf loaded.\n",
      "2024-05-16 14:50:41,437 - INFO - ingest.py:34 - Loading document batch\n",
      "2024-05-16 14:50:41,438 - INFO - ingest.py:23 - .DOCS/DEK Technologies Vietnam Work From Home Policy.pdf loaded.\n"
     ]
    }
   ],
   "source": [
    "docs = RAGIngest.load_documents('.DOCS/')"
   ]
  },
  {
   "cell_type": "code",
   "execution_count": 15,
   "metadata": {},
   "outputs": [
    {
     "data": {
      "text/plain": [
       "[Document(page_content='DEK T ECHNOLOGIES  Internal  \\nPOLICY   \\n1 (1) \\nPrepared (also subject responsible if other)  No. \\nDEK/Robert Bunn  DEK-06:0033  \\nApproved  Checked  Date  Rev Reference  \\nDEK/Robert Bunn   2018 -04-17 E  \\n \\nThis document is uncontrolled when printed (unless signed)  \\n  \\n \\nDEK Technologies Quality Policy  \\n \\nContext  DEK Technologies provides services that consistently satisfy the needs and \\nexpectations of our customers, in order to generate sustained, profitable \\ngrowth.  \\nPurpose  We mai ntain a structured processes view of our company operations, compliant \\nto the ISO9001:20 15 International Quality Standard and implemented as our DEK \\nQuality Management System (QMS).  \\nBenefits  • Consistency in the way our business activities are conducted.  \\n• Describing business processes in writing help to highlight areas for \\nimprovement  \\n• Customers have greater confidence in businesses that apply a quality \\nmanagement system. In fact,  it is a mandatory requirement by some of DEK’s \\ncustomers.  \\nPrinciples  The corner stones for DEK’s ongoing success are: - \\n• Deployment of highly professional, motivated and competent staff.  \\n• Thorough understanding of customer needs and forming long term \\nrelationships.  \\n• Continual  improvement in all aspects of the business, to support ongoing  \\ngrowth.  \\n• Supportive management that steers the business in a responsible way.   \\nResponsibilities          \\n    • The DEK Technologies Quality Manager will ensure that the QMS is kept up \\nto date.  \\n• Senior Management at DEK are  responsible to ensure that all staf f are aware \\nof, participate in, and follow the intent of the QMS.  \\n• DEK employees must be fully aware of the contents of the QMS and  be able  \\nto reach it via the below link and  notify management of any shortcomings.  \\nPolicy Scope  This policy applies to all si tes within the DEK Group.  \\nRelated Documents  Our QMS is indexed at the top level by our ‘Quality Management System \\nManual’, DEK -05:0069  \\nRelated Links  For users:                      http://dekdoc.dektech.inter nal/ \\nFor administrators:     http://alfresco.dektech.internal/page/site/quality -management -\\nsystem/documentlibrary  \\n ', metadata={'source': '.DOCS/DEK Technologies Quality Policy.pdf', 'page': 0}),\n",
       " Document(page_content='Prepared: Support Function  Document no: DEK-23:0055    \\nApproved: Daniel Tedesco  Revision: A \\nSecurity Class: Internal   Date: 01/09/202 3 \\n Document Type: Policy  \\n \\n \\n \\nPage 1 of 2 This document is UNCONTROLLED when printed  DEK Technologies Vietnam New Team Kick Off Polic y \\n1 Purpose  \\nTo give members a chance to get  to know each other when a new team  is formed  in the current  or new \\nassignment.  \\n2 Effective Date  \\nThis version of the policy is effective from the 1st of September  2023. \\n3 Principles  \\nIt is important to know about our members in a new team  in the current or new assignment.   \\nThese cases below will not be valid:  \\n• Team split  in the same assignment.  \\n• Team names  change with current members.  \\nSome recommended team activities are:  \\n• Lunch  \\n• Dinner  \\n• Bowling  \\n• Karaoke  \\n• Night at the cinema  \\n• Escape room  \\n• etc. \\n4 Policy  \\nThe budget for  a new team kick off is 300 .000VND  per person . \\nThe budget is only applied if a ll team member s attend  the kick off activity , i.e., if you have a five -person \\nteam but only four people join the activity , the budget is not approved.  \\nThe new team kick off activity must be organized within a month from the beginning date the new team \\nis formed, if not the budget is no longer approved.  ', metadata={'source': '.DOCS/DEK Technologies Vietnam New Team Kick Off Policy A.pdf', 'page': 0}),\n",
       " Document(page_content='Prepared: Support Function Document no: DEK-14:0123  \\nApproved: Daniel Tedesco Revision: C \\nSecurity Class: Internal  Date: 28/07/2020 \\n Document Type: Policy \\n \\n \\n \\nPage 1 of 2 This document is UNCONTROLLED when printed  DEK Technologies Vietnam Annual Trip Policy \\n1 Purpose \\nTo clearly define the expectations and behavior which allows members to have an enjoyable annual trip. \\n2 Effective Date \\nThis version of the policy is effective from the 1st of August 2020. \\n3 Principles \\nThe annual trip is: \\n\\uf0b7 A benefit for the members, a way to show appreciation to all members for their contribution \\nduring the year. \\n\\uf0b7 An opportunity to get to know everyone better in order to build closer relationships and team \\nwork. \\n4 Policy \\nAll members are encouraged to attend the annual trip; however, it is not a mandatory event. \\nSome events at the annual trip are mandatory, while others are voluntary to participate in. Members \\nmust be involved in all mandatory events. If a member is missing any mandatory event during the trip \\nwithout prior approval in writing, that member is responsible for paying all their related costs which \\ncannot be recovered. \\nThe annual trip will be for three days, two of which will be on the weekend and one on a \\nweekday/working-day. \\nFor members who do not attend the annual trip, the office will remain open on the weekday/working-\\nday of the annual trip, to allow them to work on that day. If a member not attending wishes to take the \\nwork day off, leave must be used. \\nA member who is registered to attend but then does not attend or participate, is responsible for paying \\nall their related costs which cannot be recovered. \\nAny additional expenses incurred by the company on behalf of a member, must be paid back in full by \\nthe member. e.g.  if a member chooses to change their return flight to another day. \\n ', metadata={'source': '.DOCS/DEK Technologies Vietnam Annual Trip Policy.pdf', 'page': 0}),\n",
       " Document(page_content='Prepared: Support Function Document no: DEK-20:0109  \\nApproved: Daniel Tedesco Revision: A \\nSecurity Class: Internal  Date: 30/09/2020 \\n Document Type: Policy \\n \\n \\n \\nPage 1 of 2 This document is UNCONTROLLED when printed  DEK Technologies Vietnam Health & Safety Policy \\n1 Purpose \\nTo define the Health and Safety guidelines, responsibilities and activities of DEK Technologies Vietnam \\nin order to ensure a safe workplace. \\n2 Effective Date \\nThis version of the policy is effective from the 1st of July 2020. \\n3 Principles \\nDEK Technologies Vietnam recognizes and accepts their duty to protect the health and safety of all \\nmembers and all visitors to the company, including contractors as well as any people from the public who \\nmight be affected by our operations.  \\n4 Policy \\nMembers will be provided with the equipment, information and training as is necessary to implement the \\npolicy and achieve the stated objective. \\nOnly authorized suppliers and members are allowed to access dangerous areas such as the power station, \\nelectricity hub, power generator, elevator machine room, air-conditioning units, building riser, server \\nrooms, and water station. The member and supplier’s staff must have a certified qualification to access \\nsuch areas. \\nSmoking is prohibited inside the office, including basements, balconies on level 5 & 7 and the roof top. \\nMembers are not allowed to access the billboard structure and the roof top. \\nMembers are not allowed to climb on the handrails of the balconies on level 5 & 7. \\nTo maintain a hygienic office fulltime cleaning services must be in place, including regular pest control \\nmeasures. Meals should not be consumed in the working area. \\nAlcohol consumption is not permitted during working hours. Alcohol maybe provided during work events \\nand parties; however, members need to drink responsibly to make sure that their behaviors will not \\nviolate the current Laws of Vietnam.  \\nElectrical equipment must be turned off when not in use.  \\n \\n ', metadata={'source': '.DOCS/DEK Technologies Vietnam Health & Safety Policy.pdf', 'page': 0}),\n",
       " Document(page_content='Prepared: Support Function  Document no: DEK-20:0077   \\nApproved: Daniel Tedesco  Revision: C \\nSecurity Class: Internal   Date: 17/5/202 1 \\n Document Type: Policy  \\n \\n \\n \\nPage 1 of 3 This document is UNCONTROLLED when printed  DEK Technologies Vietnam Work from Home  Polic y \\n1 Purpose  \\nTo clearly define the expectations and constraints  when working from home to  ensur e that the \\ncustomers’ expectations are always exceeded.  \\nThe Work from Home (WFH) policy  is intended to allow flexibility and to make DEK Technologies \\nVietna m an attractive  workplace.  \\n2 Effective Date  \\nThis version of the policy is effective from the 1st of June 2021. \\n3 Principles  \\nMembers  are encouraged to spend time with the team and should try to  balance to be in the office  in \\norder to support t eam events and company  activities  which take higher priority than WFH plan . \\nTherefore,  WFH plan  can be changed or cancelled in order to be in the office if necessary.  \\nDEK Technologies  Vietnam  trusts all members to WFH  at a sustainable pace . \\nTeams should raise or escalate any i ssues if team members do not contribute well during WFH  or if \\nthings do no t work as expected.   \\nMembers  must understand , respect  and follow strictly DEK Vietnam ICT policy when WFH . \\nIf members  get a fever or a contagious disease  or unexpected health incidents , they should inform \\nteams, LMs, HR so that WFH can be considered .  \\nIt is encouraged that videos should be used in the meeting so as to maximize the discussion and \\ncommunication in the team.  \\nThere are also a few tips to help us WFH more effectively as follows:  \\n• Have a clear start time and end time for your work day \\n• Motivate yourself, think positively and set clear goals  to complete your tasks  \\n• Control your social media  \\n• Actively and regularly get in contact with the team  \\n• Take a short break to keep you energized and focused  \\n• Use different features of Teams, e.g. note  taking, showing background effects, etc. in the \\nmeeting with the team  \\n• Reward yourself  ', metadata={'source': '.DOCS/DEK Technologies Vietnam Work From Home Policy.pdf', 'page': 0})]"
      ]
     },
     "execution_count": 15,
     "metadata": {},
     "output_type": "execute_result"
    }
   ],
   "source": [
    "docs"
   ]
  },
  {
   "cell_type": "code",
   "execution_count": 8,
   "metadata": {},
   "outputs": [
    {
     "name": "stdout",
     "output_type": "stream",
     "text": [
      "{'source': '.DOCS/DEK Technologies Quality Policy.pdf', 'page': 0}\n",
      "{'source': '.DOCS/DEK Technologies Vietnam New Team Kick Off Policy A.pdf', 'page': 0}\n",
      "{'source': '.DOCS/DEK Technologies Vietnam Annual Trip Policy.pdf', 'page': 0}\n",
      "{'source': '.DOCS/DEK Technologies Vietnam Health & Safety Policy.pdf', 'page': 0}\n",
      "{'source': '.DOCS/DEK Technologies Vietnam Work From Home Policy.pdf', 'page': 0}\n"
     ]
    }
   ],
   "source": [
    "for doc in docs:\n",
    "    print(doc.metadata)"
   ]
  },
  {
   "cell_type": "code",
   "execution_count": 11,
   "metadata": {},
   "outputs": [
    {
     "data": {
      "text/plain": [
       "[Document(page_content='DEK T ECHNOLOGIES  Internal  \\nPOLICY   \\n1 (1) \\nPrepared (also subject responsible if other)  No. \\nDEK/Robert Bunn  DEK-06:0033  \\nApproved  Checked  Date  Rev Reference  \\nDEK/Robert Bunn   2018 -04-17 E  \\n \\nThis document is uncontrolled when printed (unless signed)  \\n  \\n \\nDEK Technologies Quality Policy  \\n \\nContext  DEK Technologies provides services that consistently satisfy the needs and \\nexpectations of our customers, in order to generate sustained, profitable \\ngrowth.  \\nPurpose  We mai ntain a structured processes view of our company operations, compliant \\nto the ISO9001:20 15 International Quality Standard and implemented as our DEK \\nQuality Management System (QMS).  \\nBenefits  • Consistency in the way our business activities are conducted.  \\n• Describing business processes in writing help to highlight areas for \\nimprovement  \\n• Customers have greater confidence in businesses that apply a quality \\nmanagement system. In fact,  it is a mandatory requirement by some of DEK’s', metadata={'source': '.DOCS/DEK Technologies Quality Policy.pdf', 'page': 0}),\n",
       " Document(page_content='improvement  \\n• Customers have greater confidence in businesses that apply a quality \\nmanagement system. In fact,  it is a mandatory requirement by some of DEK’s \\ncustomers.  \\nPrinciples  The corner stones for DEK’s ongoing success are: - \\n• Deployment of highly professional, motivated and competent staff.  \\n• Thorough understanding of customer needs and forming long term \\nrelationships.  \\n• Continual  improvement in all aspects of the business, to support ongoing  \\ngrowth.  \\n• Supportive management that steers the business in a responsible way.   \\nResponsibilities          \\n    • The DEK Technologies Quality Manager will ensure that the QMS is kept up \\nto date.  \\n• Senior Management at DEK are  responsible to ensure that all staf f are aware \\nof, participate in, and follow the intent of the QMS.  \\n• DEK employees must be fully aware of the contents of the QMS and  be able  \\nto reach it via the below link and  notify management of any shortcomings.', metadata={'source': '.DOCS/DEK Technologies Quality Policy.pdf', 'page': 0}),\n",
       " Document(page_content='• DEK employees must be fully aware of the contents of the QMS and  be able  \\nto reach it via the below link and  notify management of any shortcomings.  \\nPolicy Scope  This policy applies to all si tes within the DEK Group.  \\nRelated Documents  Our QMS is indexed at the top level by our ‘Quality Management System \\nManual’, DEK -05:0069  \\nRelated Links  For users:                      http://dekdoc.dektech.inter nal/ \\nFor administrators:     http://alfresco.dektech.internal/page/site/quality -management -\\nsystem/documentlibrary', metadata={'source': '.DOCS/DEK Technologies Quality Policy.pdf', 'page': 0}),\n",
       " Document(page_content='Prepared: Support Function  Document no: DEK-23:0055    \\nApproved: Daniel Tedesco  Revision: A \\nSecurity Class: Internal   Date: 01/09/202 3 \\n Document Type: Policy  \\n \\n \\n \\nPage 1 of 2 This document is UNCONTROLLED when printed  DEK Technologies Vietnam New Team Kick Off Polic y \\n1 Purpose  \\nTo give members a chance to get  to know each other when a new team  is formed  in the current  or new \\nassignment.  \\n2 Effective Date  \\nThis version of the policy is effective from the 1st of September  2023. \\n3 Principles  \\nIt is important to know about our members in a new team  in the current or new assignment.   \\nThese cases below will not be valid:  \\n• Team split  in the same assignment.  \\n• Team names  change with current members.  \\nSome recommended team activities are:  \\n• Lunch  \\n• Dinner  \\n• Bowling  \\n• Karaoke  \\n• Night at the cinema  \\n• Escape room  \\n• etc. \\n4 Policy  \\nThe budget for  a new team kick off is 300 .000VND  per person .', metadata={'source': '.DOCS/DEK Technologies Vietnam New Team Kick Off Policy A.pdf', 'page': 0}),\n",
       " Document(page_content='• Lunch  \\n• Dinner  \\n• Bowling  \\n• Karaoke  \\n• Night at the cinema  \\n• Escape room  \\n• etc. \\n4 Policy  \\nThe budget for  a new team kick off is 300 .000VND  per person . \\nThe budget is only applied if a ll team member s attend  the kick off activity , i.e., if you have a five -person \\nteam but only four people join the activity , the budget is not approved.  \\nThe new team kick off activity must be organized within a month from the beginning date the new team \\nis formed, if not the budget is no longer approved.', metadata={'source': '.DOCS/DEK Technologies Vietnam New Team Kick Off Policy A.pdf', 'page': 0}),\n",
       " Document(page_content='Prepared: Support Function Document no: DEK-14:0123  \\nApproved: Daniel Tedesco Revision: C \\nSecurity Class: Internal  Date: 28/07/2020 \\n Document Type: Policy \\n \\n \\n \\nPage 1 of 2 This document is UNCONTROLLED when printed  DEK Technologies Vietnam Annual Trip Policy \\n1 Purpose \\nTo clearly define the expectations and behavior which allows members to have an enjoyable annual trip. \\n2 Effective Date \\nThis version of the policy is effective from the 1st of August 2020. \\n3 Principles \\nThe annual trip is: \\n\\uf0b7 A benefit for the members, a way to show appreciation to all members for their contribution \\nduring the year. \\n\\uf0b7 An opportunity to get to know everyone better in order to build closer relationships and team \\nwork. \\n4 Policy \\nAll members are encouraged to attend the annual trip; however, it is not a mandatory event. \\nSome events at the annual trip are mandatory, while others are voluntary to participate in. Members', metadata={'source': '.DOCS/DEK Technologies Vietnam Annual Trip Policy.pdf', 'page': 0}),\n",
       " Document(page_content='All members are encouraged to attend the annual trip; however, it is not a mandatory event. \\nSome events at the annual trip are mandatory, while others are voluntary to participate in. Members \\nmust be involved in all mandatory events. If a member is missing any mandatory event during the trip \\nwithout prior approval in writing, that member is responsible for paying all their related costs which \\ncannot be recovered. \\nThe annual trip will be for three days, two of which will be on the weekend and one on a \\nweekday/working-day. \\nFor members who do not attend the annual trip, the office will remain open on the weekday/working-\\nday of the annual trip, to allow them to work on that day. If a member not attending wishes to take the \\nwork day off, leave must be used. \\nA member who is registered to attend but then does not attend or participate, is responsible for paying \\nall their related costs which cannot be recovered.', metadata={'source': '.DOCS/DEK Technologies Vietnam Annual Trip Policy.pdf', 'page': 0}),\n",
       " Document(page_content='work day off, leave must be used. \\nA member who is registered to attend but then does not attend or participate, is responsible for paying \\nall their related costs which cannot be recovered. \\nAny additional expenses incurred by the company on behalf of a member, must be paid back in full by \\nthe member. e.g.  if a member chooses to change their return flight to another day.', metadata={'source': '.DOCS/DEK Technologies Vietnam Annual Trip Policy.pdf', 'page': 0}),\n",
       " Document(page_content='Prepared: Support Function Document no: DEK-20:0109  \\nApproved: Daniel Tedesco Revision: A \\nSecurity Class: Internal  Date: 30/09/2020 \\n Document Type: Policy \\n \\n \\n \\nPage 1 of 2 This document is UNCONTROLLED when printed  DEK Technologies Vietnam Health & Safety Policy \\n1 Purpose \\nTo define the Health and Safety guidelines, responsibilities and activities of DEK Technologies Vietnam \\nin order to ensure a safe workplace. \\n2 Effective Date \\nThis version of the policy is effective from the 1st of July 2020. \\n3 Principles \\nDEK Technologies Vietnam recognizes and accepts their duty to protect the health and safety of all \\nmembers and all visitors to the company, including contractors as well as any people from the public who \\nmight be affected by our operations.  \\n4 Policy \\nMembers will be provided with the equipment, information and training as is necessary to implement the \\npolicy and achieve the stated objective.', metadata={'source': '.DOCS/DEK Technologies Vietnam Health & Safety Policy.pdf', 'page': 0}),\n",
       " Document(page_content='might be affected by our operations.  \\n4 Policy \\nMembers will be provided with the equipment, information and training as is necessary to implement the \\npolicy and achieve the stated objective. \\nOnly authorized suppliers and members are allowed to access dangerous areas such as the power station, \\nelectricity hub, power generator, elevator machine room, air-conditioning units, building riser, server \\nrooms, and water station. The member and supplier’s staff must have a certified qualification to access \\nsuch areas. \\nSmoking is prohibited inside the office, including basements, balconies on level 5 & 7 and the roof top. \\nMembers are not allowed to access the billboard structure and the roof top. \\nMembers are not allowed to climb on the handrails of the balconies on level 5 & 7. \\nTo maintain a hygienic office fulltime cleaning services must be in place, including regular pest control \\nmeasures. Meals should not be consumed in the working area.', metadata={'source': '.DOCS/DEK Technologies Vietnam Health & Safety Policy.pdf', 'page': 0}),\n",
       " Document(page_content='To maintain a hygienic office fulltime cleaning services must be in place, including regular pest control \\nmeasures. Meals should not be consumed in the working area. \\nAlcohol consumption is not permitted during working hours. Alcohol maybe provided during work events \\nand parties; however, members need to drink responsibly to make sure that their behaviors will not \\nviolate the current Laws of Vietnam.  \\nElectrical equipment must be turned off when not in use.', metadata={'source': '.DOCS/DEK Technologies Vietnam Health & Safety Policy.pdf', 'page': 0}),\n",
       " Document(page_content='Prepared: Support Function  Document no: DEK-20:0077   \\nApproved: Daniel Tedesco  Revision: C \\nSecurity Class: Internal   Date: 17/5/202 1 \\n Document Type: Policy  \\n \\n \\n \\nPage 1 of 3 This document is UNCONTROLLED when printed  DEK Technologies Vietnam Work from Home  Polic y \\n1 Purpose  \\nTo clearly define the expectations and constraints  when working from home to  ensur e that the \\ncustomers’ expectations are always exceeded.  \\nThe Work from Home (WFH) policy  is intended to allow flexibility and to make DEK Technologies \\nVietna m an attractive  workplace.  \\n2 Effective Date  \\nThis version of the policy is effective from the 1st of June 2021. \\n3 Principles  \\nMembers  are encouraged to spend time with the team and should try to  balance to be in the office  in \\norder to support t eam events and company  activities  which take higher priority than WFH plan . \\nTherefore,  WFH plan  can be changed or cancelled in order to be in the office if necessary.', metadata={'source': '.DOCS/DEK Technologies Vietnam Work From Home Policy.pdf', 'page': 0}),\n",
       " Document(page_content='order to support t eam events and company  activities  which take higher priority than WFH plan . \\nTherefore,  WFH plan  can be changed or cancelled in order to be in the office if necessary.  \\nDEK Technologies  Vietnam  trusts all members to WFH  at a sustainable pace . \\nTeams should raise or escalate any i ssues if team members do not contribute well during WFH  or if \\nthings do no t work as expected.   \\nMembers  must understand , respect  and follow strictly DEK Vietnam ICT policy when WFH . \\nIf members  get a fever or a contagious disease  or unexpected health incidents , they should inform \\nteams, LMs, HR so that WFH can be considered .  \\nIt is encouraged that videos should be used in the meeting so as to maximize the discussion and \\ncommunication in the team.  \\nThere are also a few tips to help us WFH more effectively as follows:  \\n• Have a clear start time and end time for your work day \\n• Motivate yourself, think positively and set clear goals  to complete your tasks', metadata={'source': '.DOCS/DEK Technologies Vietnam Work From Home Policy.pdf', 'page': 0}),\n",
       " Document(page_content='• Have a clear start time and end time for your work day \\n• Motivate yourself, think positively and set clear goals  to complete your tasks  \\n• Control your social media  \\n• Actively and regularly get in contact with the team  \\n• Take a short break to keep you energized and focused  \\n• Use different features of Teams, e.g. note  taking, showing background effects, etc. in the \\nmeeting with the team  \\n• Reward yourself', metadata={'source': '.DOCS/DEK Technologies Vietnam Work From Home Policy.pdf', 'page': 0})]"
      ]
     },
     "execution_count": 11,
     "metadata": {},
     "output_type": "execute_result"
    }
   ],
   "source": [
    "text_splitter = RecursiveCharacterTextSplitter(\n",
    "    chunk_size=1000, chunk_overlap=200\n",
    ")\n",
    "chunks = text_splitter.split_documents(docs)\n",
    "chunks"
   ]
  },
  {
   "cell_type": "code",
   "execution_count": 13,
   "metadata": {},
   "outputs": [
    {
     "name": "stdout",
     "output_type": "stream",
     "text": [
      "{'source': '.DOCS/DEK Technologies Quality Policy.pdf', 'page': 0}\n",
      "{'source': '.DOCS/DEK Technologies Quality Policy.pdf', 'page': 0}\n",
      "{'source': '.DOCS/DEK Technologies Quality Policy.pdf', 'page': 0}\n",
      "{'source': '.DOCS/DEK Technologies Vietnam New Team Kick Off Policy A.pdf', 'page': 0}\n",
      "{'source': '.DOCS/DEK Technologies Vietnam New Team Kick Off Policy A.pdf', 'page': 0}\n",
      "{'source': '.DOCS/DEK Technologies Vietnam Annual Trip Policy.pdf', 'page': 0}\n",
      "{'source': '.DOCS/DEK Technologies Vietnam Annual Trip Policy.pdf', 'page': 0}\n",
      "{'source': '.DOCS/DEK Technologies Vietnam Annual Trip Policy.pdf', 'page': 0}\n",
      "{'source': '.DOCS/DEK Technologies Vietnam Health & Safety Policy.pdf', 'page': 0}\n",
      "{'source': '.DOCS/DEK Technologies Vietnam Health & Safety Policy.pdf', 'page': 0}\n",
      "{'source': '.DOCS/DEK Technologies Vietnam Health & Safety Policy.pdf', 'page': 0}\n",
      "{'source': '.DOCS/DEK Technologies Vietnam Work From Home Policy.pdf', 'page': 0}\n",
      "{'source': '.DOCS/DEK Technologies Vietnam Work From Home Policy.pdf', 'page': 0}\n",
      "{'source': '.DOCS/DEK Technologies Vietnam Work From Home Policy.pdf', 'page': 0}\n"
     ]
    }
   ],
   "source": [
    "for doc in chunks:\n",
    "    print(doc.metadata)"
   ]
  },
  {
   "cell_type": "code",
   "execution_count": 3,
   "metadata": {},
   "outputs": [
    {
     "ename": "NameError",
     "evalue": "name 'OllamaEmbeddings' is not defined",
     "output_type": "error",
     "traceback": [
      "\u001b[0;31m---------------------------------------------------------------------------\u001b[0m",
      "\u001b[0;31mNameError\u001b[0m                                 Traceback (most recent call last)",
      "Cell \u001b[0;32mIn[3], line 1\u001b[0m\n\u001b[0;32m----> 1\u001b[0m embeddings \u001b[38;5;241m=\u001b[39m \u001b[43mOllamaEmbeddings\u001b[49m(model\u001b[38;5;241m=\u001b[39m\u001b[38;5;124m\"\u001b[39m\u001b[38;5;124mphi3\u001b[39m\u001b[38;5;124m\"\u001b[39m)\n",
      "\u001b[0;31mNameError\u001b[0m: name 'OllamaEmbeddings' is not defined"
     ]
    }
   ],
   "source": [
    "embeddings = OllamaEmbeddings(model=\"phi3\")"
   ]
  },
  {
   "cell_type": "code",
   "execution_count": 1,
   "metadata": {},
   "outputs": [
    {
     "ename": "NameError",
     "evalue": "name 'chunks' is not defined",
     "output_type": "error",
     "traceback": [
      "\u001b[0;31m---------------------------------------------------------------------------\u001b[0m",
      "\u001b[0;31mNameError\u001b[0m                                 Traceback (most recent call last)",
      "Cell \u001b[0;32mIn[1], line 9\u001b[0m\n\u001b[1;32m      2\u001b[0m \u001b[38;5;28;01mfrom\u001b[39;00m \u001b[38;5;21;01mlangchain_community\u001b[39;00m\u001b[38;5;21;01m.\u001b[39;00m\u001b[38;5;21;01mvectorstores\u001b[39;00m\u001b[38;5;21;01m.\u001b[39;00m\u001b[38;5;21;01mchroma\u001b[39;00m \u001b[38;5;28;01mimport\u001b[39;00m Chroma\n\u001b[1;32m      4\u001b[0m setting \u001b[38;5;241m=\u001b[39m Settings(\n\u001b[1;32m      5\u001b[0m     anonymized_telemetry\u001b[38;5;241m=\u001b[39m\u001b[38;5;28;01mFalse\u001b[39;00m,\n\u001b[1;32m      6\u001b[0m     is_persistent\u001b[38;5;241m=\u001b[39m\u001b[38;5;28;01mTrue\u001b[39;00m,\n\u001b[1;32m      7\u001b[0m )\n\u001b[1;32m      8\u001b[0m Chroma\u001b[38;5;241m.\u001b[39mfrom_documents(\n\u001b[0;32m----> 9\u001b[0m     documents\u001b[38;5;241m=\u001b[39m\u001b[43mchunks\u001b[49m,\n\u001b[1;32m     10\u001b[0m     embedding\u001b[38;5;241m=\u001b[39membeddings,\n\u001b[1;32m     11\u001b[0m     client_settings\u001b[38;5;241m=\u001b[39msetting,\n\u001b[1;32m     12\u001b[0m     persist_directory\u001b[38;5;241m=\u001b[39m\u001b[38;5;124m'\u001b[39m\u001b[38;5;124m.OLLAMADB\u001b[39m\u001b[38;5;124m'\u001b[39m,\n\u001b[1;32m     13\u001b[0m )\n",
      "\u001b[0;31mNameError\u001b[0m: name 'chunks' is not defined"
     ]
    }
   ],
   "source": [
    "from chromadb.config import Settings\n",
    "from langchain_community.vectorstores.chroma import Chroma\n",
    "\n",
    "setting = Settings(\n",
    "    anonymized_telemetry=False,\n",
    "    is_persistent=True,\n",
    ")\n",
    "Chroma.from_documents(\n",
    "    documents=chunks,\n",
    "    embedding=embeddings,\n",
    "    client_settings=setting,\n",
    "    persist_directory='.OLLAMADB',\n",
    ")"
   ]
  },
  {
   "cell_type": "code",
   "execution_count": 2,
   "metadata": {},
   "outputs": [
    {
     "ename": "NameError",
     "evalue": "name 'embeddings' is not defined",
     "output_type": "error",
     "traceback": [
      "\u001b[0;31m---------------------------------------------------------------------------\u001b[0m",
      "\u001b[0;31mNameError\u001b[0m                                 Traceback (most recent call last)",
      "Cell \u001b[0;32mIn[2], line 3\u001b[0m\n\u001b[1;32m      1\u001b[0m vector_store \u001b[38;5;241m=\u001b[39m Chroma(\n\u001b[1;32m      2\u001b[0m     persist_directory\u001b[38;5;241m=\u001b[39m\u001b[38;5;124m'\u001b[39m\u001b[38;5;124m.OLLAMADB\u001b[39m\u001b[38;5;124m'\u001b[39m,\n\u001b[0;32m----> 3\u001b[0m     embedding_function\u001b[38;5;241m=\u001b[39m\u001b[43membeddings\u001b[49m,\n\u001b[1;32m      4\u001b[0m     client_settings\u001b[38;5;241m=\u001b[39msetting,\n\u001b[1;32m      5\u001b[0m )\n\u001b[1;32m      6\u001b[0m retriever \u001b[38;5;241m=\u001b[39m vector_store\u001b[38;5;241m.\u001b[39mas_retriever()\n",
      "\u001b[0;31mNameError\u001b[0m: name 'embeddings' is not defined"
     ]
    }
   ],
   "source": [
    "vector_store = Chroma(\n",
    "    persist_directory='.OLLAMADB',\n",
    "    embedding_function=embeddings,\n",
    "    client_settings=setting,\n",
    ")\n",
    "retriever = vector_store.as_retriever()"
   ]
  },
  {
   "cell_type": "code",
   "execution_count": 27,
   "metadata": {},
   "outputs": [
    {
     "name": "stdout",
     "output_type": "stream",
     "text": [
      "{'page': 0, 'source': '.DOCS/DEK Technologies Vietnam New Team Kick Off Policy A.pdf'}\n",
      "{'page': 0, 'source': '.DOCS/DEK Technologies Vietnam New Team Kick Off Policy A.pdf'}\n",
      "{'page': 0, 'source': '.DOCS/DEK Technologies Quality Policy.pdf'}\n",
      "{'page': 0, 'source': '.DOCS/DEK Technologies Quality Policy.pdf'}\n"
     ]
    }
   ],
   "source": [
    "result_docs = retriever.invoke(\"What should I do to be able to work from home?\")\n",
    "for doc in result_docs:\n",
    "    print(doc.metadata)"
   ]
  }
 ],
 "metadata": {
  "kernelspec": {
   "display_name": "rag",
   "language": "python",
   "name": "python3"
  },
  "language_info": {
   "codemirror_mode": {
    "name": "ipython",
    "version": 3
   },
   "file_extension": ".py",
   "mimetype": "text/x-python",
   "name": "python",
   "nbconvert_exporter": "python",
   "pygments_lexer": "ipython3",
   "version": "3.10.14"
  }
 },
 "nbformat": 4,
 "nbformat_minor": 2
}
