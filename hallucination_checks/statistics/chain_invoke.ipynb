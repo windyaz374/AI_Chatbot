{
 "cells": [
  {
   "cell_type": "code",
   "execution_count": 1,
   "metadata": {},
   "outputs": [],
   "source": [
    "import json\n",
    "import os\n",
    "from chromadb.config import Settings\n",
    "from langchain_community.chat_models import ChatOllama\n",
    "from langchain_chroma import Chroma\n",
    "from langchain.embeddings import HuggingFaceEmbeddings\n",
    "from langchain.prompts import PromptTemplate\n",
    "from langchain.schema.output_parser import StrOutputParser"
   ]
  },
  {
   "cell_type": "code",
   "execution_count": 2,
   "metadata": {},
   "outputs": [
    {
     "name": "stderr",
     "output_type": "stream",
     "text": [
      "/tmp/ipykernel_128527/1959779872.py:2: LangChainDeprecationWarning: The class `HuggingFaceEmbeddings` was deprecated in LangChain 0.2.2 and will be removed in 1.0. An updated version of the class exists in the :class:`~langchain-huggingface package and should be used instead. To use it run `pip install -U :class:`~langchain-huggingface` and import as `from :class:`~langchain_huggingface import HuggingFaceEmbeddings``.\n",
      "  embeddings = HuggingFaceEmbeddings(\n",
      "/home/hungcq/study/AI_Chatbot/venv/lib/python3.11/site-packages/sentence_transformers/cross_encoder/CrossEncoder.py:13: TqdmWarning: IProgress not found. Please update jupyter and ipywidgets. See https://ipywidgets.readthedocs.io/en/stable/user_install.html\n",
      "  from tqdm.autonotebook import tqdm, trange\n"
     ]
    }
   ],
   "source": [
    "# Initialize embeddings, vector store, and model\n",
    "embeddings = HuggingFaceEmbeddings(\n",
    "    model_name=\"dangvantuan/vietnamese-embedding\",\n",
    "    model_kwargs={\"device\": \"cuda\"},\n",
    ")\n",
    "\n",
    "setting = Settings(\n",
    "    anonymized_telemetry=False,\n",
    "    is_persistent=True,\n",
    ")\n",
    "\n",
    "vector_store = Chroma(\n",
    "    persist_directory='../../.DB_llama3',\n",
    "    embedding_function=embeddings,\n",
    "    client_settings=setting,\n",
    ")\n",
    "\n",
    "retriever = vector_store.as_retriever()\n",
    "\n",
    "model = ChatOllama(model=\"llama3\")"
   ]
  },
  {
   "cell_type": "code",
   "execution_count": 3,
   "metadata": {},
   "outputs": [
    {
     "data": {
      "text/plain": [
       "[Document(metadata={}, page_content='- Theo ông, đâu là những yếu tố trọng yếu giúp Đà Nẵng là điểm đến thu hút du khách\\ntrong và ngoài nước suốt thời gian qua? - Những năm qua, Đà Nẵng không chỉ đóng góp về lượng khách, còn trở thành một\\ntrong những thương hiệu du lịch gắn với Việt Nam, cả về tài nguyên, hạ tầng, hệ thống\\ndịch vụ, công tác phục vụ và môi trường điểm đến. Có 3 yếu tố quan trọng giúp Đà Nẵng đạt được thành công này.'),\n",
       " Document(metadata={}, page_content=\"'Du lịch Đà Nẵng theo hướng bền vững sẽ không lãng phí tài\\nnguyên'\\nTrên cơ sở tài nguyên, hạ tầng sẵn có, Đà Nẵng cần sự đồng hành của các nhà đầu tư\\nđủ tầm để phát triển theo hướng bền vững, theo ông Cao Trí Dũng, Chủ tịch Hiệp hội Du\\nlịch Đà Nẵng. Đà Nẵng đang được quy hoạch để có những khu du lịch tầm cỡ thế giới. 15 năm qua,\\nthành phố có bước nhảy vọt về phát triển du lịch, từ chỗ nghèo nàn thiếu thốn hạ tầng,\\ntrở thành một trong những điểm đến hút khách bậc nhất cả nước. Trong kế hoạch phát\\ntriển du lịch sắp tới, Đà Nẵng hướng tới mục tiêu bền vững, tận dụng triệt để tài nguyên\\nsẵn có.\"),\n",
       " Document(metadata={}, page_content='Đó cũng là những yếu tố tạo nên sự phát triển du lịch bền\\nvững cho mỗi địa phương. - Theo ông, làm thế nào để Đà Nẵng sớm sở hữu hình mẫu khu du lịch tầm cỡ thế giới? - Đây là một định hướng lớn của thành phố về phát triển du lịch và nằm trong quy\\nhoạch chung của điểm đến. Đà Nẵng sẽ có khu du lịch Ba Na Hills đẳng cấp thế giới,\\nhướng tới vượt qua Genting tại Malaysia. Điều này có cơ sở vì Bà Nà gần sân bay, đi lại\\nthuận tiện, phong cảnh tươi đẹp và diện tích không rộng bằng Genting.'),\n",
       " Document(metadata={}, page_content='Thời tiết dịp này tại Đà Nẵng trời nắng\\nđẹp, rất thuận lợi cho người dân và du khách tham quan, tắm biển, trải nghiệm các dịch\\nvụ, tham gia các hoạt động, sự kiện của thành phố. Đặc biệt, lượng khách đến Đà Nẵng\\nbằng đường sắt đạt khoảng 10.678 lượt, tăng mạnh 42,43% so với cùng kỳ năm trước.')]"
      ]
     },
     "execution_count": 3,
     "metadata": {},
     "output_type": "execute_result"
    }
   ],
   "source": [
    "docs = retriever.invoke(\"Đà Nẵng\")\n",
    "docs"
   ]
  },
  {
   "cell_type": "code",
   "execution_count": 4,
   "metadata": {},
   "outputs": [
    {
     "data": {
      "text/plain": [
       "[Document(metadata={}, page_content='Thế nhưng, hãng hàng không Qantas của Úc thậm chí còn không cho phép khách đi\\ndép trong phòng chờ, theo One Mile At A Time. Thật không may, việc bay lên trời mà không đi tất không chỉ bị coi là thô lỗ mà còn tiềm\\nẩn nguy cơ gây hại cho sức khỏe, bởi sàn máy bay rất bẩn. \"Tôi sẽ không bao giờ đi chân trần trên máy bay\", một tiếp viên hàng không kỳ cựu của\\nhãng hàng không lớn cho biết, theo WGN Morning News.'),\n",
       " Document(metadata={}, page_content='Lý do các hãng hàng không Mỹ cấm hành khách đi chân trần trên\\nmáy bay\\nHành khách đi chân trần trên máy bay ngày càng đông nhưng không phải tất cả các\\nhãng hàng không đều chấp nhận, nhiều hãng Mỹ cấm bay nếu khách không đi tất. Để lộ chân trần trên máy bay có thể khiến bạn bị \"đá\" khỏi một số hãng hàng không Mỹ. Định nghĩa \"chân trần\" bao gồm cả việc cởi tất khi đã lên máy bay.'),\n",
       " Document(metadata={}, page_content='Một số người ủng hộ\\nviệc đi máy bay không mang tất tuyên bố, việc \"bắt lỗi chân hành khách\" hay không lại\\ntùy thuộc vào tiếp viên hàng không đang làm nhiệm vụ. Trong khi đó, họ chỉ ra rằng nhiều hợp đồng vận chuyển của các hãng hàng không\\nkhông phải của Mỹ không bao gồm bất kỳ tham chiếu nào liên quan đến việc bay khi đi\\nchân trần.'),\n",
       " Document(metadata={}, page_content='Ví dụ, American Airlines là một trong số nhiều hãng hàng không coi việc không đi tất là\\nhành vi vi phạm quy định. Hợp đồng vận chuyển của hãng hàng không này buộc hành\\nkhách phải \"ăn mặc phù hợp\", đồng thời \"không được phép đi chân trần hoặc mặc quần\\náo phản cảm\". United Airlines cũng \"mong đợi\" hành khách tuân thủ quy định trên, phân loại hành\\nkhách đi chân trần là \"không mặc quần áo phù hợp\". Đây là lý do để \"đuổi\" khách khỏi\\nmáy bay theo hướng dẫn của hãng. Delta Airlines và Spirit Airlines cũng tuyên bố họ có quyền đuổi những hành khách\\nkhông tuân thủ chính sách đi tất của hãng.')]"
      ]
     },
     "execution_count": 4,
     "metadata": {},
     "output_type": "execute_result"
    }
   ],
   "source": [
    "docs = retriever.invoke(\"Tại sao không được đi chân trần trên máy bay?\")\n",
    "docs"
   ]
  },
  {
   "cell_type": "code",
   "execution_count": 5,
   "metadata": {},
   "outputs": [],
   "source": [
    "def format_markdown_line(string: str) -> str:\n",
    "    return f\"\\n{string}\\n\".replace(\"\\n\", \"\"\"\n",
    "\"\"\")\n",
    "\n",
    "def process_questions_from_json(json_path: str, output_md_file: str):\n",
    "    try:\n",
    "        # Step 1: Load questions from JSON file\n",
    "        with open(json_path, \"r\") as f:\n",
    "            questions_list = json.load(f)\n",
    "\n",
    "        # Step 2: Initialize a variable to store previous question's result\n",
    "        previous_response_content = \"\"\n",
    "\n",
    "        # Step 3: Loop through each question in the list\n",
    "        for index, question_data in enumerate(questions_list):\n",
    "            question = question_data.get(\"question\")\n",
    "\n",
    "            # Step 4: Retrieve the documents\n",
    "            retrieved_docs = retriever.invoke(question)\n",
    "            context = \"\\n\".join([doc.page_content for doc in retrieved_docs])\n",
    "\n",
    "            # If there's a previous question, add its result to the context\n",
    "            if question_data.get(\"is_next_question\") is True:\n",
    "                context += format_markdown_line(f\"Câu trả lời trước đó: {previous_response_content}\")\n",
    "\n",
    "            # Step 5: Generate the final prompt\n",
    "            prompt_template = PromptTemplate.from_template(\n",
    "                \"\"\"\n",
    "                <s> [INST] Bạn là trợ lý hữu ích, hãy trả lời các câu hỏi về các tài liệu tin tức đã nhập. \n",
    "                Chỉ sử dụng ngữ cảnh được cung cấp, không sử dụng bất kỳ thông tin nào ngoài ngữ cảnh này. \n",
    "                Nếu bạn không biết hoặc ngữ cảnh không liên quan tới câu hỏi, chỉ cần nói rằng bạn không biết. \n",
    "                Bạn chỉ được trả lời bằng tiếng Việt. \n",
    "                Các thuật ngữ, địa danh hay cụm từ ngôn ngữ khác có trong tài liệu ngữ cảnh hoặc trong câu hỏi thì không cần dịch sang tiếng Việt.\n",
    "                [/INST] </s> \n",
    "                [INST] Câu hỏi: {question} \n",
    "                Ngữ cảnh: {context} \n",
    "                Câu trả lời: [/INST]\n",
    "                \"\"\"\n",
    "            )\n",
    "            prompt = prompt_template.format(question=question, context=context)\n",
    "\n",
    "            # Step 6: Send the prompt to the model\n",
    "            response = model.invoke(prompt)\n",
    "\n",
    "            # Extract model's response content and retrieved document content\n",
    "            model_response_content = response.content\n",
    "            retrieved_docs_content = \"\".join([format_markdown_line(f\"* {doc.page_content}\") for doc in retrieved_docs])\n",
    "\n",
    "            # Step 7: Append results to markdown file\n",
    "            try:\n",
    "                with open(output_md_file, \"a\") as md_file:\n",
    "                    md_file.write(format_markdown_line(f\"## Câu hỏi #{index+1}: {question}\"))\n",
    "                    md_file.write(\n",
    "                        format_markdown_line(f\"**Câu trả lời:**\\n\\n{model_response_content}\")\n",
    "                    )\n",
    "                    md_file.write(\n",
    "                        format_markdown_line(\n",
    "                            f\"**Tài liệu được lấy ra:**\\n\\n{retrieved_docs_content}\"\n",
    "                        )\n",
    "                    )\n",
    "            except Exception as e:\n",
    "                print(f\"Error appending to markdown file: {e}\")\n",
    "                continue\n",
    "\n",
    "            # Step 8: Update previous response content for the next question\n",
    "            previous_response_content = model_response_content\n",
    "\n",
    "    except Exception as e:\n",
    "        print(f\"Error processing questions: {e}\")"
   ]
  },
  {
   "cell_type": "code",
   "execution_count": 6,
   "metadata": {},
   "outputs": [],
   "source": [
    "# Example usage\n",
    "json_path = 'travel_questions.json'\n",
    "output_md_file = 'travel_results.md'\n",
    "process_questions_from_json(json_path, output_md_file)"
   ]
  }
 ],
 "metadata": {
  "kernelspec": {
   "display_name": "venv",
   "language": "python",
   "name": "python3"
  },
  "language_info": {
   "codemirror_mode": {
    "name": "ipython",
    "version": 3
   },
   "file_extension": ".py",
   "mimetype": "text/x-python",
   "name": "python",
   "nbconvert_exporter": "python",
   "pygments_lexer": "ipython3",
   "version": "3.11.9"
  }
 },
 "nbformat": 4,
 "nbformat_minor": 2
}
