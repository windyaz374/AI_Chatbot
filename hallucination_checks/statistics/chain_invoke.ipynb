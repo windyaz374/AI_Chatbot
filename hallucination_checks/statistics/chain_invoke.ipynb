{
 "cells": [
  {
   "cell_type": "code",
   "execution_count": 8,
   "metadata": {},
   "outputs": [],
   "source": [
    "import sys\n",
    "\n",
    "sys.path.append(\"../..\")"
   ]
  },
  {
   "cell_type": "code",
   "execution_count": 9,
   "metadata": {},
   "outputs": [],
   "source": [
    "import json\n",
    "import os\n",
    "from chromadb.config import Settings\n",
    "from langchain_community.chat_models import ChatOllama\n",
    "from langchain_chroma import Chroma\n",
    "from langchain.embeddings import HuggingFaceEmbeddings\n",
    "from langchain.prompts import PromptTemplate\n",
    "from langchain.schema.output_parser import StrOutputParser\n",
    "from constants import MODELS"
   ]
  },
  {
   "cell_type": "code",
   "execution_count": 10,
   "metadata": {},
   "outputs": [
    {
     "name": "stderr",
     "output_type": "stream",
     "text": [
      "/home/hungcq/study/AI_Chatbot/venv/lib/python3.11/site-packages/transformers/tokenization_utils_base.py:1601: FutureWarning: `clean_up_tokenization_spaces` was not set. It will be set to `True` by default. This behavior will be depracted in transformers v4.45, and will be then set to `False` by default. For more details check this issue: https://github.com/huggingface/transformers/issues/31884\n",
      "  warnings.warn(\n"
     ]
    }
   ],
   "source": [
    "# Initialize embeddings, vector store, and model\n",
    "embeddings = HuggingFaceEmbeddings(\n",
    "    model_name=MODELS.get(\"embeddings\"),\n",
    "    model_kwargs={\"device\": \"cuda\"},\n",
    ")\n",
    "\n",
    "setting = Settings(\n",
    "    anonymized_telemetry=False,\n",
    "    is_persistent=True,\n",
    ")\n",
    "\n",
    "vector_store = Chroma(\n",
    "    persist_directory=\"../../.DB_llama3_dulich_dvt\",\n",
    "    embedding_function=embeddings,\n",
    "    client_settings=setting,\n",
    ")\n",
    "\n",
    "retriever = vector_store.as_retriever()\n",
    "\n",
    "model = ChatOllama(model=MODELS.get(\"main_llm\"))"
   ]
  },
  {
   "cell_type": "code",
   "execution_count": 11,
   "metadata": {},
   "outputs": [
    {
     "data": {
      "text/plain": [
       "[Document(metadata={'Author': '(anonymous)', 'CreationDate': \"D:20240909103122-07'00'\", 'Creator': '(unspecified)', 'Keywords': '', 'ModDate': \"D:20240909103122-07'00'\", 'Producer': 'ReportLab PDF Library - www.reportlab.com', 'Subject': '(unspecified)', 'Title': '(anonymous)', 'Trapped': 'False', 'document_name': '/home/hungcq/study/AI_Chatbot/.DOCS/thanhnien_travel_articles.pdf', 'file_path': '/home/hungcq/study/AI_Chatbot/.DOCS/thanhnien_travel_articles.pdf', 'page': 24, 'page_index': 24, 'source': '/home/hungcq/study/AI_Chatbot/.DOCS/thanhnien_travel_articles.pdf', 'topic': 'du lịch', 'total_pages': 64}, page_content='Thời tiết dịp này tại Đà Nẵng trời nắng\\nđẹp, rất thuận lợi cho người dân và du khách tham quan, tắm biển, trải nghiệm các dịch\\nvụ, tham gia các hoạt động, sự kiện của thành phố. Đặc biệt, lượng khách đến Đà Nẵng\\nbằng đường sắt đạt khoảng 10.678 lượt, tăng mạnh 42,43% so với cùng kỳ năm trước.'),\n",
       " Document(metadata={'Author': '(anonymous)', 'CreationDate': \"D:20240902225751-07'00'\", 'Creator': '(unspecified)', 'Keywords': '', 'ModDate': \"D:20240902225751-07'00'\", 'Producer': 'ReportLab PDF Library - www.reportlab.com', 'Subject': '(unspecified)', 'Title': '(anonymous)', 'Trapped': 'False', 'document_name': '/home/hungcq/study/AI_Chatbot/.DOCS/vnexpress_travel_articles.pdf', 'file_path': '/home/hungcq/study/AI_Chatbot/.DOCS/vnexpress_travel_articles.pdf', 'page': 225, 'page_index': 225, 'source': '/home/hungcq/study/AI_Chatbot/.DOCS/vnexpress_travel_articles.pdf', 'topic': 'du lịch', 'total_pages': 250}, page_content='- Theo ông, đâu là những yếu tố trọng yếu giúp Đà Nẵng là điểm đến thu hút du khách\\ntrong và ngoài nước suốt thời gian qua? - Những năm qua, Đà Nẵng không chỉ đóng góp về lượng khách, còn trở thành một\\ntrong những thương hiệu du lịch gắn với Việt Nam, cả về tài nguyên, hạ tầng, hệ thống\\ndịch vụ, công tác phục vụ và môi trường điểm đến. Có 3 yếu tố quan trọng giúp Đà Nẵng đạt được thành công này.'),\n",
       " Document(metadata={'Author': '(anonymous)', 'CreationDate': \"D:20240902225751-07'00'\", 'Creator': '(unspecified)', 'Keywords': '', 'ModDate': \"D:20240902225751-07'00'\", 'Producer': 'ReportLab PDF Library - www.reportlab.com', 'Subject': '(unspecified)', 'Title': '(anonymous)', 'Trapped': 'False', 'document_name': '/home/hungcq/study/AI_Chatbot/.DOCS/vnexpress_travel_articles.pdf', 'file_path': '/home/hungcq/study/AI_Chatbot/.DOCS/vnexpress_travel_articles.pdf', 'page': 183, 'page_index': 183, 'source': '/home/hungcq/study/AI_Chatbot/.DOCS/vnexpress_travel_articles.pdf', 'topic': 'du lịch', 'total_pages': 250}, page_content='Lý do khách quốc tế chọn Ba Na Hills khi đến Đà Nẵng\\nĐà NẵngSun World Ba Na Hills thu hút đông đảo du khách quốc tế bởi khí hậu mát mẻ,\\nhoạt động giải trí luôn được làm mới, nhiều điểm check-in và ẩm thực độc đáo. Theo số liệu của Cục Thống kê TP Đà Nẵng, thành phố đón hơn 2 triệu lượt khách quốc\\ntế trong 6 tháng đầu năm. Trong đó, khu du lịch Sun World Ba Na Hills cho biết, lượt\\nkhách quốc tế đi Bà Nà khi tới Đà Nẵng chiếm 70%. Đa số du khách quốc tế nhận định Bà Nà là \"thiên đường ôn đới\" tại miền nhiệt đới, giúp\\nhọ tận hưởng không khí mát lạnh suốt bốn mùa. \"Bà Nà với gia đình tôi như một xứ sở\\ncổ tích với Cầu Vàng, những lâu đài đầy màu sắc...'),\n",
       " Document(metadata={'Author': '(anonymous)', 'CreationDate': \"D:20240902225751-07'00'\", 'Creator': '(unspecified)', 'Keywords': '', 'ModDate': \"D:20240902225751-07'00'\", 'Producer': 'ReportLab PDF Library - www.reportlab.com', 'Subject': '(unspecified)', 'Title': '(anonymous)', 'Trapped': 'False', 'document_name': '/home/hungcq/study/AI_Chatbot/.DOCS/vnexpress_travel_articles.pdf', 'file_path': '/home/hungcq/study/AI_Chatbot/.DOCS/vnexpress_travel_articles.pdf', 'page': 225, 'page_index': 225, 'source': '/home/hungcq/study/AI_Chatbot/.DOCS/vnexpress_travel_articles.pdf', 'topic': 'du lịch', 'total_pages': 250}, page_content=\"'Du lịch Đà Nẵng theo hướng bền vững sẽ không lãng phí tài\\nnguyên'\\nTrên cơ sở tài nguyên, hạ tầng sẵn có, Đà Nẵng cần sự đồng hành của các nhà đầu tư\\nđủ tầm để phát triển theo hướng bền vững, theo ông Cao Trí Dũng, Chủ tịch Hiệp hội Du\\nlịch Đà Nẵng. Đà Nẵng đang được quy hoạch để có những khu du lịch tầm cỡ thế giới. 15 năm qua,\\nthành phố có bước nhảy vọt về phát triển du lịch, từ chỗ nghèo nàn thiếu thốn hạ tầng,\\ntrở thành một trong những điểm đến hút khách bậc nhất cả nước. Trong kế hoạch phát\\ntriển du lịch sắp tới, Đà Nẵng hướng tới mục tiêu bền vững, tận dụng triệt để tài nguyên\\nsẵn có.\")]"
      ]
     },
     "execution_count": 11,
     "metadata": {},
     "output_type": "execute_result"
    }
   ],
   "source": [
    "docs = retriever.invoke(\"Đà Nẵng\")\n",
    "docs"
   ]
  },
  {
   "cell_type": "code",
   "execution_count": 12,
   "metadata": {},
   "outputs": [
    {
     "data": {
      "text/plain": [
       "[Document(metadata={'Author': '(anonymous)', 'CreationDate': \"D:20240909103122-07'00'\", 'Creator': '(unspecified)', 'Keywords': '', 'ModDate': \"D:20240909103122-07'00'\", 'Producer': 'ReportLab PDF Library - www.reportlab.com', 'Subject': '(unspecified)', 'Title': '(anonymous)', 'Trapped': 'False', 'document_name': '/home/hungcq/study/AI_Chatbot/.DOCS/thanhnien_travel_articles.pdf', 'file_path': '/home/hungcq/study/AI_Chatbot/.DOCS/thanhnien_travel_articles.pdf', 'page': 0, 'page_index': 0, 'source': '/home/hungcq/study/AI_Chatbot/.DOCS/thanhnien_travel_articles.pdf', 'topic': 'du lịch', 'total_pages': 64}, page_content='Lý do các hãng hàng không Mỹ cấm hành khách đi chân trần trên\\nmáy bay\\nHành khách đi chân trần trên máy bay ngày càng đông nhưng không phải tất cả các\\nhãng hàng không đều chấp nhận, nhiều hãng Mỹ cấm bay nếu khách không đi tất. Để lộ chân trần trên máy bay có thể khiến bạn bị \"đá\" khỏi một số hãng hàng không Mỹ. Định nghĩa \"chân trần\" bao gồm cả việc cởi tất khi đã lên máy bay.'),\n",
       " Document(metadata={'Author': '(anonymous)', 'CreationDate': \"D:20240909103122-07'00'\", 'Creator': '(unspecified)', 'Keywords': '', 'ModDate': \"D:20240909103122-07'00'\", 'Producer': 'ReportLab PDF Library - www.reportlab.com', 'Subject': '(unspecified)', 'Title': '(anonymous)', 'Trapped': 'False', 'document_name': '/home/hungcq/study/AI_Chatbot/.DOCS/thanhnien_travel_articles.pdf', 'file_path': '/home/hungcq/study/AI_Chatbot/.DOCS/thanhnien_travel_articles.pdf', 'page': 0, 'page_index': 0, 'source': '/home/hungcq/study/AI_Chatbot/.DOCS/thanhnien_travel_articles.pdf', 'topic': 'du lịch', 'total_pages': 64}, page_content='Các chuyên gia về chuyến bay trên diễn đàn hàng không One Mile At A Time lập luận\\nquy định cấm chân trần \"không chỉ có nghĩa là bạn phải đi giày khi lên máy bay, nhưng\\nthực tế là bạn cần phải đi giày\". Suy cho cùng, lệnh cấm quần áo phản cảm không chỉ\\náp dụng khi bạn lên máy bay.'),\n",
       " Document(metadata={'Author': '(anonymous)', 'CreationDate': \"D:20240909103122-07'00'\", 'Creator': '(unspecified)', 'Keywords': '', 'ModDate': \"D:20240909103122-07'00'\", 'Producer': 'ReportLab PDF Library - www.reportlab.com', 'Subject': '(unspecified)', 'Title': '(anonymous)', 'Trapped': 'False', 'document_name': '/home/hungcq/study/AI_Chatbot/.DOCS/thanhnien_travel_articles.pdf', 'file_path': '/home/hungcq/study/AI_Chatbot/.DOCS/thanhnien_travel_articles.pdf', 'page': 0, 'page_index': 0, 'source': '/home/hungcq/study/AI_Chatbot/.DOCS/thanhnien_travel_articles.pdf', 'topic': 'du lịch', 'total_pages': 64}, page_content='Thế nhưng, hãng hàng không Qantas của Úc thậm chí còn không cho phép khách đi\\ndép trong phòng chờ, theo One Mile At A Time. Thật không may, việc bay lên trời mà không đi tất không chỉ bị coi là thô lỗ mà còn tiềm\\nẩn nguy cơ gây hại cho sức khỏe, bởi sàn máy bay rất bẩn. \"Tôi sẽ không bao giờ đi chân trần trên máy bay\", một tiếp viên hàng không kỳ cựu của\\nhãng hàng không lớn cho biết, theo WGN Morning News.'),\n",
       " Document(metadata={'Author': '(anonymous)', 'CreationDate': \"D:20240902225751-07'00'\", 'Creator': '(unspecified)', 'Keywords': '', 'ModDate': \"D:20240902225751-07'00'\", 'Producer': 'ReportLab PDF Library - www.reportlab.com', 'Subject': '(unspecified)', 'Title': '(anonymous)', 'Trapped': 'False', 'document_name': '/home/hungcq/study/AI_Chatbot/.DOCS/vnexpress_travel_articles.pdf', 'file_path': '/home/hungcq/study/AI_Chatbot/.DOCS/vnexpress_travel_articles.pdf', 'page': 120, 'page_index': 120, 'source': '/home/hungcq/study/AI_Chatbot/.DOCS/vnexpress_travel_articles.pdf', 'topic': 'du lịch', 'total_pages': 250}, page_content='Đi chân trần vào nhà vệ sinh\\nNhà vệ sinh là một trong những nơi có nhiều vi khuẩn nhất trên máy bay. Do đó, hành\\nkhách không nên đi chân trần vào bên trong vì không ai đảm bảo rằng các chất lỏng\\nvương vãi trên sàn chỉ đơn giản là nước. Nếu bạn đi tất vào trong đó, tất của bạn sẽ bị\\nướt và dính bẩn.')]"
      ]
     },
     "execution_count": 12,
     "metadata": {},
     "output_type": "execute_result"
    }
   ],
   "source": [
    "docs = retriever.invoke(\"Tại sao không được đi chân trần trên máy bay?\")\n",
    "docs"
   ]
  },
  {
   "cell_type": "code",
   "execution_count": 13,
   "metadata": {},
   "outputs": [],
   "source": [
    "def format_markdown_line(string: str) -> str:\n",
    "    return f\"\\n{string}\\n\".replace(\"\\n\", \"\"\"\n",
    "\"\"\")\n",
    "\n",
    "def process_questions_from_json(json_path: str, output_md_file: str):\n",
    "    try:\n",
    "        # Step 1: Load questions from JSON file\n",
    "        with open(json_path, \"r\") as f:\n",
    "            questions_list = json.load(f)\n",
    "\n",
    "        # Step 2: Initialize a variable to store previous question's result\n",
    "        previous_response_content = \"\"\n",
    "\n",
    "        # Step 3: Loop through each question in the list\n",
    "        for index, question_data in enumerate(questions_list):\n",
    "            question = question_data.get(\"question\")\n",
    "\n",
    "            # Step 4: Retrieve the documents\n",
    "            retrieved_docs = retriever.invoke(question)\n",
    "            context = \"\\n\".join([doc.page_content for doc in retrieved_docs])\n",
    "\n",
    "            # If there's a previous question, add its result to the context\n",
    "            if question_data.get(\"is_next_question\") is True:\n",
    "                context += format_markdown_line(f\"Câu trả lời trước đó: {previous_response_content}\")\n",
    "\n",
    "            # Step 5: Generate the final prompt\n",
    "            prompt_template = PromptTemplate.from_template(\n",
    "                \"\"\"\n",
    "                <s> [INST] Bạn là trợ lý hữu ích, hãy trả lời các câu hỏi về các tài liệu tin tức đã nhập. \n",
    "                Chỉ sử dụng ngữ cảnh được cung cấp, không sử dụng bất kỳ thông tin nào ngoài ngữ cảnh này. \n",
    "                Nếu bạn không biết hoặc ngữ cảnh không liên quan tới câu hỏi, chỉ cần nói rằng bạn không biết. \n",
    "                Bạn chỉ được trả lời bằng tiếng Việt. \n",
    "                Các thuật ngữ, địa danh hay cụm từ ngôn ngữ khác có trong tài liệu ngữ cảnh hoặc trong câu hỏi thì không cần dịch sang tiếng Việt.\n",
    "                [/INST] </s> \n",
    "                [INST] Câu hỏi: {question} \n",
    "                Ngữ cảnh: {context} \n",
    "                Câu trả lời: [/INST]\n",
    "                \"\"\"\n",
    "            )\n",
    "            prompt = prompt_template.format(question=question, context=context)\n",
    "\n",
    "            # Step 6: Send the prompt to the model\n",
    "            response = model.invoke(prompt)\n",
    "\n",
    "            # Extract model's response content and retrieved document content\n",
    "            model_response_content = response.content\n",
    "            retrieved_docs_content = \"\".join([format_markdown_line(f\"* {doc.page_content}\") for doc in retrieved_docs])\n",
    "\n",
    "            # Step 7: Append results to markdown file\n",
    "            try:\n",
    "                with open(output_md_file, \"a\") as md_file:\n",
    "                    md_file.write(format_markdown_line(f\"## Câu hỏi #{index+1}: {question}\"))\n",
    "                    md_file.write(\n",
    "                        format_markdown_line(f\"**Câu trả lời:**\\n\\n{model_response_content}\")\n",
    "                    )\n",
    "                    md_file.write(\n",
    "                        format_markdown_line(\n",
    "                            f\"**Tài liệu được lấy ra:**\\n\\n{retrieved_docs_content}\"\n",
    "                        )\n",
    "                    )\n",
    "            except Exception as e:\n",
    "                print(f\"Error appending to markdown file: {e}\")\n",
    "                continue\n",
    "\n",
    "            # Step 8: Update previous response content for the next question\n",
    "            previous_response_content = model_response_content\n",
    "\n",
    "    except Exception as e:\n",
    "        print(f\"Error processing questions: {e}\")"
   ]
  },
  {
   "cell_type": "code",
   "execution_count": 14,
   "metadata": {},
   "outputs": [],
   "source": [
    "# Example usage\n",
    "json_path = 'travel_questions.json'\n",
    "output_md_file = 'travel_results_1.md'\n",
    "process_questions_from_json(json_path, output_md_file)"
   ]
  }
 ],
 "metadata": {
  "kernelspec": {
   "display_name": "venv",
   "language": "python",
   "name": "python3"
  },
  "language_info": {
   "codemirror_mode": {
    "name": "ipython",
    "version": 3
   },
   "file_extension": ".py",
   "mimetype": "text/x-python",
   "name": "python",
   "nbconvert_exporter": "python",
   "pygments_lexer": "ipython3",
   "version": "3.11.9"
  }
 },
 "nbformat": 4,
 "nbformat_minor": 2
}
